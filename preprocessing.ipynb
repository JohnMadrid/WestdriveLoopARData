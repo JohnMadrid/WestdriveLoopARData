{
 "cells": [
  {
   "cell_type": "markdown",
   "source": [
    "# LoopAR project:\n",
    "## 1. Data preprocessing"
   ],
   "metadata": {
    "collapsed": false
   },
   "id": "e52c713762551889"
  },
  {
   "cell_type": "code",
   "execution_count": 70,
   "id": "initial_id",
   "metadata": {
    "collapsed": true,
    "ExecuteTime": {
     "end_time": "2024-03-19T23:42:31.865979Z",
     "start_time": "2024-03-19T23:42:31.862102Z"
    }
   },
   "outputs": [],
   "source": [
    "import warnings\n",
    "\n",
    "import pathos.pools\n",
    "\n",
    "warnings.simplefilter(action='ignore', category=FutureWarning)\n",
    "\n",
    "import json\n",
    "import itertools\n",
    "import os\n",
    "import math\n",
    "from functools import partial\n",
    "from ast import literal_eval\n",
    "import pandas as pd\n",
    "import dask.dataframe as dd\n",
    "# import dataframe_image as dfi\n",
    "import numpy as np\n",
    "from numpy import dtype\n",
    "\n",
    "import seaborn as sns\n",
    "import matplotlib.gridspec as gridspec\n",
    "import matplotlib.pyplot as plt\n",
    "from matplotlib.ticker import FormatStrFormatter\n",
    "from matplotlib import patches\n",
    "from scipy.signal import find_peaks\n",
    "from IPython.display import display\n",
    "from tqdm.notebook import tqdm"
   ]
  },
  {
   "cell_type": "markdown",
   "source": [
    "## 1.1 Load data"
   ],
   "metadata": {
    "collapsed": false
   },
   "id": "44c4ae9607ed33f8"
  },
  {
   "cell_type": "code",
   "outputs": [],
   "source": [
    "def get_filename_as_parts(filename):\n",
    "    # Split out parts of file name without .txt ending\n",
    "    return filename.split(\".\")[0].split(\"_\")\n",
    "    \n",
    "def analyze_folder(folder_path, target_id = '', file_type='txt'):\n",
    "    \"\"\"\n",
    "    Given a folder path, identifies all .txt files, splits their names by '_',\n",
    "    and returns a set of unique IDs extracted from the first part of each file name.\n",
    "    \"\"\"\n",
    "    unique_ids = set() # Initialize an empty set to store unique IDs\n",
    "    files_of_interest = [f for f in os.listdir(folder_path) if f.lower().endswith('.'+file_type)]\n",
    "    matching_files = []\n",
    "    \n",
    "    # List all .txt files in the specified folder\n",
    "    if target_id != '':\n",
    "        print(\"Matching files:\")\n",
    "    for filename in files_of_interest:\n",
    "        parts = get_filename_as_parts(filename)\n",
    "        if len(parts) > 0:\n",
    "            unique_ids.add(parts[0])  # Add the first part to the set\n",
    "        if target_id in parts:\n",
    "            print(parts)\n",
    "            matching_files.append(filename)\n",
    "        \n",
    "    return unique_ids, matching_files if target_id != '' else files_of_interest"
   ],
   "metadata": {
    "collapsed": false,
    "ExecuteTime": {
     "end_time": "2024-03-19T23:42:32.624242Z",
     "start_time": "2024-03-19T23:42:32.622263Z"
    }
   },
   "id": "e5a6cc2a4dc5f61",
   "execution_count": 71
  },
  {
   "cell_type": "code",
   "outputs": [],
   "source": [
    "# Set folders\n",
    "raw_folder_path = \"Data/0_Raw/Eyetracking/\"  # Replace with your actual folder path\n",
    "processed_folder_path = \"Data/1_Preprocessed/Eyetracking/\"\n",
    "# extracted_folder_path = \"Data/2_Extracted/\""
   ],
   "metadata": {
    "collapsed": false,
    "ExecuteTime": {
     "end_time": "2024-03-19T23:42:33.041387Z",
     "start_time": "2024-03-19T23:42:33.038233Z"
    }
   },
   "id": "83bc8cbd2fc6dc77",
   "execution_count": 72
  },
  {
   "cell_type": "code",
   "outputs": [
    {
     "name": "stdout",
     "output_type": "stream",
     "text": [
      "Total unique IDs found in Data/0_Raw/Eyetracking/ ending with .txt files: 255 with a total of 1106 files\n"
     ]
    },
    {
     "data": {
      "text/plain": "'ff0cb5fdc1884204937eca64b52ee041'"
     },
     "execution_count": 73,
     "metadata": {},
     "output_type": "execute_result"
    }
   ],
   "source": [
    "# Example usage:\n",
    "ids, matching_files_list = analyze_folder(raw_folder_path)\n",
    "\n",
    "print(f\"Total unique IDs found in {raw_folder_path} ending with .txt files: {len(ids)} with a total of {len(matching_files_list)} files\")\n",
    "list(ids)[0]"
   ],
   "metadata": {
    "collapsed": false,
    "ExecuteTime": {
     "end_time": "2024-03-19T23:42:33.379638Z",
     "start_time": "2024-03-19T23:42:33.371279Z"
    }
   },
   "id": "8cbbc490ffb7936a",
   "execution_count": 73
  },
  {
   "cell_type": "code",
   "outputs": [
    {
     "name": "stdout",
     "output_type": "stream",
     "text": [
      "Matching files:\n",
      "['39e5235b13274feb88430f08f3cd5369', 'EyeTracking', 'MountainRoad']\n",
      "['39e5235b13274feb88430f08f3cd5369', 'EyeTracking', 'Westbrueck']\n"
     ]
    },
    {
     "data": {
      "text/plain": "['39e5235b13274feb88430f08f3cd5369_EyeTracking_MountainRoad.txt',\n '39e5235b13274feb88430f08f3cd5369_EyeTracking_Westbrueck.txt']"
     },
     "execution_count": 74,
     "metadata": {},
     "output_type": "execute_result"
    }
   ],
   "source": [
    "target_id = '39e5235b13274feb88430f08f3cd5369'  # Replace with the desired ID\n",
    "_, matching_files_list = analyze_folder(raw_folder_path, target_id)\n",
    "\n",
    "matching_files_list"
   ],
   "metadata": {
    "collapsed": false,
    "ExecuteTime": {
     "end_time": "2024-03-19T23:42:33.759169Z",
     "start_time": "2024-03-19T23:42:33.750228Z"
    }
   },
   "id": "96bd5a0afb5a33a9",
   "execution_count": 74
  },
  {
   "cell_type": "code",
   "outputs": [],
   "source": [
    "# Flatten the nested dictionaries\n",
    "def flatten_dict(d, parent_key='', sep='_'):\n",
    "    items = []\n",
    "    for k, v in d.items():\n",
    "        new_key = f\"{parent_key}{sep}{k}\" if parent_key else k\n",
    "        if isinstance(v, dict):\n",
    "            items.extend(flatten_dict(v, new_key, sep=sep).items())\n",
    "        else:\n",
    "            items.append((new_key, v))\n",
    "    return dict(items)"
   ],
   "metadata": {
    "collapsed": false,
    "ExecuteTime": {
     "end_time": "2024-03-19T23:42:34.262536Z",
     "start_time": "2024-03-19T23:42:34.259582Z"
    }
   },
   "id": "81d6b94ab1327a27",
   "execution_count": 75
  },
  {
   "cell_type": "code",
   "outputs": [],
   "source": [
    "# Set the default distance between player and object if none can be calculated\n",
    "max_distance = 9999999\n",
    "number_of_closest_hit_objects = 5\n",
    "\n",
    "# Calculates the distance between the player and an object\n",
    "def distance(playerX, playerY, playerZ, objectX, objectY, objectZ):\n",
    "    global max_distance\n",
    "    if (objectX is None or objectY is None or objectZ is None or \n",
    "        playerX is None or playerY is None or playerZ is None):\n",
    "        return pd.Series([max_distance])\n",
    "    else:\n",
    "        return pd.Series([math.sqrt((objectX - playerX)**2 + (objectY - playerY)**2 + (objectZ - playerZ)**2)])\n",
    "\n",
    "column_names = []\n",
    "# Initialize column names -- was a try for using apply with Dask, but does not work\n",
    "# column_names = ['uid', 'UnixTimeStamp', 'ObjectName_0', 'HitObjectPosition_x_0', 'HitObjectPosition_y_0', 'HitObjectPosition_z_0', 'HitPointOnObject_x_0', 'HitPointOnObject_y_0', 'HitPointOnObject_z_0', 'distanceToPlayer_0', 'ObjectName_1', 'HitObjectPosition_x_1', 'HitObjectPosition_y_1', 'HitObjectPosition_z_1', 'HitPointOnObject_x_1', 'HitPointOnObject_y_1', 'HitPointOnObject_z_1', 'distanceToPlayer_1', 'ObjectName_2', 'HitObjectPosition_x_2', 'HitObjectPosition_y_2', 'HitObjectPosition_z_2', 'HitPointOnObject_x_2', 'HitPointOnObject_y_2', 'HitPointOnObject_z_2', 'distanceToPlayer_2', 'ObjectName_3', 'HitObjectPosition_x_3', 'HitObjectPosition_y_3', 'HitObjectPosition_z_3', 'HitPointOnObject_x_3', 'HitPointOnObject_y_3', 'HitPointOnObject_z_3', 'distanceToPlayer_3', 'ObjectName_4', 'HitObjectPosition_x_4', 'HitObjectPosition_y_4', 'HitObjectPosition_z_4', 'HitPointOnObject_x_4', 'HitPointOnObject_y_4', 'HitPointOnObject_z_4', 'distanceToPlayer_4']\n",
    "# \n",
    "# column_dict = {'uid': dtype('O'),\n",
    "#  'UnixTimeStamp': dtype('float64'),\n",
    "#  'ObjectName_0': dtype('O'),\n",
    "#  'HitObjectPosition_x_0': dtype('float64'),\n",
    "#  'HitObjectPosition_y_0': dtype('float64'),\n",
    "#  'HitObjectPosition_z_0': dtype('float64'),\n",
    "#  'HitPointOnObject_x_0': dtype('float64'),\n",
    "#  'HitPointOnObject_y_0': dtype('float64'),\n",
    "#  'HitPointOnObject_z_0': dtype('float64'),\n",
    "#  'distanceToPlayer_0': dtype('float64'),\n",
    "#  'ObjectName_1': dtype('O'),\n",
    "#  'HitObjectPosition_x_1': dtype('float64'),\n",
    "#  'HitObjectPosition_y_1': dtype('float64'),\n",
    "#  'HitObjectPosition_z_1': dtype('float64'),\n",
    "#  'HitPointOnObject_x_1': dtype('float64'),\n",
    "#  'HitPointOnObject_y_1': dtype('float64'),\n",
    "#  'HitPointOnObject_z_1': dtype('float64'),\n",
    "#  'distanceToPlayer_1': dtype('float64'),\n",
    "#  'ObjectName_2': dtype('O'),\n",
    "#  'HitObjectPosition_x_2': dtype('float64'),\n",
    "#  'HitObjectPosition_y_2': dtype('float64'),\n",
    "#  'HitObjectPosition_z_2': dtype('float64'),\n",
    "#  'HitPointOnObject_x_2': dtype('float64'),\n",
    "#  'HitPointOnObject_y_2': dtype('float64'),\n",
    "#  'HitPointOnObject_z_2': dtype('float64'),\n",
    "#  'distanceToPlayer_2': dtype('float64'),\n",
    "#  'ObjectName_3': dtype('O'),\n",
    "#  'HitObjectPosition_x_3': dtype('float64'),\n",
    "#  'HitObjectPosition_y_3': dtype('float64'),\n",
    "#  'HitObjectPosition_z_3': dtype('float64'),\n",
    "#  'HitPointOnObject_x_3': dtype('float64'),\n",
    "#  'HitPointOnObject_y_3': dtype('float64'),\n",
    "#  'HitPointOnObject_z_3': dtype('float64'),\n",
    "#  'distanceToPlayer_3': dtype('float64'),\n",
    "#  'ObjectName_4': dtype('O'),\n",
    "#  'HitObjectPosition_x_4': dtype('float64'),\n",
    "#  'HitObjectPosition_y_4': dtype('float64'),\n",
    "#  'HitObjectPosition_z_4': dtype('float64'),\n",
    "#  'HitPointOnObject_x_4': dtype('float64'),\n",
    "#  'HitPointOnObject_y_4': dtype('float64'),\n",
    "#  'HitPointOnObject_z_4': dtype('float64'),\n",
    "#  'distanceToPlayer_4': dtype('float64')}\n",
    "\n",
    "# def all_hit_objects(uid, time, hitObjectList, posX, posY, posZ):\n",
    "#     global column_names, max_distance\n",
    "# \n",
    "#     # If no hit objects exist, return an empty dataframe\n",
    "#     if len(hitObjectList) == 0:\n",
    "#         return pd.DataFrame()\n",
    "#     \n",
    "#     # Create a dataframe from the hit object list JSON, if it is of type string, evaluate first\n",
    "#     hitObjectList = literal_eval(hitObjectList) if isinstance(hitObjectList, str) else hitObjectList\n",
    "#     allHitObjectDataFrame = pd.concat([pd.DataFrame(columns=['uid', 'UnixTimeStamp']), pd.DataFrame([flatten_dict(d) for d in hitObjectList])], axis=1)\n",
    "#     allHitObjectDataFrame['uid'] = uid # add column of player UID for later merge back\n",
    "#     allHitObjectDataFrame['UnixTimeStamp'] = time # add column of player time for later merge back\n",
    "#     \n",
    "#     # Calculate the distance to the player for each hit object, if JSON is empty, return max distance\n",
    "#     allHitObjectDataFrame['distanceToPlayer'] = allHitObjectDataFrame.apply(lambda row: distance(posX, posY, posZ, row['HitObjectPosition_x'], row['HitObjectPosition_y'], row['HitObjectPosition_z']), axis=1) if len(hitObjectList) != 0 else pd.Series([max_distance])\n",
    "#     \n",
    "#     return allHitObjectDataFrame\n",
    "# \n",
    "# def get_closest_hit_objects(uid, time, allHitObjectDataFrame, posX, posY, posZ):\n",
    "#     global column_names, max_distance, number_of_closest_hit_objects\n",
    "#     # Create the hit objects helper dataframe with known column names\n",
    "#     clostestHitObjectsDF = pd.DataFrame(columns=column_names)\n",
    "# \n",
    "#     # Create start of the dictionary row being created by this function\n",
    "#     clostestHitObjectsDict = {}\n",
    "#     clostestHitObjectsDict['uid'] = uid # add column of player UID for later merge back\n",
    "#     clostestHitObjectsDict['UnixTimeStamp'] = time # add column of player time for later merge back\n",
    "#     \n",
    "#     # Sort dataframe by distance from player and only select top 5 rows\n",
    "#     top5HitObjectDataFrame = allHitObjectDataFrame.drop(['uid', 'UnixTimeStamp'], axis=1).sort_values(by=['distanceToPlayer'], ascending=True).head(number_of_closest_hit_objects).reset_index(drop=True)\n",
    "#     \n",
    "#     # Create returning dataframe\n",
    "#     for i, row in top5HitObjectDataFrame.iterrows():\n",
    "#         for col in top5HitObjectDataFrame.columns:\n",
    "#             clostestHitObjectsDict[f\"{col}_{i}\"] = row[col]\n",
    "#     \n",
    "#     clostestHitObjectsDF = pd.concat([clostestHitObjectsDF, pd.DataFrame([clostestHitObjectsDict])], ignore_index=True)\n",
    "#     \n",
    "#     return clostestHitObjectsDF\n",
    "\n",
    "def closest_objects(uid, time, hitObjectList, posX, posY, posZ):\n",
    "    global column_names, max_distance, number_of_closest_hit_objects\n",
    "    # Create the hit objects helper dataframe with known column names\n",
    "    clostestHitObjectsDF = pd.DataFrame(columns=column_names)\n",
    "\n",
    "    # Create start of the dictionary row being created by this function\n",
    "    clostestHitObjectsDict = {}\n",
    "    clostestHitObjectsDict['uid'] = uid # add column of player UID for later merge back\n",
    "    clostestHitObjectsDict['UnixTimeStamp'] = time # add column of player time for later merge back\n",
    "\n",
    "    # If no hit objects exist, return an empty dataframe\n",
    "    if len(hitObjectList) == 0:\n",
    "        return pd.concat([clostestHitObjectsDF, pd.DataFrame([clostestHitObjectsDict])], ignore_index=True), pd.DataFrame()\n",
    "    \n",
    "    # Create a dataframe from the hit object list JSON, if it is of type string, evaluate first\n",
    "    hitObjectList = literal_eval(hitObjectList) if isinstance(hitObjectList, str) else hitObjectList\n",
    "    allHitObjectDataFrame = pd.concat([pd.DataFrame(columns=['uid', 'UnixTimeStamp']), pd.DataFrame([flatten_dict(d) for d in hitObjectList])], axis=1)\n",
    "    allHitObjectDataFrame['uid'] = uid # add column of player UID for later merge back\n",
    "    allHitObjectDataFrame['UnixTimeStamp'] = time # add column of player time for later merge back\n",
    "    \n",
    "    # Calculate the distance to the player for each hit object, if JSON is empty, return max distance\n",
    "    allHitObjectDataFrame['distanceToPlayer'] = allHitObjectDataFrame.apply(lambda row: distance(posX, posY, posZ, row['HitObjectPosition_x'], row['HitObjectPosition_y'], row['HitObjectPosition_z']), axis=1) if len(hitObjectList) != 0 else pd.Series([max_distance])\n",
    "\n",
    "    # Calculate all hit point on object to player distances to be able to chose only the closest one, e.g., in case of Terrain multiple hits may happen per frame\n",
    "    allHitObjectDataFrame['hitPointDistanceToPlayer'] = allHitObjectDataFrame.apply(lambda row: distance(posX, posY, posZ, row['HitPointOnObject_x'], row['HitPointOnObject_y'], row['HitPointOnObject_z']), axis=1) if len(hitObjectList) != 0 else pd.Series([max_distance])\n",
    "    \n",
    "    # Sort dataframe by distance from player and only select top 5 rows\n",
    "    top5HitObjectDataFrame = allHitObjectDataFrame.drop(['uid', 'UnixTimeStamp'], axis=1).sort_values(by=['distanceToPlayer', 'hitPointDistanceToPlayer'], ascending=True).drop_duplicates(subset=['ObjectName']).drop('hitPointDistanceToPlayer', axis=1).head(number_of_closest_hit_objects).reset_index(drop=True)\n",
    "    \n",
    "    # Create returning dataframe\n",
    "    for i, row in top5HitObjectDataFrame.iterrows():\n",
    "        for col in top5HitObjectDataFrame.columns:\n",
    "            clostestHitObjectsDict[f\"{col}_{i}\"] = row[col]\n",
    "    \n",
    "    clostestHitObjectsDF = pd.concat([clostestHitObjectsDF, pd.DataFrame([clostestHitObjectsDict])], ignore_index=True)\n",
    "    \n",
    "    # Update global column names list for dynamic discovery of column names\n",
    "    column_names = clostestHitObjectsDF.columns.tolist()\n",
    "    \n",
    "    return clostestHitObjectsDF, allHitObjectDataFrame\n",
    "\n",
    "    # OLD CODE WITH UNSTACK THAT DID NOT WORK DUE TO MULTI-LEVEL INDICES\n",
    "    #helperDF = hitObjectDataFrameTop5.unstack(level=-2).reset_index().rename(columns={0: '', 1: 'level_1'})\n",
    "    #return helperDF.pivot(index=['uid', 'time'], columns=['level_0','level_1']).reset_index(drop=True)\n"
   ],
   "metadata": {
    "collapsed": false,
    "ExecuteTime": {
     "end_time": "2024-03-19T23:42:34.597243Z",
     "start_time": "2024-03-19T23:42:34.596067Z"
    }
   },
   "id": "6b93062e94c9e9",
   "execution_count": 76
  },
  {
   "cell_type": "code",
   "outputs": [],
   "source": [
    "# def preprocess_txt_files_multi_step(raw_folder_path, preprocessed_folder_path):\n",
    "#     \"\"\"\n",
    "#     Reads all .txt files in the specified folder.\n",
    "#     \"\"\"\n",
    "# \n",
    "#     # Get all participant uids in the given raw data folder\n",
    "#     ids, _ = analyze_folder(raw_folder_path)\n",
    "#     \n",
    "#     # Run extraction per uid\n",
    "#     for target_id in ids:\n",
    "#         # Do not re-process uids that were already done\n",
    "#         if os.path.isfile(os.path.join(preprocessed_folder_path + target_id + '.csv')):\n",
    "#             continue\n",
    "#         \n",
    "#         # Get list of files for given uid\n",
    "#         print(f\"\\nWorking on uid {target_id}...\")\n",
    "#         _, matching_files_list = analyze_folder(raw_folder_path, target_id)\n",
    "#     \n",
    "#         # Create output data frame and set most important columns to be the first ones\n",
    "#         df = pd.DataFrame(columns=['uid', 'dataset', 'city_section'])\n",
    "#         for txt_file in matching_files_list:\n",
    "#             # Read file from disk\n",
    "#             file_path = os.path.join(raw_folder_path, txt_file)\n",
    "#             with open(file_path, \"r\") as file:\n",
    "#                 data_list = json.load(file)\n",
    "#             \n",
    "#             # If data file is empty, continue to next file\n",
    "#             if len(data_list) == 0:\n",
    "#                 print(f\"INFO: No data found in {txt_file}\")\n",
    "#                 continue\n",
    "#                 \n",
    "#             # Create a DataFrame from the flattened data\n",
    "#             flat_data_list = [flatten_dict(d) for d in data_list]\n",
    "#             df1 = pd.DataFrame(flat_data_list)\n",
    "#             \n",
    "#             # Append file name information to dataframe\n",
    "#             parts = get_filename_as_parts(txt_file)\n",
    "#             df1['uid'] = parts[0]\n",
    "#             df1['dataset'] = parts[1]\n",
    "#             df1['city_section'] = parts[2]\n",
    "#             \n",
    "#             # Merge into master datafram\n",
    "#             df = pd.concat([df, df1], ignore_index=True)\n",
    "#     \n",
    "#         # Only continue if there was data found for a given uid\n",
    "#         if len(df) > 0:\n",
    "#             # Process Hit Objects JSON column -> top 5 HitObjects with distances\n",
    "#             allHitObjectsDataFrame = pd.DataFrame()\n",
    "#             for i, _ in df.iterrows():\n",
    "#                 if i % 5000 == 0:\n",
    "#                     print(f\"Processed {i} out of {len(df.index)} hit objects...\")\n",
    "#                 all = all_hit_objects(df['uid'][i], df['UnixTimeStamp'][i], df['hitObjects'][i], df['HmdPosition_x'][i], df['HmdPosition_y'][i], df['HmdPosition_z'][i])\n",
    "#                 allHitObjectsDataFrame = pd.concat([allHitObjectsDataFrame, all], ignore_index=True)\n",
    "#                         \n",
    "#             # Sort and save proprocessed data per UID\n",
    "#             df.drop(['hitObjects'], axis=1, inplace=True)\n",
    "#             df.sort_values(by=['uid', 'UnixTimeStamp'], inplace=True)\n",
    "#             df.to_csv(os.path.join(preprocessed_folder_path, target_id + '.csv'), index=False)   \n",
    "# \n",
    "#             allHitObjectsDataFrame.sort_values(by=['uid', 'UnixTimeStamp'], inplace=True)\n",
    "#             allHitObjectsDataFrame.to_csv(os.path.join(preprocessed_folder_path, target_id + '_hitobjects.csv'), index=False)"
   ],
   "metadata": {
    "collapsed": false,
    "ExecuteTime": {
     "end_time": "2024-03-19T23:42:35.240124Z",
     "start_time": "2024-03-19T23:42:35.237122Z"
    }
   },
   "id": "2cff4831f47a8307",
   "execution_count": 77
  },
  {
   "cell_type": "code",
   "outputs": [],
   "source": [
    "def threaded_processing_eyetracking(target_id, preprocessed_folder_path, excluded_uids):\n",
    "    # Do not re-process uids that were already done\n",
    "    if os.path.isfile(os.path.join(preprocessed_folder_path + target_id + '.csv')):\n",
    "        print(f'File {target_id}.csv already exists. Skipping...')\n",
    "        return excluded_uids\n",
    "    \n",
    "    # Get list of files for given uid\n",
    "    print(f\"\\nWorking on uid {target_id}...\")\n",
    "    print(f\"...using output folder {preprocessed_folder_path}\")\n",
    "    _, matching_files_list = analyze_folder(raw_folder_path, target_id)\n",
    "    \n",
    "    # Do not process uid if not all 5 files are present\n",
    "    if len(matching_files_list) < 5:\n",
    "        excluded_uids.append([target_id, 'Incomplete drive'])\n",
    "        print(f\"INFO: Excluded due to incomplete drive\")\n",
    "        return excluded_uids\n",
    "\n",
    "    # Create output data frame and set most important columns to be the first ones\n",
    "    df = pd.DataFrame(columns=['uid', 'dataset', 'city_section'])\n",
    "    stop_flag = False\n",
    "    for txt_file in matching_files_list:\n",
    "        if stop_flag:\n",
    "            continue\n",
    "            \n",
    "        # Read file from disk\n",
    "        file_path = os.path.join(raw_folder_path, txt_file)\n",
    "        with open(file_path, \"r\") as file:\n",
    "            data_list = json.load(file)\n",
    "        \n",
    "        # If data file is empty, continue to next file\n",
    "        if len(data_list) == 0:            \n",
    "            excluded_uids.append([target_id, 'Empty files found'])\n",
    "            print(f\"INFO: Excluded due to no data found in {txt_file}\")\n",
    "            stop_flag = True\n",
    "            continue\n",
    "            \n",
    "        # Create a DataFrame from the flattened data\n",
    "        flat_data_list = [flatten_dict(d) for d in data_list]\n",
    "        df1 = pd.DataFrame(flat_data_list)\n",
    "        \n",
    "        # Append file name information to dataframe\n",
    "        parts = get_filename_as_parts(txt_file)\n",
    "        df1['uid'] = parts[0]\n",
    "        df1['dataset'] = parts[1]\n",
    "        df1['city_section'] = parts[2]\n",
    "        \n",
    "        # Merge into master datafram\n",
    "        df = pd.concat([df, df1], ignore_index=True)\n",
    "\n",
    "    # Only continue if there was data found for a given uid\n",
    "    if len(df) > 0 and not stop_flag:\n",
    "        # Process Hit Objects JSON column -> top 5 HitObjects with distances\n",
    "        allHitObjectsDataFrame = pd.DataFrame(columns=['uid', 'dataset', 'UnixTimeStamp'])\n",
    "        allHitObjectsDataFrame['uid'] = parts[0]\n",
    "        allHitObjectsDataFrame['dataset'] = parts[1]\n",
    "\n",
    "        topHitObjectsDataFrame = pd.DataFrame()\n",
    "        for i, _ in df.iterrows():\n",
    "            if i % 5000 == 0:\n",
    "                print(f\"Processed {i} out of {len(df.index)} hit objects...\")\n",
    "            co, all = closest_objects(df['uid'][i], df['UnixTimeStamp'][i], df['hitObjects'][i], df['HmdPosition_x'][i], df['HmdPosition_y'][i], df['HmdPosition_z'][i])\n",
    "            topHitObjectsDataFrame = pd.concat([topHitObjectsDataFrame, co], ignore_index=True)\n",
    "            allHitObjectsDataFrame = pd.concat([allHitObjectsDataFrame, all], ignore_index=True)\n",
    "        \n",
    "        # Merge hit objects DF back to data DF and drop hitObjects column with JSON data\n",
    "        df.set_index(['uid','UnixTimeStamp'], inplace=True)\n",
    "        topHitObjectsDataFrame.set_index(['uid','UnixTimeStamp'], inplace=True)\n",
    "        df = df.join(topHitObjectsDataFrame, on=['uid','UnixTimeStamp'], how='left')\n",
    "        df.drop(['hitObjects'], axis=1, inplace=True)\n",
    "        \n",
    "        # Sort and save preprocessed data per UID\n",
    "        df.sort_values(by=['uid', 'UnixTimeStamp'], inplace=True)\n",
    "        df.to_csv(os.path.join(preprocessed_folder_path, target_id + '.csv'), index=True)\n",
    "        allHitObjectsDataFrame.to_csv(os.path.join(preprocessed_folder_path, 'allHitObjects', target_id + '_hitobjects.csv'), index=False)\n",
    "    \n",
    "    return excluded_uids\n"
   ],
   "metadata": {
    "collapsed": false,
    "ExecuteTime": {
     "end_time": "2024-03-20T00:25:54.087397Z",
     "start_time": "2024-03-20T00:25:54.081986Z"
    }
   },
   "id": "4dd2d2fc2c1ca8a3",
   "execution_count": 155
  },
  {
   "cell_type": "code",
   "outputs": [],
   "source": [
    "def threaded_processing_input(target_id, preprocessed_folder_path, excluded_uids):\n",
    "    # Do not re-process uids that were already done\n",
    "    if os.path.isfile(os.path.join(preprocessed_folder_path + target_id + '.csv')):\n",
    "        print(f'File {target_id}.csv already exists. Skipping...')\n",
    "        return excluded_uids\n",
    "    \n",
    "    # Get list of files for given uid\n",
    "    print(f\"\\nWorking on uid {target_id}...\")\n",
    "    print(f\"...using output folder {preprocessed_folder_path}\")\n",
    "    _, matching_files_list = analyze_folder(raw_folder_path, target_id)\n",
    "\n",
    "    # Create output data frame and set most important columns to be the first ones\n",
    "    df = pd.DataFrame(columns=['uid', 'dataset', 'city_section'])\n",
    "    stop_flag = False\n",
    "    for txt_file in matching_files_list:\n",
    "        if stop_flag:\n",
    "            continue\n",
    "            \n",
    "        # Read file from disk\n",
    "        file_path = os.path.join(raw_folder_path, txt_file)\n",
    "        with open(file_path, \"r\") as file:\n",
    "            data_list = json.load(file)\n",
    "        \n",
    "        # Create a DataFrame from the flattened data\n",
    "        # flat_data_list = [flatten_dict(d) for d in data_list]\n",
    "        # df1 = pd.DataFrame(flat_data_list)\n",
    "        # Assuming the nested dictionary is in the 'acList' column\n",
    "        df1 = pd.json_normalize(data_list,max_level=1)\n",
    "        \n",
    "        # Append file name information to dataframe\n",
    "        parts = get_filename_as_parts(txt_file)\n",
    "        df1['uid'] = parts[0]\n",
    "        df1['dataset'] = parts[1]\n",
    "        df1['city_section'] = parts[2]\n",
    "        \n",
    "        # Merge into master datafram\n",
    "        df = pd.concat([df, df1], ignore_index=True)\n",
    "\n",
    "        # Sort and save preprocessed data per UID\n",
    "        df.sort_values(by=['uid', 'TimeStamp'], inplace=True)\n",
    "        df.to_csv(os.path.join(preprocessed_folder_path, target_id + '.csv'), index=False)\n",
    "    \n",
    "    return excluded_uids"
   ],
   "metadata": {
    "collapsed": false,
    "ExecuteTime": {
     "end_time": "2024-03-20T00:35:40.878299Z",
     "start_time": "2024-03-20T00:35:40.875886Z"
    }
   },
   "id": "2c1c2608efa79545",
   "execution_count": 176
  },
  {
   "cell_type": "code",
   "outputs": [],
   "source": [
    "def preprocess_txt_files(raw_folder_path, preprocessed_folder_path, type, multi_processing = False):\n",
    "    \"\"\"\n",
    "    Reads all .txt files in the specified folder.\n",
    "    :param raw_folder_path:\n",
    "    :param preprocessed_folder_path:\n",
    "    :param multi_processing: Put false to save all excluded UIDs; in multiprocessing = True it will not work\n",
    "    \"\"\"\n",
    "    \n",
    "    # Save excluded UIDs\n",
    "    excluded_uids_path = os.path.join(preprocessed_folder_path, '..', '_excluded_uids.csv')\n",
    "    print(f\"...using EXCLUDED UID output folder {excluded_uids_path}\")\n",
    "    excluded_uids = pd.DataFrame(columns=['uid', 'reason']) if not os.path.isfile(excluded_uids_path) else pd.read_csv(excluded_uids_path)\n",
    "    # Get all participant uids in the given raw data folder\n",
    "    ids, _ = analyze_folder(raw_folder_path)\n",
    "    ids = [id for id in ids if id not in excluded_uids['uid'].values.tolist()]\n",
    "    excluded_uids = excluded_uids.values.tolist()\n",
    "    \n",
    "    if multi_processing:\n",
    "        # Create a process pool, using the pathos fork of multiprocessing\n",
    "        pool = pathos.pools.ProcessPool()\n",
    "        # Use partial if the resulting function has more than one input variable, here: processing path, excluded UIDs\n",
    "        if type == 'eyetracking':\n",
    "            function = partial(threaded_processing_eyetracking, preprocessed_folder_path=preprocessed_folder_path, excluded_uids=excluded_uids)\n",
    "        elif type == 'input':\n",
    "            function = partial(threaded_processing_input, preprocessed_folder_path=preprocessed_folder_path, excluded_uids=excluded_uids)\n",
    "        else:\n",
    "            print('Nothing to do. Choose a type.')\n",
    "        # Execute pool across list of independent inputs\n",
    "        pool.map(function, list(ids))\n",
    "    else:\n",
    "        for id in ids:\n",
    "            if type == 'eyetracking':\n",
    "                excluded_uids = threaded_processing_eyetracking(id, preprocessed_folder_path, excluded_uids)\n",
    "            elif type == 'input':\n",
    "                excluded_uids = threaded_processing_input(id, preprocessed_folder_path, excluded_uids)\n",
    "            else:\n",
    "                print('Nothing to do. Choose a type.')\n",
    "    \n",
    "    excluded_uids = pd.DataFrame(excluded_uids, columns=['uid', 'reason'])        \n",
    "    excluded_uids.drop_duplicates(inplace=True)\n",
    "    excluded_uids.to_csv(excluded_uids_path, index=False)\n"
   ],
   "metadata": {
    "collapsed": false,
    "ExecuteTime": {
     "end_time": "2024-03-20T00:32:22.196891Z",
     "start_time": "2024-03-20T00:32:22.189989Z"
    }
   },
   "id": "b86748f2264d32f2",
   "execution_count": 174
  },
  {
   "cell_type": "code",
   "outputs": [],
   "source": [
    "# def extracted_preprocessed_files_multi_step(preprocessed_folder_path, extracted_folder_path):\n",
    "#     ids, _ = analyze_folder(preprocessed_folder_path, file_type='csv')\n",
    "#     \n",
    "#     for target_id in ids:\n",
    "#         file_path = os.path.join(preprocessed_folder_path, target_id + '.csv')\n",
    "#         with open(file_path, \"r\") as file:\n",
    "#             uid_data = pd.read_csv(file)\n",
    "# \n",
    "#         file_path = os.path.join(preprocessed_folder_path, target_id + '_hitobjects.csv')\n",
    "#         with open(file_path, \"r\") as file:\n",
    "#             uid_hit_objects = pd.read_csv(file)\n",
    "#         \n",
    "#         timestamps = uid_data['UnixTimeStamp'].unique()\n",
    "#         for i, timestamp in enumerate(timestamps):\n",
    "#             if i % 5000 == 0:\n",
    "#                 print(f\"Processed {i} out of {len(timestamps)} time stamps...\")\n",
    "#             player_pos = uid_data[(uid_data['uid'] == target_id) & (uid_data['UnixTimeStamp'] == timestamp)][['HmdPosition_x', 'HmdPosition_y','HmdPosition_z']]\n",
    "#             topHitObjectsDataFrame = get_closest_hit_objects(target_id, timestamp, uid_hit_objects, player_pos['HmdPosition_x'], player_pos['HmdPosition_y'], player_pos['HmdPosition_z'])\n",
    "#         \n",
    "#         uid_data.set_index(['uid','UnixTimeStamp'], inplace=True)\n",
    "#         topHitObjectsDataFrame.set_index(['uid','UnixTimeStamp'], inplace=True)\n",
    "#         uid_data = uid_data.join(topHitObjectsDataFrame, on=['uid','UnixTimeStamp'], how='left')\n",
    "#         \n",
    "#         df.to_csv(os.path.join(extracted_folder_path, target_id + '.csv'), index=True)\n"
   ],
   "metadata": {
    "collapsed": false,
    "ExecuteTime": {
     "end_time": "2024-03-20T00:31:01.978664Z",
     "start_time": "2024-03-20T00:31:01.972822Z"
    }
   },
   "id": "956c34ade6c60e9e",
   "execution_count": 170
  },
  {
   "cell_type": "code",
   "outputs": [
    {
     "name": "stdout",
     "output_type": "stream",
     "text": [
      "...using EXCLUDED UID output folder Data/1_Preprocessed/Eyetracking/../_excluded_uids.csv\n",
      "File debf0264467d42c1854783622182005c.csv already exists. Skipping...\n",
      "File ef2e9fc68dc5486084a0cc170db5462b.csv already exists. Skipping...\n",
      "File cb5d0147ad15497680895773bcb2d217.csv already exists. Skipping...\n",
      "File 6ad4d759b7eb4ff392f6db00aec7678f.csv already exists. Skipping...\n",
      "File 677eb13e053d46edb23876a1cf070e34.csv already exists. Skipping...\n",
      "File 5c776e10348f4e3589cfc57be88546d2.csv already exists. Skipping...\n",
      "File 7e732acc694248ceaa3547de5fc77639.csv already exists. Skipping...\n",
      "File beeea83429274984b2b016773492d208.csv already exists. Skipping...\n",
      "File 7e7865d70c3c445a9a90aa6cc953ad67.csv already exists. Skipping...\n",
      "File 228bdb9398f6492092c45467428bb95a.csv already exists. Skipping...\n",
      "File 9af67bd8dba94cf599f830105cc0a5ab.csv already exists. Skipping...\n",
      "File 3b4445b1f502437dab3e11c5eaeed1ee.csv already exists. Skipping...\n",
      "File 2fe73e7e2534479aa59aeb91635906aa.csv already exists. Skipping...\n",
      "File 0956f0cca5f546d79a0cf4fbae23d496.csv already exists. Skipping...\n",
      "File f6bf93fa2bb14083849d203d285bb594.csv already exists. Skipping...\n",
      "File 09e9bc26ef584ef29e0e4512f3ad9667.csv already exists. Skipping...\n",
      "File e02a32edf7494874b489598a611bd443.csv already exists. Skipping...\n",
      "File b7f065b7dbbe442485552fa041d44b20.csv already exists. Skipping...\n",
      "File a466d4a8a3744a0195a568a1436bd7f2.csv already exists. Skipping...\n",
      "File 46b71f8b8f2d44c9be998a771c7815c9.csv already exists. Skipping...\n",
      "File 8503c9e911d6446591ef74f25077292c.csv already exists. Skipping...\n",
      "File 8c3f910d2ca947e9abe0cf5786c40ed3.csv already exists. Skipping...\n",
      "File 36d1fc163246486b80956b4789fe6fa7.csv already exists. Skipping...\n",
      "File 0037b2329de444c18d751b4e79901b39.csv already exists. Skipping...\n",
      "File 9d21c3cf1fb64f87a7ee9f6612d31768.csv already exists. Skipping...\n",
      "File a11a6bbf0bf8498c8eeb4118920209db.csv already exists. Skipping...\n",
      "File 0ed7464df24848a68bcc2dfd1ec58f29.csv already exists. Skipping...\n",
      "File 1137044be4694bb1a6dc0b6185f8292b.csv already exists. Skipping...\n",
      "File 1b72788aabfc4b6794b3ff9ce0e9d1cd.csv already exists. Skipping...\n",
      "File a7da330198d5442d92f4cb9a3ab49a62.csv already exists. Skipping...\n",
      "File 71bc29ba9b3c415f8575dcfb484a5fe2.csv already exists. Skipping...\n",
      "File d5daacd8fad2490fa1f12001b725271b.csv already exists. Skipping...\n",
      "File bb85c212fe8842ec95b8e3dea2c524b0.csv already exists. Skipping...\n",
      "File bf6200b3d8964cfb95a76d7156871682.csv already exists. Skipping...\n",
      "File da49a4ef8443428192674cb184c1eb19.csv already exists. Skipping...\n",
      "File 11651f8400384fb1a6ac102e6696201c.csv already exists. Skipping...\n",
      "File de17edda8c414228b075ee25c75c6c69.csv already exists. Skipping...\n",
      "File b9620a4e3556466089591e8cdb4fe7ca.csv already exists. Skipping...\n",
      "File 0d0d7bd79b1a48d4ad5e757cdbfc15c9.csv already exists. Skipping...\n",
      "File 81957954cd71450cacc5fd738dd9ebd2.csv already exists. Skipping...\n",
      "File 97fa63f17b4f4fd98355731cb513f5d4.csv already exists. Skipping...\n",
      "File d18584bc440c4900ab9677fd5c411dc5.csv already exists. Skipping...\n",
      "File 3eac1d7156994e69a8df336b7304b550.csv already exists. Skipping...\n",
      "File 09a23914cf354ea39444511406d16722.csv already exists. Skipping...\n",
      "File 2763d041b30741d583498734a8ed3361.csv already exists. Skipping...\n",
      "File 5a99db5eeb8748db8a3a86f9015f78bd.csv already exists. Skipping...\n",
      "File e65adf07df65405faff00b395537018b.csv already exists. Skipping...\n",
      "File bfa47a32481e49b2b8ef5af3f44289c9.csv already exists. Skipping...\n",
      "File 4a10fec1583843e5b1c82fb74fa7c775.csv already exists. Skipping...\n",
      "File ccb6fbce179d456c892ce2e029dd7fd1.csv already exists. Skipping...\n",
      "File 7b1f3e040a654bb7afff67a711e46081.csv already exists. Skipping...\n",
      "File 311d107d0dbb466fb77b634971167c8b.csv already exists. Skipping...\n",
      "File 4ed7e605b1614ccc98269519940f6965.csv already exists. Skipping...\n",
      "File 27ee7a0bfc2840e38225f653232d1487.csv already exists. Skipping...\n",
      "File c8e6b81ee11d426a83bb4ea603a2af19.csv already exists. Skipping...\n",
      "File a5e665fb970b4b03a810698a63b3b635.csv already exists. Skipping...\n",
      "File bf49132120f545da87b3b6f22ec95510.csv already exists. Skipping...\n",
      "File b8c478ccbd8044ca83f54b4373cda25d.csv already exists. Skipping...\n",
      "File e635375fe03d455384d473da39fd48e1.csv already exists. Skipping...\n",
      "File f8199c55b531448aa14b053f0b1c099b.csv already exists. Skipping...\n",
      "File 6272855738e14a46adbc93ebd79ca82e.csv already exists. Skipping...\n",
      "File 22d6fdd77f704e00aa350bf02adc9bc3.csv already exists. Skipping...\n",
      "File a0cd3c82306a47a68d7d048f1fe05286.csv already exists. Skipping...\n",
      "File c2029d7960134ff6853f6ae4b9f9ae84.csv already exists. Skipping...\n",
      "File ac80f2bb91324d71a06cc6dd9a8e2c9d.csv already exists. Skipping...\n",
      "File d658fcf05c3d4944ad0020f42148184f.csv already exists. Skipping...\n",
      "File c47cc5dba3834b91899cc20534e0f7be.csv already exists. Skipping...\n",
      "File 5da827b55d1e429daa583641b19e4951.csv already exists. Skipping...\n",
      "File 7de8141926e0497396bddddf37a1b115.csv already exists. Skipping...\n",
      "File 8e03eb1671774d3d9a35f97178902a45.csv already exists. Skipping...\n",
      "File c141c1065c1b45a9bffe0a89a7032662.csv already exists. Skipping...\n",
      "File f70e1ed066804da1bf4a900f38d132d3.csv already exists. Skipping...\n",
      "File b89680ab48514db8bca8fcca1852f36d.csv already exists. Skipping...\n",
      "File fa4ca90c5b80445b9af0b7ec4fbcc124.csv already exists. Skipping...\n",
      "File edb7b59f47a24fa1bab1b853790cd0ab.csv already exists. Skipping...\n",
      "File e4dd95aaaa0f42cd8255267a22e4d183.csv already exists. Skipping...\n",
      "File dd0e05a14d034ac996d6d78b9b74d2e3.csv already exists. Skipping...\n",
      "File 76add0e05beb4e7ea99bda997efd7622.csv already exists. Skipping...\n",
      "File befb23eb943c405b8183bd39f5d9d102.csv already exists. Skipping...\n",
      "File a3191bcead8a4e278ff5b8927b89faf9.csv already exists. Skipping...\n",
      "File 5b086469856442e8abac0651c33e2c8e.csv already exists. Skipping...\n",
      "File 0117810eb9634c4f98f842021ee6a595.csv already exists. Skipping...\n",
      "File e113171c2c8c48679e92a0e241b31060.csv already exists. Skipping...\n",
      "File b257a7a2aaf9485181bd9b8d6e851c15.csv already exists. Skipping...\n",
      "File e90c87a9ba554b8a96331451052c1ece.csv already exists. Skipping...\n",
      "File b041b78d359c4763a53246d5ede93ffd.csv already exists. Skipping...\n",
      "File 40ffa04f4781418c946b01206562b124.csv already exists. Skipping...\n",
      "File 50bc84deece34316bc3b8e5bb5829a68.csv already exists. Skipping...\n",
      "File a3bf7bf25cb54d37b0876393df38aa5f.csv already exists. Skipping...\n",
      "File 0121f5b2f59d434f8beb17bf3e2a80b9.csv already exists. Skipping...\n",
      "File 6f36a58eb7d843a593a01191c53bc0d0.csv already exists. Skipping...\n",
      "File f78cb865f76b4ce4879083715f112d91.csv already exists. Skipping...\n",
      "File 221ef734e10c4139a22519cd623f715a.csv already exists. Skipping...\n",
      "File 5fe54d902792467181089d8e4a73b80c.csv already exists. Skipping...\n",
      "File e278f318559a49c09266bd5a19d2f41c.csv already exists. Skipping...\n",
      "File 44f89a79bcd2474781bb53db168050a6.csv already exists. Skipping...\n",
      "File 851861aa8d4748f1a179aa60b482b505.csv already exists. Skipping...\n",
      "File f767840dc9b94eeabb8d0cfb2a5da57c.csv already exists. Skipping...\n",
      "File 0a68f111e4f448d3b8279db69cd9df5e.csv already exists. Skipping...\n",
      "File 59e4db01ce4540939cc86023711c3994.csv already exists. Skipping...\n",
      "File 7a9e89e5a21a442d93c88707c1585d1d.csv already exists. Skipping...\n",
      "File fa1e10f3495d49f69ee05224e4eaec4f.csv already exists. Skipping...\n",
      "File 42beaff8c918437dbb34a33f80c90674.csv already exists. Skipping...\n",
      "File 8fa9f3c28edc4b2a88556096f09ec8cb.csv already exists. Skipping...\n",
      "File 4f6e20e3ce604a06b9f8408d0f850baa.csv already exists. Skipping...\n",
      "File 8e938189c22b4c168fa65d3174309d91.csv already exists. Skipping...\n",
      "File 13ec39a03bbb465eae777fe9564c7e97.csv already exists. Skipping...\n",
      "File 26f82ce33a204cdc90464729cabc4eda.csv already exists. Skipping...\n",
      "File e51c62a636934699b9a2b304635ba0fe.csv already exists. Skipping...\n",
      "File d42cd09ca7ea439cbb32c62c4353b7dc.csv already exists. Skipping...\n",
      "File f820d1c1117c4255a529f527c6c82d1f.csv already exists. Skipping...\n",
      "File 7736a53b63874dde915148a2f4f4a753.csv already exists. Skipping...\n",
      "File 240d3d0b36a34accb42f0d98d27fd744.csv already exists. Skipping...\n",
      "File 47a3b1dd7c6b41cd875935c7049d97d6.csv already exists. Skipping...\n",
      "File 9ef3688b30eb405c9bc92ff7cc527955.csv already exists. Skipping...\n",
      "File e204e48fbca64ed9a9aa05a213dc8381.csv already exists. Skipping...\n",
      "File b298967064b144a4bbe4507238e66a80.csv already exists. Skipping...\n",
      "File 176031ab861f4d95bb7e3ec044879a65.csv already exists. Skipping...\n",
      "File 91519bcefe1844d595ff7317c00b0351.csv already exists. Skipping...\n",
      "File 806565e397a2453d8287d04d059399de.csv already exists. Skipping...\n",
      "File cd59ccc5e16840b78e9b29a1bbafc571.csv already exists. Skipping...\n",
      "File b114be91b8144db2b503d0391f4868ef.csv already exists. Skipping...\n",
      "File 199ee7cf632b42f89ca5771ba3d3e08f.csv already exists. Skipping...\n",
      "File 81b4ef081c7f4f70b90f414b5d0144bf.csv already exists. Skipping...\n",
      "File 87ad7392b6694a8da6744cbe03b1d263.csv already exists. Skipping...\n",
      "File f0eb2a21700848549a2846b6c5b09ad5.csv already exists. Skipping...\n",
      "File ff5026837ead4091afc0026b9e2142ac.csv already exists. Skipping...\n",
      "File ad89416f02be4aacaf401afabc0e00e8.csv already exists. Skipping...\n",
      "File 72d882a3b9ec490bade6cb620b2b89c5.csv already exists. Skipping...\n",
      "File c09f04f2c4bc40e48febedb7456baa6b.csv already exists. Skipping...\n",
      "File 2f3b9268b6dc4c04a0c77ef79ae52b36.csv already exists. Skipping...\n",
      "File d0177d0096d34d79ad20632ce2de1683.csv already exists. Skipping...\n",
      "File 50eb41004c744ed08237419b9cd2abd3.csv already exists. Skipping...\n",
      "File 33380a28635d455ebcd6c6f011329554.csv already exists. Skipping...\n",
      "File 62ed0ba3df27446c897e4544c7e8a960.csv already exists. Skipping...\n",
      "File f4bd3b070a864e38a01dac3bad73caf0.csv already exists. Skipping...\n",
      "File f9c6ff61370141c89ea9bbc536d796e1.csv already exists. Skipping...\n",
      "File c5608223a11448d98a8ef6a497af5c07.csv already exists. Skipping...\n",
      "File ef0636bf75a345fd937f66a883b23c4d.csv already exists. Skipping...\n",
      "File 47e5b0cb9fca4c5c9748b9e03e63a9a7.csv already exists. Skipping...\n",
      "File 9781349ffdbb4d38862d24d388ab4295.csv already exists. Skipping...\n",
      "File 861f9d156a7a4372adc36d4cba454abb.csv already exists. Skipping...\n",
      "File 56341d0729234d90ae05458aab4b43c4.csv already exists. Skipping...\n",
      "File d5ff3f0d2ecd4865acf6954168148558.csv already exists. Skipping...\n",
      "File 7c4a213768e645e4a46f4317ad87d76d.csv already exists. Skipping...\n",
      "File 8d73ff4eb38f4c01b24ffda0981d3f3e.csv already exists. Skipping...\n",
      "File eadeee63de7f40a4b4375733651d5dd1.csv already exists. Skipping...\n",
      "File e3fcd0edd66947a483448ac28b5003b3.csv already exists. Skipping...\n",
      "File 22a1a4a35db9490d8dd8d69621690029.csv already exists. Skipping...\n",
      "File c5253fb4bc5143118ac36b4e98f43dda.csv already exists. Skipping...\n",
      "File 973efd2d86b64b7db7d5cc3f3f3725b2.csv already exists. Skipping...\n",
      "File a8f38db959114af0b49322bf0238a0a8.csv already exists. Skipping...\n",
      "File 472bf3fb08d24c6db3d76964534665ab.csv already exists. Skipping...\n",
      "File 2062aedb89224bb8a3f6982b487b4d27.csv already exists. Skipping...\n",
      "File 814f4159a5a14ea3afc13a683d0197c9.csv already exists. Skipping...\n",
      "File cd9a3616783e49b787244cd621e9cdb9.csv already exists. Skipping...\n",
      "File 1e5683fcc68a45bfa0e4d4454f6a01c0.csv already exists. Skipping...\n",
      "File 8753a7212b79463e9b80143314a63a39.csv already exists. Skipping...\n",
      "File 29006bddb3e8430582165c73bc7af864.csv already exists. Skipping...\n",
      "File beaea101b49242a183285032cc6357ea.csv already exists. Skipping...\n",
      "File f0d19dd21d9c4d108419ff0982fb8a00.csv already exists. Skipping...\n",
      "File f3638c47301a4e3691a6289cdcddc8d0.csv already exists. Skipping...\n",
      "File e01b2bb34b88409ab72849f4ae52277a.csv already exists. Skipping...\n",
      "File c546bbc81ecb479bba2e85f9d19850cb.csv already exists. Skipping...\n",
      "File f22dfb43e26d43068a9be221468d85dc.csv already exists. Skipping...\n",
      "File 68dee417b7c6402e80e3001a8d07ac53.csv already exists. Skipping...\n",
      "File ac50cb2dbe784eca9f86d1a424a3cf04.csv already exists. Skipping...\n",
      "File a710f3de91aa4ab1855aea34eb52a03e.csv already exists. Skipping...\n",
      "File c184e2d2fcc14fa8ac9c8f7b716537b7.csv already exists. Skipping...\n",
      "File 9c657fb86e9847bfbcd377a19157a71d.csv already exists. Skipping...\n",
      "File e5a628df7e514b288fb6c6024f32e6d8.csv already exists. Skipping...\n",
      "File ff4288f304e74bbf93aa6508c7df8145.csv already exists. Skipping...\n",
      "File 9e731cf5dc92410698403de48f4dfd8c.csv already exists. Skipping...\n"
     ]
    }
   ],
   "source": [
    "# Preprocess all files in the given raw folder (currently only EyeTracking input data)\n",
    "raw_folder_path = \"Data/0_Raw/Eyetracking/\"  # Replace with your actual folder path\n",
    "processed_folder_path = \"Data/1_Preprocessed/Eyetracking/\"\n",
    "preprocess_txt_files(raw_folder_path, processed_folder_path, 'eyetracking', multi_processing = False)"
   ],
   "metadata": {
    "collapsed": false,
    "ExecuteTime": {
     "end_time": "2024-03-20T00:09:55.867984Z",
     "start_time": "2024-03-20T00:09:55.860952Z"
    }
   },
   "id": "a4bbf5dc06711020",
   "execution_count": 153
  },
  {
   "cell_type": "code",
   "outputs": [
    {
     "name": "stdout",
     "output_type": "stream",
     "text": [
      "...using EXCLUDED UID output folder Data/1_Preprocessed/Input/../_excluded_uids.csv\n"
     ]
    }
   ],
   "source": [
    "raw_folder_path = \"Data/0_Raw/Input/\"  # Replace with your actual folder path\n",
    "processed_folder_path = \"Data/1_Preprocessed/Input/\"\n",
    "preprocess_txt_files(raw_folder_path, processed_folder_path, 'input', multi_processing = True)"
   ],
   "metadata": {
    "collapsed": false,
    "ExecuteTime": {
     "end_time": "2024-03-20T00:35:53.675593Z",
     "start_time": "2024-03-20T00:35:45.860709Z"
    }
   },
   "id": "f1a45de9b30e9646",
   "execution_count": 177
  },
  {
   "cell_type": "code",
   "outputs": [],
   "source": [
    "# Sample file processing\n",
    "file_path = '/Users/johnmadrid/GitHub/WestdriveLoopARData/Data/0_Raw/EyeTracking/66bdb97a653b48f98c02d5e764089c00_EyeTracking_Westbrueck.txt'  # Replace with the actual file path\n",
    "\n",
    "with open(file_path, 'r') as f:\n",
    "    data_list = json.load(f)\n",
    "df = pd.DataFrame([flatten_dict(d) for d in data_list])"
   ],
   "metadata": {
    "collapsed": false,
    "ExecuteTime": {
     "end_time": "2024-03-17T23:43:39.350646Z",
     "start_time": "2024-03-17T23:43:39.219333Z"
    }
   },
   "id": "9b4552f9ff7459e9",
   "execution_count": 32
  },
  {
   "cell_type": "code",
   "outputs": [
    {
     "data": {
      "text/plain": "       uid  UnixTimeStamp         ObjectName_0  HitObjectPosition_x_0  \\\n0     john   1.601117e+09              CarBody             536.973389   \n1     john   1.601117e+09             mons_LOD             -32.719116   \n2     john   1.601117e+09             mons_LOD             -32.719116   \n3     john   1.601117e+09             mons_LOD             -32.719116   \n4     john   1.601117e+09             mons_LOD             -32.719116   \n...    ...            ...                  ...                    ...   \n6670  john   1.601117e+09       Speed Limit 70            -589.800049   \n6671  john   1.601117e+09       Speed Limit 70            -589.800049   \n6672  john   1.601117e+09  Motor Vehicles Only            -567.149902   \n6673  john   1.601117e+09  Motor Vehicles Only            -567.149902   \n6674  john   1.601117e+09  Motor Vehicles Only            -567.149902   \n\n      HitObjectPosition_y_0  HitObjectPosition_z_0  HitPointOnObject_x_0  \\\n0                220.836456            1457.509766            538.671204   \n1                210.965057            1185.078613            -26.976925   \n2                210.965057            1185.078613            -29.614956   \n3                210.965057            1185.078613            -25.666519   \n4                210.965057            1185.078613            -24.435617   \n...                     ...                    ...                   ...   \n6670             182.723572            1053.971558           -589.300049   \n6671             182.723572            1053.971558           -589.300049   \n6672             182.989990            1056.198608           -567.332642   \n6673             182.989990            1056.198608           -566.624634   \n6674             182.989990            1056.198608           -566.655518   \n\n      HitPointOnObject_y_0  HitPointOnObject_z_0  distanceToPlayer_0  ...  \\\n0               222.044189           1458.535645            6.952474  ...   \n1               221.138657           1179.478271          631.687633  ...   \n2               221.912354           1177.810791          630.870387  ...   \n3               221.689301           1180.640381          630.463486  ...   \n4               222.008591           1181.732056          630.058707  ...   \n...                    ...                   ...                 ...  ...   \n6670            182.827957           1053.747803          103.553406  ...   \n6671            182.761673           1054.104248          103.278730  ...   \n6672            183.976868           1055.678223           80.290445  ...   \n6673            183.881180           1055.965820           80.018746  ...   \n6674            184.080627           1056.280273           79.748569  ...   \n\n     HitPointOnObject_z_3  distanceToPlayer_3        ObjectName_4  \\\n0             1127.379761          777.120193  Westbrueck_terrain   \n1             1412.311523         1181.482160                 NaN   \n2             1412.132690         1180.676586                 NaN   \n3             1412.279297         1180.275523                 NaN   \n4             1412.311157         1179.876532                 NaN   \n...                   ...                 ...                 ...   \n6670                  NaN                 NaN                 NaN   \n6671                  NaN                 NaN                 NaN   \n6672          1045.923096         2419.228755                 NaN   \n6673                  NaN                 NaN                 NaN   \n6674                  NaN                 NaN                 NaN   \n\n      HitObjectPosition_x_4  HitObjectPosition_y_4  HitObjectPosition_z_4  \\\n0               -502.709839                  -16.4             949.637451   \n1                       NaN                    NaN                    NaN   \n2                       NaN                    NaN                    NaN   \n3                       NaN                    NaN                    NaN   \n4                       NaN                    NaN                    NaN   \n...                     ...                    ...                    ...   \n6670                    NaN                    NaN                    NaN   \n6671                    NaN                    NaN                    NaN   \n6672                    NaN                    NaN                    NaN   \n6673                    NaN                    NaN                    NaN   \n6674                    NaN                    NaN                    NaN   \n\n      HitPointOnObject_x_4  HitPointOnObject_y_4 HitPointOnObject_z_4  \\\n0               454.382202            221.526688          1417.338989   \n1                      NaN                   NaN                  NaN   \n2                      NaN                   NaN                  NaN   \n3                      NaN                   NaN                  NaN   \n4                      NaN                   NaN                  NaN   \n...                    ...                   ...                  ...   \n6670                   NaN                   NaN                  NaN   \n6671                   NaN                   NaN                  NaN   \n6672                   NaN                   NaN                  NaN   \n6673                   NaN                   NaN                  NaN   \n6674                   NaN                   NaN                  NaN   \n\n      distanceToPlayer_4  \n0            1188.116164  \n1                    NaN  \n2                    NaN  \n3                    NaN  \n4                    NaN  \n...                  ...  \n6670                 NaN  \n6671                 NaN  \n6672                 NaN  \n6673                 NaN  \n6674                 NaN  \n\n[6675 rows x 42 columns]",
      "text/html": "<div>\n<style scoped>\n    .dataframe tbody tr th:only-of-type {\n        vertical-align: middle;\n    }\n\n    .dataframe tbody tr th {\n        vertical-align: top;\n    }\n\n    .dataframe thead th {\n        text-align: right;\n    }\n</style>\n<table border=\"1\" class=\"dataframe\">\n  <thead>\n    <tr style=\"text-align: right;\">\n      <th></th>\n      <th>uid</th>\n      <th>UnixTimeStamp</th>\n      <th>ObjectName_0</th>\n      <th>HitObjectPosition_x_0</th>\n      <th>HitObjectPosition_y_0</th>\n      <th>HitObjectPosition_z_0</th>\n      <th>HitPointOnObject_x_0</th>\n      <th>HitPointOnObject_y_0</th>\n      <th>HitPointOnObject_z_0</th>\n      <th>distanceToPlayer_0</th>\n      <th>...</th>\n      <th>HitPointOnObject_z_3</th>\n      <th>distanceToPlayer_3</th>\n      <th>ObjectName_4</th>\n      <th>HitObjectPosition_x_4</th>\n      <th>HitObjectPosition_y_4</th>\n      <th>HitObjectPosition_z_4</th>\n      <th>HitPointOnObject_x_4</th>\n      <th>HitPointOnObject_y_4</th>\n      <th>HitPointOnObject_z_4</th>\n      <th>distanceToPlayer_4</th>\n    </tr>\n  </thead>\n  <tbody>\n    <tr>\n      <th>0</th>\n      <td>john</td>\n      <td>1.601117e+09</td>\n      <td>CarBody</td>\n      <td>536.973389</td>\n      <td>220.836456</td>\n      <td>1457.509766</td>\n      <td>538.671204</td>\n      <td>222.044189</td>\n      <td>1458.535645</td>\n      <td>6.952474</td>\n      <td>...</td>\n      <td>1127.379761</td>\n      <td>777.120193</td>\n      <td>Westbrueck_terrain</td>\n      <td>-502.709839</td>\n      <td>-16.4</td>\n      <td>949.637451</td>\n      <td>454.382202</td>\n      <td>221.526688</td>\n      <td>1417.338989</td>\n      <td>1188.116164</td>\n    </tr>\n    <tr>\n      <th>1</th>\n      <td>john</td>\n      <td>1.601117e+09</td>\n      <td>mons_LOD</td>\n      <td>-32.719116</td>\n      <td>210.965057</td>\n      <td>1185.078613</td>\n      <td>-26.976925</td>\n      <td>221.138657</td>\n      <td>1179.478271</td>\n      <td>631.687633</td>\n      <td>...</td>\n      <td>1412.311523</td>\n      <td>1181.482160</td>\n      <td>NaN</td>\n      <td>NaN</td>\n      <td>NaN</td>\n      <td>NaN</td>\n      <td>NaN</td>\n      <td>NaN</td>\n      <td>NaN</td>\n      <td>NaN</td>\n    </tr>\n    <tr>\n      <th>2</th>\n      <td>john</td>\n      <td>1.601117e+09</td>\n      <td>mons_LOD</td>\n      <td>-32.719116</td>\n      <td>210.965057</td>\n      <td>1185.078613</td>\n      <td>-29.614956</td>\n      <td>221.912354</td>\n      <td>1177.810791</td>\n      <td>630.870387</td>\n      <td>...</td>\n      <td>1412.132690</td>\n      <td>1180.676586</td>\n      <td>NaN</td>\n      <td>NaN</td>\n      <td>NaN</td>\n      <td>NaN</td>\n      <td>NaN</td>\n      <td>NaN</td>\n      <td>NaN</td>\n      <td>NaN</td>\n    </tr>\n    <tr>\n      <th>3</th>\n      <td>john</td>\n      <td>1.601117e+09</td>\n      <td>mons_LOD</td>\n      <td>-32.719116</td>\n      <td>210.965057</td>\n      <td>1185.078613</td>\n      <td>-25.666519</td>\n      <td>221.689301</td>\n      <td>1180.640381</td>\n      <td>630.463486</td>\n      <td>...</td>\n      <td>1412.279297</td>\n      <td>1180.275523</td>\n      <td>NaN</td>\n      <td>NaN</td>\n      <td>NaN</td>\n      <td>NaN</td>\n      <td>NaN</td>\n      <td>NaN</td>\n      <td>NaN</td>\n      <td>NaN</td>\n    </tr>\n    <tr>\n      <th>4</th>\n      <td>john</td>\n      <td>1.601117e+09</td>\n      <td>mons_LOD</td>\n      <td>-32.719116</td>\n      <td>210.965057</td>\n      <td>1185.078613</td>\n      <td>-24.435617</td>\n      <td>222.008591</td>\n      <td>1181.732056</td>\n      <td>630.058707</td>\n      <td>...</td>\n      <td>1412.311157</td>\n      <td>1179.876532</td>\n      <td>NaN</td>\n      <td>NaN</td>\n      <td>NaN</td>\n      <td>NaN</td>\n      <td>NaN</td>\n      <td>NaN</td>\n      <td>NaN</td>\n      <td>NaN</td>\n    </tr>\n    <tr>\n      <th>...</th>\n      <td>...</td>\n      <td>...</td>\n      <td>...</td>\n      <td>...</td>\n      <td>...</td>\n      <td>...</td>\n      <td>...</td>\n      <td>...</td>\n      <td>...</td>\n      <td>...</td>\n      <td>...</td>\n      <td>...</td>\n      <td>...</td>\n      <td>...</td>\n      <td>...</td>\n      <td>...</td>\n      <td>...</td>\n      <td>...</td>\n      <td>...</td>\n      <td>...</td>\n      <td>...</td>\n    </tr>\n    <tr>\n      <th>6670</th>\n      <td>john</td>\n      <td>1.601117e+09</td>\n      <td>Speed Limit 70</td>\n      <td>-589.800049</td>\n      <td>182.723572</td>\n      <td>1053.971558</td>\n      <td>-589.300049</td>\n      <td>182.827957</td>\n      <td>1053.747803</td>\n      <td>103.553406</td>\n      <td>...</td>\n      <td>NaN</td>\n      <td>NaN</td>\n      <td>NaN</td>\n      <td>NaN</td>\n      <td>NaN</td>\n      <td>NaN</td>\n      <td>NaN</td>\n      <td>NaN</td>\n      <td>NaN</td>\n      <td>NaN</td>\n    </tr>\n    <tr>\n      <th>6671</th>\n      <td>john</td>\n      <td>1.601117e+09</td>\n      <td>Speed Limit 70</td>\n      <td>-589.800049</td>\n      <td>182.723572</td>\n      <td>1053.971558</td>\n      <td>-589.300049</td>\n      <td>182.761673</td>\n      <td>1054.104248</td>\n      <td>103.278730</td>\n      <td>...</td>\n      <td>NaN</td>\n      <td>NaN</td>\n      <td>NaN</td>\n      <td>NaN</td>\n      <td>NaN</td>\n      <td>NaN</td>\n      <td>NaN</td>\n      <td>NaN</td>\n      <td>NaN</td>\n      <td>NaN</td>\n    </tr>\n    <tr>\n      <th>6672</th>\n      <td>john</td>\n      <td>1.601117e+09</td>\n      <td>Motor Vehicles Only</td>\n      <td>-567.149902</td>\n      <td>182.989990</td>\n      <td>1056.198608</td>\n      <td>-567.332642</td>\n      <td>183.976868</td>\n      <td>1055.678223</td>\n      <td>80.290445</td>\n      <td>...</td>\n      <td>1045.923096</td>\n      <td>2419.228755</td>\n      <td>NaN</td>\n      <td>NaN</td>\n      <td>NaN</td>\n      <td>NaN</td>\n      <td>NaN</td>\n      <td>NaN</td>\n      <td>NaN</td>\n      <td>NaN</td>\n    </tr>\n    <tr>\n      <th>6673</th>\n      <td>john</td>\n      <td>1.601117e+09</td>\n      <td>Motor Vehicles Only</td>\n      <td>-567.149902</td>\n      <td>182.989990</td>\n      <td>1056.198608</td>\n      <td>-566.624634</td>\n      <td>183.881180</td>\n      <td>1055.965820</td>\n      <td>80.018746</td>\n      <td>...</td>\n      <td>NaN</td>\n      <td>NaN</td>\n      <td>NaN</td>\n      <td>NaN</td>\n      <td>NaN</td>\n      <td>NaN</td>\n      <td>NaN</td>\n      <td>NaN</td>\n      <td>NaN</td>\n      <td>NaN</td>\n    </tr>\n    <tr>\n      <th>6674</th>\n      <td>john</td>\n      <td>1.601117e+09</td>\n      <td>Motor Vehicles Only</td>\n      <td>-567.149902</td>\n      <td>182.989990</td>\n      <td>1056.198608</td>\n      <td>-566.655518</td>\n      <td>184.080627</td>\n      <td>1056.280273</td>\n      <td>79.748569</td>\n      <td>...</td>\n      <td>NaN</td>\n      <td>NaN</td>\n      <td>NaN</td>\n      <td>NaN</td>\n      <td>NaN</td>\n      <td>NaN</td>\n      <td>NaN</td>\n      <td>NaN</td>\n      <td>NaN</td>\n      <td>NaN</td>\n    </tr>\n  </tbody>\n</table>\n<p>6675 rows × 42 columns</p>\n</div>"
     },
     "execution_count": 33,
     "metadata": {},
     "output_type": "execute_result"
    }
   ],
   "source": [
    "# Processing of a single file's hit objects using iteration\n",
    "allHitObjectsDataFrame = pd.DataFrame()\n",
    "for i, _ in df.iterrows():\n",
    "    co, _ = closest_objects('john', df['UnixTimeStamp'][i], df['hitObjects'][i], df['HmdPosition_x'][i], df['HmdPosition_y'][i], df['HmdPosition_z'][i])\n",
    "    allHitObjectsDataFrame = pd.concat([allHitObjectsDataFrame, co], ignore_index=True)\n",
    "\n",
    "allHitObjectsDataFrame"
   ],
   "metadata": {
    "collapsed": false,
    "ExecuteTime": {
     "end_time": "2024-03-17T23:43:58.543261Z",
     "start_time": "2024-03-17T23:43:40.214048Z"
    }
   },
   "id": "988e6b2f2f52779f",
   "execution_count": 33
  },
  {
   "cell_type": "code",
   "outputs": [],
   "source": [
    "# Processing of a single file's hit objects using dataframe merge\n",
    "# THIS FOR SOME REASON DOES NOT WORK, THROWS 'ValueError: If using all scalar values, you must pass an index'\n",
    "#allHitObjectsDataFrame = df.apply(lambda row: closest_objects('1', row['UnixTimeStamp'], row['hitObjects'], row['HmdPosition_x'], row['HmdPosition_y'], row['HmdPosition_z']), axis=1, result_type='expand')\n",
    "# \n",
    "# allHitObjectsDataFrame"
   ],
   "metadata": {
    "collapsed": false
   },
   "id": "820a5a665199854a"
  },
  {
   "cell_type": "code",
   "outputs": [],
   "source": [
    "# Processing of a single file's hit objects using dask merge\n",
    "# ddf = dd.from_pandas(df, npartitions=1)\n",
    "# ddf.repartition(partition_size=\"100MB\")\n",
    "# \n",
    "# allHitObjectsDask = ddf.apply(lambda row: closest_objects('1', row['UnixTimeStamp'], row['hitObjects'], row['HmdPosition_x'], row['HmdPosition_y'], row['HmdPosition_z']), axis=1, meta=column_dict)\n",
    "# \n",
    "# allHitObjectsDask.compute()"
   ],
   "metadata": {
    "collapsed": false
   },
   "id": "ed32faa63fb014e0"
  },
  {
   "cell_type": "markdown",
   "source": [
    "# 2. Extracting input data"
   ],
   "metadata": {
    "collapsed": false
   },
   "id": "1268a2493b0d57d7"
  },
  {
   "cell_type": "code",
   "outputs": [],
   "source": [
    "raw_folder_input_path = \"Data/0_Raw/EyeTracking/\""
   ],
   "metadata": {
    "collapsed": false,
    "ExecuteTime": {
     "end_time": "2024-03-19T18:54:20.733121Z",
     "start_time": "2024-03-19T18:54:20.729340Z"
    }
   },
   "id": "987250a2ec563647",
   "execution_count": 8
  },
  {
   "cell_type": "code",
   "outputs": [
    {
     "data": {
      "text/plain": "Dask DataFrame Structure:\n                    [\nnpartitions=1        \n               string\n                  ...\nDask Name: to_pyarrow_string, 2 graph layers",
      "text/html": "<div><strong>Dask DataFrame Structure:</strong></div>\n<div>\n<style scoped>\n    .dataframe tbody tr th:only-of-type {\n        vertical-align: middle;\n    }\n\n    .dataframe tbody tr th {\n        vertical-align: top;\n    }\n\n    .dataframe thead th {\n        text-align: right;\n    }\n</style>\n<table border=\"1\" class=\"dataframe\">\n  <thead>\n    <tr style=\"text-align: right;\">\n      <th></th>\n      <th>[</th>\n    </tr>\n    <tr>\n      <th>npartitions=1</th>\n      <th></th>\n    </tr>\n  </thead>\n  <tbody>\n    <tr>\n      <th></th>\n      <td>string</td>\n    </tr>\n    <tr>\n      <th></th>\n      <td>...</td>\n    </tr>\n  </tbody>\n</table>\n</div>\n<div>Dask Name: to_pyarrow_string, 2 graph layers</div>"
     },
     "execution_count": 9,
     "metadata": {},
     "output_type": "execute_result"
    }
   ],
   "source": [
    "dask_input_df = dd.read_csv('/Users/johnmadrid/GitHub/WestdriveLoopARData/Data/0_Raw/Input/0a68f111e4f448d3b8279db69cd9df5e_Input_Autobahn.txt', sep='\\t')\n",
    "dask_input_df"
   ],
   "metadata": {
    "collapsed": false,
    "ExecuteTime": {
     "end_time": "2024-03-19T18:54:22.465774Z",
     "start_time": "2024-03-19T18:54:22.450239Z"
    }
   },
   "id": "b004d2d31f9dbcab",
   "execution_count": 9
  },
  {
   "cell_type": "code",
   "outputs": [
    {
     "name": "stdout",
     "output_type": "stream",
     "text": [
      "Matching files:\n",
      "['0a68f111e4f448d3b8279db69cd9df5e', 'EyeTracking', 'CountryRoad']\n",
      "['0a68f111e4f448d3b8279db69cd9df5e', 'EyeTracking', 'MountainRoad']\n",
      "['0a68f111e4f448d3b8279db69cd9df5e', 'EyeTracking', 'Autobahn']\n",
      "['0a68f111e4f448d3b8279db69cd9df5e', 'EyeTracking', 'Westbrueck']\n",
      "['0a68f111e4f448d3b8279db69cd9df5e', 'EyeTracking', 'TrainingScene']\n"
     ]
    }
   ],
   "source": [
    "ids, matching_files_list = analyze_folder(raw_folder_input_path, '0a68f111e4f448d3b8279db69cd9df5e')\n"
   ],
   "metadata": {
    "collapsed": false,
    "ExecuteTime": {
     "end_time": "2024-03-19T18:54:28.477024Z",
     "start_time": "2024-03-19T18:54:28.457756Z"
    }
   },
   "id": "a4ac66a78308d58b",
   "execution_count": 10
  },
  {
   "cell_type": "code",
   "outputs": [],
   "source": [
    "# file_path = os.path.join(raw_folder_input_path, txt_file)\n",
    "with open('/Users/johnmadrid/GitHub/WestdriveLoopARData/Data/0_Raw/EyeTracking/0a68f111e4f448d3b8279db69cd9df5e_EyeTracking_Autobahn.txt', \"r\") as file:\n",
    "    data_list = json.load(file)\n",
    "# df = pd.DataFrame(data_list)"
   ],
   "metadata": {
    "collapsed": false,
    "ExecuteTime": {
     "end_time": "2024-03-20T00:39:27.457487Z",
     "start_time": "2024-03-20T00:39:27.327993Z"
    }
   },
   "id": "56685f214abbd562",
   "execution_count": 178
  },
  {
   "cell_type": "code",
   "outputs": [
    {
     "data": {
      "text/plain": "      UnixTimeStamp  TobiiTimeStamp        FPS  \\\n0      1.602674e+09      744.496460  15.570679   \n1      1.602674e+09      744.517700  16.688669   \n2      1.602674e+09      744.529968  18.130299   \n3      1.602674e+09      744.550354  19.349819   \n4      1.602674e+09      744.561890  20.978073   \n...             ...             ...        ...   \n7555   1.602675e+09      875.579163  84.273964   \n7556   1.602675e+09      875.601379  85.342766   \n7557   1.602675e+09      875.624939  85.193512   \n7558   1.602675e+09      875.636169  85.541122   \n7559   1.602675e+09      875.658813  85.997131   \n\n                                            HmdPosition  \\\n0     {'x': -1548.4849853515625, 'y': 134.3332672119...   \n1     {'x': -1554.8427734375, 'y': 133.8691558837890...   \n2     {'x': -1555.24169921875, 'y': 133.835311889648...   \n3     {'x': -1555.6414794921875, 'y': 133.8010559082...   \n4     {'x': -1556.041748046875, 'y': 133.76502990722...   \n...                                                 ...   \n7555  {'x': -604.66748046875, 'y': 64.10457611083984...   \n7556  {'x': -604.4107666015625, 'y': 64.113227844238...   \n7557  {'x': -604.1533203125, 'y': 64.12186431884766,...   \n7558  {'x': -603.8947143554688, 'y': 64.130599975585...   \n7559  {'x': -603.63427734375, 'y': 64.139404296875, ...   \n\n                                             NoseVector  \\\n0     {'x': -0.7808842062950134, 'y': 0.060032743960...   \n1     {'x': -0.7353829741477966, 'y': 0.061008527874...   \n2     {'x': -0.733123242855072, 'y': 0.0565054081380...   \n3     {'x': -0.7310828566551208, 'y': 0.052004940807...   \n4     {'x': -0.7293000221252441, 'y': 0.047270566225...   \n...                                                 ...   \n7555  {'x': 0.9606755375862122, 'y': 0.1503793001174...   \n7556  {'x': 0.961294412612915, 'y': 0.14921180903911...   \n7557  {'x': 0.9616440534591675, 'y': 0.1485013365745...   \n7558  {'x': 0.9618417024612427, 'y': 0.1481603533029...   \n7559  {'x': 0.9621937870979309, 'y': 0.1475926935672...   \n\n                                    EyePosWorldCombined  \\\n0     {'x': -1548.477783203125, 'y': 134.33255004882...   \n1     {'x': -1554.8363037109375, 'y': 133.8678131103...   \n2     {'x': -1555.23486328125, 'y': 133.833862304687...   \n3     {'x': -1555.6351318359375, 'y': 133.7997436523...   \n4     {'x': -1556.03515625, 'y': 133.76376342773438,...   \n...                                                 ...   \n7555  {'x': -604.673828125, 'y': 64.10381317138672, ...   \n7556  {'x': -604.4171142578125, 'y': 64.112464904785...   \n7557  {'x': -604.1596069335938, 'y': 64.121040344238...   \n7558  {'x': -603.9013061523438, 'y': 64.129920959472...   \n7559  {'x': -603.6407470703125, 'y': 64.138664245605...   \n\n                                    EyeDirWorldCombined  \\\n0     {'x': -0.8407058119773865, 'y': -0.10508625209...   \n1     {'x': -0.7981982827186584, 'y': -0.11080456525...   \n2     {'x': -0.7953356504440308, 'y': -0.11504980921...   \n3     {'x': -0.7930845022201538, 'y': -0.11975196748...   \n4     {'x': -0.7913675904273987, 'y': -0.12440797686...   \n...                                                 ...   \n7555  {'x': 0.9525787234306335, 'y': 0.0960365682840...   \n7556  {'x': 0.9521425366401672, 'y': 0.0953773781657...   \n7557  {'x': 0.9530147314071655, 'y': 0.0949197337031...   \n7558  {'x': 0.9513297080993652, 'y': 0.0961634665727...   \n7559  {'x': 0.9521538615226746, 'y': 0.0970381423830...   \n\n                                    EyePosLocalCombined  \\\n0     {'x': -0.00013932801084592938, 'y': -0.0025241...   \n1     {'x': 0.00011648560030153021, 'y': -0.00253092...   \n2     {'x': 0.0007309723296202719, 'y': -0.002538742...   \n3     {'x': 0.0002455291978549212, 'y': -0.002539825...   \n4     {'x': 0.00048110962961800396, 'y': -0.00254240...   \n...                                                 ...   \n7555  {'x': -0.0012636261526495218, 'y': -0.00168281...   \n7556  {'x': -0.001482177758589387, 'y': -0.001686828...   \n7557  {'x': -0.0010021667694672942, 'y': -0.00168832...   \n7558  {'x': -0.002255020197480917, 'y': -0.001688369...   \n7559  {'x': -0.002260910114273429, 'y': -0.001692718...   \n\n                                    EyeDirLocalCombined  \\\n0     {'x': -0.068359375, 'y': -0.186676025390625, '...   \n1     {'x': -0.068328857421875, 'y': -0.186691284179...   \n2     {'x': -0.0679168701171875, 'y': -0.18653869628...   \n3     {'x': -0.06817626953125, 'y': -0.1864166259765...   \n4     {'x': -0.0692138671875, 'y': -0.18647766113281...   \n...                                                 ...   \n7555  {'x': -0.0416717529296875, 'y': -0.06274414062...   \n7556  {'x': -0.0458831787109375, 'y': -0.06246948242...   \n7557  {'x': -0.0454559326171875, 'y': -0.06166076660...   \n7558  {'x': -0.0518035888671875, 'y': -0.06083679199...   \n7559  {'x': -0.0506439208984375, 'y': -0.05909729003...   \n\n      RightEyeIsBlinkingWorld  RightEyeIsBlinkingLocal  \\\n0                       False                    False   \n1                       False                    False   \n2                       False                    False   \n3                       False                    False   \n4                       False                    False   \n...                       ...                      ...   \n7555                    False                    False   \n7556                    False                    False   \n7557                    False                    False   \n7558                    False                    False   \n7559                    False                    False   \n\n      LeftEyeIsBlinkingWorld  LeftEyeIsBlinkingLocal  \\\n0                      False                   False   \n1                      False                   False   \n2                      False                   False   \n3                      False                   False   \n4                      False                   False   \n...                      ...                     ...   \n7555                   False                   False   \n7556                   False                   False   \n7557                   False                   False   \n7558                   False                   False   \n7559                   False                   False   \n\n                                             hitObjects  \n0     [{'ObjectName': 'ForestRightEntry (2)', 'HitOb...  \n1     [{'ObjectName': 'Default Road 002', 'HitObject...  \n2     [{'ObjectName': 'Default Road 001', 'HitObject...  \n3     [{'ObjectName': 'Default Road 001', 'HitObject...  \n4     [{'ObjectName': 'Default Road 001', 'HitObject...  \n...                                                 ...  \n7555  [{'ObjectName': 'Autobahn_Terrain', 'HitObject...  \n7556  [{'ObjectName': 'Autobahn_Terrain', 'HitObject...  \n7557  [{'ObjectName': 'Autobahn_Terrain', 'HitObject...  \n7558  [{'ObjectName': 'Autobahn_Terrain', 'HitObject...  \n7559  [{'ObjectName': 'Autobahn_Terrain', 'HitObject...  \n\n[7560 rows x 14 columns]",
      "text/html": "<div>\n<style scoped>\n    .dataframe tbody tr th:only-of-type {\n        vertical-align: middle;\n    }\n\n    .dataframe tbody tr th {\n        vertical-align: top;\n    }\n\n    .dataframe thead th {\n        text-align: right;\n    }\n</style>\n<table border=\"1\" class=\"dataframe\">\n  <thead>\n    <tr style=\"text-align: right;\">\n      <th></th>\n      <th>UnixTimeStamp</th>\n      <th>TobiiTimeStamp</th>\n      <th>FPS</th>\n      <th>HmdPosition</th>\n      <th>NoseVector</th>\n      <th>EyePosWorldCombined</th>\n      <th>EyeDirWorldCombined</th>\n      <th>EyePosLocalCombined</th>\n      <th>EyeDirLocalCombined</th>\n      <th>RightEyeIsBlinkingWorld</th>\n      <th>RightEyeIsBlinkingLocal</th>\n      <th>LeftEyeIsBlinkingWorld</th>\n      <th>LeftEyeIsBlinkingLocal</th>\n      <th>hitObjects</th>\n    </tr>\n  </thead>\n  <tbody>\n    <tr>\n      <th>0</th>\n      <td>1.602674e+09</td>\n      <td>744.496460</td>\n      <td>15.570679</td>\n      <td>{'x': -1548.4849853515625, 'y': 134.3332672119...</td>\n      <td>{'x': -0.7808842062950134, 'y': 0.060032743960...</td>\n      <td>{'x': -1548.477783203125, 'y': 134.33255004882...</td>\n      <td>{'x': -0.8407058119773865, 'y': -0.10508625209...</td>\n      <td>{'x': -0.00013932801084592938, 'y': -0.0025241...</td>\n      <td>{'x': -0.068359375, 'y': -0.186676025390625, '...</td>\n      <td>False</td>\n      <td>False</td>\n      <td>False</td>\n      <td>False</td>\n      <td>[{'ObjectName': 'ForestRightEntry (2)', 'HitOb...</td>\n    </tr>\n    <tr>\n      <th>1</th>\n      <td>1.602674e+09</td>\n      <td>744.517700</td>\n      <td>16.688669</td>\n      <td>{'x': -1554.8427734375, 'y': 133.8691558837890...</td>\n      <td>{'x': -0.7353829741477966, 'y': 0.061008527874...</td>\n      <td>{'x': -1554.8363037109375, 'y': 133.8678131103...</td>\n      <td>{'x': -0.7981982827186584, 'y': -0.11080456525...</td>\n      <td>{'x': 0.00011648560030153021, 'y': -0.00253092...</td>\n      <td>{'x': -0.068328857421875, 'y': -0.186691284179...</td>\n      <td>False</td>\n      <td>False</td>\n      <td>False</td>\n      <td>False</td>\n      <td>[{'ObjectName': 'Default Road 002', 'HitObject...</td>\n    </tr>\n    <tr>\n      <th>2</th>\n      <td>1.602674e+09</td>\n      <td>744.529968</td>\n      <td>18.130299</td>\n      <td>{'x': -1555.24169921875, 'y': 133.835311889648...</td>\n      <td>{'x': -0.733123242855072, 'y': 0.0565054081380...</td>\n      <td>{'x': -1555.23486328125, 'y': 133.833862304687...</td>\n      <td>{'x': -0.7953356504440308, 'y': -0.11504980921...</td>\n      <td>{'x': 0.0007309723296202719, 'y': -0.002538742...</td>\n      <td>{'x': -0.0679168701171875, 'y': -0.18653869628...</td>\n      <td>False</td>\n      <td>False</td>\n      <td>False</td>\n      <td>False</td>\n      <td>[{'ObjectName': 'Default Road 001', 'HitObject...</td>\n    </tr>\n    <tr>\n      <th>3</th>\n      <td>1.602674e+09</td>\n      <td>744.550354</td>\n      <td>19.349819</td>\n      <td>{'x': -1555.6414794921875, 'y': 133.8010559082...</td>\n      <td>{'x': -0.7310828566551208, 'y': 0.052004940807...</td>\n      <td>{'x': -1555.6351318359375, 'y': 133.7997436523...</td>\n      <td>{'x': -0.7930845022201538, 'y': -0.11975196748...</td>\n      <td>{'x': 0.0002455291978549212, 'y': -0.002539825...</td>\n      <td>{'x': -0.06817626953125, 'y': -0.1864166259765...</td>\n      <td>False</td>\n      <td>False</td>\n      <td>False</td>\n      <td>False</td>\n      <td>[{'ObjectName': 'Default Road 001', 'HitObject...</td>\n    </tr>\n    <tr>\n      <th>4</th>\n      <td>1.602674e+09</td>\n      <td>744.561890</td>\n      <td>20.978073</td>\n      <td>{'x': -1556.041748046875, 'y': 133.76502990722...</td>\n      <td>{'x': -0.7293000221252441, 'y': 0.047270566225...</td>\n      <td>{'x': -1556.03515625, 'y': 133.76376342773438,...</td>\n      <td>{'x': -0.7913675904273987, 'y': -0.12440797686...</td>\n      <td>{'x': 0.00048110962961800396, 'y': -0.00254240...</td>\n      <td>{'x': -0.0692138671875, 'y': -0.18647766113281...</td>\n      <td>False</td>\n      <td>False</td>\n      <td>False</td>\n      <td>False</td>\n      <td>[{'ObjectName': 'Default Road 001', 'HitObject...</td>\n    </tr>\n    <tr>\n      <th>...</th>\n      <td>...</td>\n      <td>...</td>\n      <td>...</td>\n      <td>...</td>\n      <td>...</td>\n      <td>...</td>\n      <td>...</td>\n      <td>...</td>\n      <td>...</td>\n      <td>...</td>\n      <td>...</td>\n      <td>...</td>\n      <td>...</td>\n      <td>...</td>\n    </tr>\n    <tr>\n      <th>7555</th>\n      <td>1.602675e+09</td>\n      <td>875.579163</td>\n      <td>84.273964</td>\n      <td>{'x': -604.66748046875, 'y': 64.10457611083984...</td>\n      <td>{'x': 0.9606755375862122, 'y': 0.1503793001174...</td>\n      <td>{'x': -604.673828125, 'y': 64.10381317138672, ...</td>\n      <td>{'x': 0.9525787234306335, 'y': 0.0960365682840...</td>\n      <td>{'x': -0.0012636261526495218, 'y': -0.00168281...</td>\n      <td>{'x': -0.0416717529296875, 'y': -0.06274414062...</td>\n      <td>False</td>\n      <td>False</td>\n      <td>False</td>\n      <td>False</td>\n      <td>[{'ObjectName': 'Autobahn_Terrain', 'HitObject...</td>\n    </tr>\n    <tr>\n      <th>7556</th>\n      <td>1.602675e+09</td>\n      <td>875.601379</td>\n      <td>85.342766</td>\n      <td>{'x': -604.4107666015625, 'y': 64.113227844238...</td>\n      <td>{'x': 0.961294412612915, 'y': 0.14921180903911...</td>\n      <td>{'x': -604.4171142578125, 'y': 64.112464904785...</td>\n      <td>{'x': 0.9521425366401672, 'y': 0.0953773781657...</td>\n      <td>{'x': -0.001482177758589387, 'y': -0.001686828...</td>\n      <td>{'x': -0.0458831787109375, 'y': -0.06246948242...</td>\n      <td>False</td>\n      <td>False</td>\n      <td>False</td>\n      <td>False</td>\n      <td>[{'ObjectName': 'Autobahn_Terrain', 'HitObject...</td>\n    </tr>\n    <tr>\n      <th>7557</th>\n      <td>1.602675e+09</td>\n      <td>875.624939</td>\n      <td>85.193512</td>\n      <td>{'x': -604.1533203125, 'y': 64.12186431884766,...</td>\n      <td>{'x': 0.9616440534591675, 'y': 0.1485013365745...</td>\n      <td>{'x': -604.1596069335938, 'y': 64.121040344238...</td>\n      <td>{'x': 0.9530147314071655, 'y': 0.0949197337031...</td>\n      <td>{'x': -0.0010021667694672942, 'y': -0.00168832...</td>\n      <td>{'x': -0.0454559326171875, 'y': -0.06166076660...</td>\n      <td>False</td>\n      <td>False</td>\n      <td>False</td>\n      <td>False</td>\n      <td>[{'ObjectName': 'Autobahn_Terrain', 'HitObject...</td>\n    </tr>\n    <tr>\n      <th>7558</th>\n      <td>1.602675e+09</td>\n      <td>875.636169</td>\n      <td>85.541122</td>\n      <td>{'x': -603.8947143554688, 'y': 64.130599975585...</td>\n      <td>{'x': 0.9618417024612427, 'y': 0.1481603533029...</td>\n      <td>{'x': -603.9013061523438, 'y': 64.129920959472...</td>\n      <td>{'x': 0.9513297080993652, 'y': 0.0961634665727...</td>\n      <td>{'x': -0.002255020197480917, 'y': -0.001688369...</td>\n      <td>{'x': -0.0518035888671875, 'y': -0.06083679199...</td>\n      <td>False</td>\n      <td>False</td>\n      <td>False</td>\n      <td>False</td>\n      <td>[{'ObjectName': 'Autobahn_Terrain', 'HitObject...</td>\n    </tr>\n    <tr>\n      <th>7559</th>\n      <td>1.602675e+09</td>\n      <td>875.658813</td>\n      <td>85.997131</td>\n      <td>{'x': -603.63427734375, 'y': 64.139404296875, ...</td>\n      <td>{'x': 0.9621937870979309, 'y': 0.1475926935672...</td>\n      <td>{'x': -603.6407470703125, 'y': 64.138664245605...</td>\n      <td>{'x': 0.9521538615226746, 'y': 0.0970381423830...</td>\n      <td>{'x': -0.002260910114273429, 'y': -0.001692718...</td>\n      <td>{'x': -0.0506439208984375, 'y': -0.05909729003...</td>\n      <td>False</td>\n      <td>False</td>\n      <td>False</td>\n      <td>False</td>\n      <td>[{'ObjectName': 'Autobahn_Terrain', 'HitObject...</td>\n    </tr>\n  </tbody>\n</table>\n<p>7560 rows × 14 columns</p>\n</div>"
     },
     "execution_count": 60,
     "metadata": {},
     "output_type": "execute_result"
    }
   ],
   "source": [
    "df"
   ],
   "metadata": {
    "collapsed": false,
    "ExecuteTime": {
     "end_time": "2024-03-19T19:26:40.950909Z",
     "start_time": "2024-03-19T19:26:40.948765Z"
    }
   },
   "id": "fd6c7f444b37966e",
   "execution_count": 60
  },
  {
   "cell_type": "code",
   "outputs": [
    {
     "data": {
      "text/plain": "      UnixTimeStamp  TobiiTimeStamp        FPS  RightEyeIsBlinkingWorld  \\\n0      1.602674e+09      744.496460  15.570679                    False   \n1      1.602674e+09      744.517700  16.688669                    False   \n2      1.602674e+09      744.529968  18.130299                    False   \n3      1.602674e+09      744.550354  19.349819                    False   \n4      1.602674e+09      744.561890  20.978073                    False   \n...             ...             ...        ...                      ...   \n7555   1.602675e+09      875.579163  84.273964                    False   \n7556   1.602675e+09      875.601379  85.342766                    False   \n7557   1.602675e+09      875.624939  85.193512                    False   \n7558   1.602675e+09      875.636169  85.541122                    False   \n7559   1.602675e+09      875.658813  85.997131                    False   \n\n      RightEyeIsBlinkingLocal  LeftEyeIsBlinkingWorld  LeftEyeIsBlinkingLocal  \\\n0                       False                   False                   False   \n1                       False                   False                   False   \n2                       False                   False                   False   \n3                       False                   False                   False   \n4                       False                   False                   False   \n...                       ...                     ...                     ...   \n7555                    False                   False                   False   \n7556                    False                   False                   False   \n7557                    False                   False                   False   \n7558                    False                   False                   False   \n7559                    False                   False                   False   \n\n                                             hitObjects  HmdPosition.x  \\\n0     [{'ObjectName': 'ForestRightEntry (2)', 'HitOb...   -1548.484985   \n1     [{'ObjectName': 'Default Road 002', 'HitObject...   -1554.842773   \n2     [{'ObjectName': 'Default Road 001', 'HitObject...   -1555.241699   \n3     [{'ObjectName': 'Default Road 001', 'HitObject...   -1555.641479   \n4     [{'ObjectName': 'Default Road 001', 'HitObject...   -1556.041748   \n...                                                 ...            ...   \n7555  [{'ObjectName': 'Autobahn_Terrain', 'HitObject...    -604.667480   \n7556  [{'ObjectName': 'Autobahn_Terrain', 'HitObject...    -604.410767   \n7557  [{'ObjectName': 'Autobahn_Terrain', 'HitObject...    -604.153320   \n7558  [{'ObjectName': 'Autobahn_Terrain', 'HitObject...    -603.894714   \n7559  [{'ObjectName': 'Autobahn_Terrain', 'HitObject...    -603.634277   \n\n      HmdPosition.y  ...  EyePosWorldCombined.z  EyeDirWorldCombined.x  \\\n0        134.333267  ...            2660.845947              -0.840706   \n1        133.869156  ...            2665.263672              -0.798198   \n2        133.835312  ...            2665.557129              -0.795336   \n3        133.801056  ...            2665.851807              -0.793085   \n4        133.765030  ...            2666.147705              -0.791368   \n...             ...  ...                    ...                    ...   \n7555      64.104576  ...            5073.665527               0.952579   \n7556      64.113228  ...            5073.762695               0.952143   \n7557      64.121864  ...            5073.859863               0.953015   \n7558      64.130600  ...            5073.959961               0.951330   \n7559      64.139404  ...            5074.058105               0.952154   \n\n      EyeDirWorldCombined.y  EyeDirWorldCombined.z  EyePosLocalCombined.x  \\\n0                 -0.105086               0.531171              -0.000139   \n1                 -0.110805               0.592094               0.000116   \n2                 -0.115050               0.595135               0.000731   \n3                 -0.119752               0.597199               0.000246   \n4                 -0.124408               0.598536               0.000481   \n...                     ...                    ...                    ...   \n7555               0.096037               0.288696              -0.001264   \n7556               0.095377               0.290348              -0.001482   \n7557               0.094920               0.287646              -0.001002   \n7558               0.096163               0.292764              -0.002255   \n7559               0.097038               0.289794              -0.002261   \n\n      EyePosLocalCombined.y  EyePosLocalCombined.z  EyeDirLocalCombined.x  \\\n0                 -0.002524              -0.022862              -0.068359   \n1                 -0.002531              -0.022852              -0.068329   \n2                 -0.002539              -0.022830              -0.067917   \n3                 -0.002540              -0.022831              -0.068176   \n4                 -0.002542              -0.022823              -0.069214   \n...                     ...                    ...                    ...   \n7555              -0.001683              -0.022942              -0.041672   \n7556              -0.001687              -0.022901              -0.045883   \n7557              -0.001688              -0.022887              -0.045456   \n7558              -0.001688              -0.022901              -0.051804   \n7559              -0.001693              -0.022890              -0.050644   \n\n      EyeDirLocalCombined.y  EyeDirLocalCombined.z  \n0                 -0.186676               0.980026  \n1                 -0.186691               0.980026  \n2                 -0.186539               0.980087  \n3                 -0.186417               0.980087  \n4                 -0.186478               0.980011  \n...                     ...                    ...  \n7555              -0.062744               0.997147  \n7556              -0.062469               0.996979  \n7557              -0.061661               0.997055  \n7558              -0.060837               0.996796  \n7559              -0.059097               0.996964  \n\n[7560 rows x 26 columns]",
      "text/html": "<div>\n<style scoped>\n    .dataframe tbody tr th:only-of-type {\n        vertical-align: middle;\n    }\n\n    .dataframe tbody tr th {\n        vertical-align: top;\n    }\n\n    .dataframe thead th {\n        text-align: right;\n    }\n</style>\n<table border=\"1\" class=\"dataframe\">\n  <thead>\n    <tr style=\"text-align: right;\">\n      <th></th>\n      <th>UnixTimeStamp</th>\n      <th>TobiiTimeStamp</th>\n      <th>FPS</th>\n      <th>RightEyeIsBlinkingWorld</th>\n      <th>RightEyeIsBlinkingLocal</th>\n      <th>LeftEyeIsBlinkingWorld</th>\n      <th>LeftEyeIsBlinkingLocal</th>\n      <th>hitObjects</th>\n      <th>HmdPosition.x</th>\n      <th>HmdPosition.y</th>\n      <th>...</th>\n      <th>EyePosWorldCombined.z</th>\n      <th>EyeDirWorldCombined.x</th>\n      <th>EyeDirWorldCombined.y</th>\n      <th>EyeDirWorldCombined.z</th>\n      <th>EyePosLocalCombined.x</th>\n      <th>EyePosLocalCombined.y</th>\n      <th>EyePosLocalCombined.z</th>\n      <th>EyeDirLocalCombined.x</th>\n      <th>EyeDirLocalCombined.y</th>\n      <th>EyeDirLocalCombined.z</th>\n    </tr>\n  </thead>\n  <tbody>\n    <tr>\n      <th>0</th>\n      <td>1.602674e+09</td>\n      <td>744.496460</td>\n      <td>15.570679</td>\n      <td>False</td>\n      <td>False</td>\n      <td>False</td>\n      <td>False</td>\n      <td>[{'ObjectName': 'ForestRightEntry (2)', 'HitOb...</td>\n      <td>-1548.484985</td>\n      <td>134.333267</td>\n      <td>...</td>\n      <td>2660.845947</td>\n      <td>-0.840706</td>\n      <td>-0.105086</td>\n      <td>0.531171</td>\n      <td>-0.000139</td>\n      <td>-0.002524</td>\n      <td>-0.022862</td>\n      <td>-0.068359</td>\n      <td>-0.186676</td>\n      <td>0.980026</td>\n    </tr>\n    <tr>\n      <th>1</th>\n      <td>1.602674e+09</td>\n      <td>744.517700</td>\n      <td>16.688669</td>\n      <td>False</td>\n      <td>False</td>\n      <td>False</td>\n      <td>False</td>\n      <td>[{'ObjectName': 'Default Road 002', 'HitObject...</td>\n      <td>-1554.842773</td>\n      <td>133.869156</td>\n      <td>...</td>\n      <td>2665.263672</td>\n      <td>-0.798198</td>\n      <td>-0.110805</td>\n      <td>0.592094</td>\n      <td>0.000116</td>\n      <td>-0.002531</td>\n      <td>-0.022852</td>\n      <td>-0.068329</td>\n      <td>-0.186691</td>\n      <td>0.980026</td>\n    </tr>\n    <tr>\n      <th>2</th>\n      <td>1.602674e+09</td>\n      <td>744.529968</td>\n      <td>18.130299</td>\n      <td>False</td>\n      <td>False</td>\n      <td>False</td>\n      <td>False</td>\n      <td>[{'ObjectName': 'Default Road 001', 'HitObject...</td>\n      <td>-1555.241699</td>\n      <td>133.835312</td>\n      <td>...</td>\n      <td>2665.557129</td>\n      <td>-0.795336</td>\n      <td>-0.115050</td>\n      <td>0.595135</td>\n      <td>0.000731</td>\n      <td>-0.002539</td>\n      <td>-0.022830</td>\n      <td>-0.067917</td>\n      <td>-0.186539</td>\n      <td>0.980087</td>\n    </tr>\n    <tr>\n      <th>3</th>\n      <td>1.602674e+09</td>\n      <td>744.550354</td>\n      <td>19.349819</td>\n      <td>False</td>\n      <td>False</td>\n      <td>False</td>\n      <td>False</td>\n      <td>[{'ObjectName': 'Default Road 001', 'HitObject...</td>\n      <td>-1555.641479</td>\n      <td>133.801056</td>\n      <td>...</td>\n      <td>2665.851807</td>\n      <td>-0.793085</td>\n      <td>-0.119752</td>\n      <td>0.597199</td>\n      <td>0.000246</td>\n      <td>-0.002540</td>\n      <td>-0.022831</td>\n      <td>-0.068176</td>\n      <td>-0.186417</td>\n      <td>0.980087</td>\n    </tr>\n    <tr>\n      <th>4</th>\n      <td>1.602674e+09</td>\n      <td>744.561890</td>\n      <td>20.978073</td>\n      <td>False</td>\n      <td>False</td>\n      <td>False</td>\n      <td>False</td>\n      <td>[{'ObjectName': 'Default Road 001', 'HitObject...</td>\n      <td>-1556.041748</td>\n      <td>133.765030</td>\n      <td>...</td>\n      <td>2666.147705</td>\n      <td>-0.791368</td>\n      <td>-0.124408</td>\n      <td>0.598536</td>\n      <td>0.000481</td>\n      <td>-0.002542</td>\n      <td>-0.022823</td>\n      <td>-0.069214</td>\n      <td>-0.186478</td>\n      <td>0.980011</td>\n    </tr>\n    <tr>\n      <th>...</th>\n      <td>...</td>\n      <td>...</td>\n      <td>...</td>\n      <td>...</td>\n      <td>...</td>\n      <td>...</td>\n      <td>...</td>\n      <td>...</td>\n      <td>...</td>\n      <td>...</td>\n      <td>...</td>\n      <td>...</td>\n      <td>...</td>\n      <td>...</td>\n      <td>...</td>\n      <td>...</td>\n      <td>...</td>\n      <td>...</td>\n      <td>...</td>\n      <td>...</td>\n      <td>...</td>\n    </tr>\n    <tr>\n      <th>7555</th>\n      <td>1.602675e+09</td>\n      <td>875.579163</td>\n      <td>84.273964</td>\n      <td>False</td>\n      <td>False</td>\n      <td>False</td>\n      <td>False</td>\n      <td>[{'ObjectName': 'Autobahn_Terrain', 'HitObject...</td>\n      <td>-604.667480</td>\n      <td>64.104576</td>\n      <td>...</td>\n      <td>5073.665527</td>\n      <td>0.952579</td>\n      <td>0.096037</td>\n      <td>0.288696</td>\n      <td>-0.001264</td>\n      <td>-0.001683</td>\n      <td>-0.022942</td>\n      <td>-0.041672</td>\n      <td>-0.062744</td>\n      <td>0.997147</td>\n    </tr>\n    <tr>\n      <th>7556</th>\n      <td>1.602675e+09</td>\n      <td>875.601379</td>\n      <td>85.342766</td>\n      <td>False</td>\n      <td>False</td>\n      <td>False</td>\n      <td>False</td>\n      <td>[{'ObjectName': 'Autobahn_Terrain', 'HitObject...</td>\n      <td>-604.410767</td>\n      <td>64.113228</td>\n      <td>...</td>\n      <td>5073.762695</td>\n      <td>0.952143</td>\n      <td>0.095377</td>\n      <td>0.290348</td>\n      <td>-0.001482</td>\n      <td>-0.001687</td>\n      <td>-0.022901</td>\n      <td>-0.045883</td>\n      <td>-0.062469</td>\n      <td>0.996979</td>\n    </tr>\n    <tr>\n      <th>7557</th>\n      <td>1.602675e+09</td>\n      <td>875.624939</td>\n      <td>85.193512</td>\n      <td>False</td>\n      <td>False</td>\n      <td>False</td>\n      <td>False</td>\n      <td>[{'ObjectName': 'Autobahn_Terrain', 'HitObject...</td>\n      <td>-604.153320</td>\n      <td>64.121864</td>\n      <td>...</td>\n      <td>5073.859863</td>\n      <td>0.953015</td>\n      <td>0.094920</td>\n      <td>0.287646</td>\n      <td>-0.001002</td>\n      <td>-0.001688</td>\n      <td>-0.022887</td>\n      <td>-0.045456</td>\n      <td>-0.061661</td>\n      <td>0.997055</td>\n    </tr>\n    <tr>\n      <th>7558</th>\n      <td>1.602675e+09</td>\n      <td>875.636169</td>\n      <td>85.541122</td>\n      <td>False</td>\n      <td>False</td>\n      <td>False</td>\n      <td>False</td>\n      <td>[{'ObjectName': 'Autobahn_Terrain', 'HitObject...</td>\n      <td>-603.894714</td>\n      <td>64.130600</td>\n      <td>...</td>\n      <td>5073.959961</td>\n      <td>0.951330</td>\n      <td>0.096163</td>\n      <td>0.292764</td>\n      <td>-0.002255</td>\n      <td>-0.001688</td>\n      <td>-0.022901</td>\n      <td>-0.051804</td>\n      <td>-0.060837</td>\n      <td>0.996796</td>\n    </tr>\n    <tr>\n      <th>7559</th>\n      <td>1.602675e+09</td>\n      <td>875.658813</td>\n      <td>85.997131</td>\n      <td>False</td>\n      <td>False</td>\n      <td>False</td>\n      <td>False</td>\n      <td>[{'ObjectName': 'Autobahn_Terrain', 'HitObject...</td>\n      <td>-603.634277</td>\n      <td>64.139404</td>\n      <td>...</td>\n      <td>5074.058105</td>\n      <td>0.952154</td>\n      <td>0.097038</td>\n      <td>0.289794</td>\n      <td>-0.002261</td>\n      <td>-0.001693</td>\n      <td>-0.022890</td>\n      <td>-0.050644</td>\n      <td>-0.059097</td>\n      <td>0.996964</td>\n    </tr>\n  </tbody>\n</table>\n<p>7560 rows × 26 columns</p>\n</div>"
     },
     "execution_count": 187,
     "metadata": {},
     "output_type": "execute_result"
    }
   ],
   "source": [
    "# df = pd.read_json('your_file.json', lines=True)\n",
    "\n",
    "# Assuming the nested dictionary is in the 'acList' column\n",
    "normalized_data = pd.json_normalize(data_list,max_level=1)\n",
    "normalized_data\n",
    "# Create new columns for each key-value pair\n",
    "# df = pd.concat([df, normalized_data], axis=1)"
   ],
   "metadata": {
    "collapsed": false,
    "ExecuteTime": {
     "end_time": "2024-03-20T00:44:34.700109Z",
     "start_time": "2024-03-20T00:44:34.439276Z"
    }
   },
   "id": "f299687b10b3e2ed",
   "execution_count": 187
  },
  {
   "cell_type": "code",
   "outputs": [
    {
     "data": {
      "text/plain": "   UnixTimeStamp  TobiiTimeStamp        FPS  RightEyeIsBlinkingWorld  \\\n0   1.602674e+09      744.496460  15.570679                    False   \n1   1.602674e+09      744.517700  16.688669                    False   \n2   1.602674e+09      744.529968  18.130299                    False   \n3   1.602674e+09      744.550354  19.349819                    False   \n4   1.602674e+09      744.561890  20.978073                    False   \n\n   RightEyeIsBlinkingLocal  LeftEyeIsBlinkingWorld  LeftEyeIsBlinkingLocal  \\\n0                    False                   False                   False   \n1                    False                   False                   False   \n2                    False                   False                   False   \n3                    False                   False                   False   \n4                    False                   False                   False   \n\n                                          hitObjects  HmdPosition.x  \\\n0  [{'ObjectName': 'ForestRightEntry (2)', 'HitOb...   -1548.484985   \n1  [{'ObjectName': 'Default Road 002', 'HitObject...   -1554.842773   \n2  [{'ObjectName': 'Default Road 001', 'HitObject...   -1555.241699   \n3  [{'ObjectName': 'Default Road 001', 'HitObject...   -1555.641479   \n4  [{'ObjectName': 'Default Road 001', 'HitObject...   -1556.041748   \n\n   HmdPosition.y  ...  EyePosWorldCombined.z  EyeDirWorldCombined.x  \\\n0     134.333267  ...            2660.845947              -0.840706   \n1     133.869156  ...            2665.263672              -0.798198   \n2     133.835312  ...            2665.557129              -0.795336   \n3     133.801056  ...            2665.851807              -0.793085   \n4     133.765030  ...            2666.147705              -0.791368   \n\n   EyeDirWorldCombined.y  EyeDirWorldCombined.z  EyePosLocalCombined.x  \\\n0              -0.105086               0.531171              -0.000139   \n1              -0.110805               0.592094               0.000116   \n2              -0.115050               0.595135               0.000731   \n3              -0.119752               0.597199               0.000246   \n4              -0.124408               0.598536               0.000481   \n\n   EyePosLocalCombined.y  EyePosLocalCombined.z  EyeDirLocalCombined.x  \\\n0              -0.002524              -0.022862              -0.068359   \n1              -0.002531              -0.022852              -0.068329   \n2              -0.002539              -0.022830              -0.067917   \n3              -0.002540              -0.022831              -0.068176   \n4              -0.002542              -0.022823              -0.069214   \n\n   EyeDirLocalCombined.y  EyeDirLocalCombined.z  \n0              -0.186676               0.980026  \n1              -0.186691               0.980026  \n2              -0.186539               0.980087  \n3              -0.186417               0.980087  \n4              -0.186478               0.980011  \n\n[5 rows x 26 columns]",
      "text/html": "<div>\n<style scoped>\n    .dataframe tbody tr th:only-of-type {\n        vertical-align: middle;\n    }\n\n    .dataframe tbody tr th {\n        vertical-align: top;\n    }\n\n    .dataframe thead th {\n        text-align: right;\n    }\n</style>\n<table border=\"1\" class=\"dataframe\">\n  <thead>\n    <tr style=\"text-align: right;\">\n      <th></th>\n      <th>UnixTimeStamp</th>\n      <th>TobiiTimeStamp</th>\n      <th>FPS</th>\n      <th>RightEyeIsBlinkingWorld</th>\n      <th>RightEyeIsBlinkingLocal</th>\n      <th>LeftEyeIsBlinkingWorld</th>\n      <th>LeftEyeIsBlinkingLocal</th>\n      <th>hitObjects</th>\n      <th>HmdPosition.x</th>\n      <th>HmdPosition.y</th>\n      <th>...</th>\n      <th>EyePosWorldCombined.z</th>\n      <th>EyeDirWorldCombined.x</th>\n      <th>EyeDirWorldCombined.y</th>\n      <th>EyeDirWorldCombined.z</th>\n      <th>EyePosLocalCombined.x</th>\n      <th>EyePosLocalCombined.y</th>\n      <th>EyePosLocalCombined.z</th>\n      <th>EyeDirLocalCombined.x</th>\n      <th>EyeDirLocalCombined.y</th>\n      <th>EyeDirLocalCombined.z</th>\n    </tr>\n  </thead>\n  <tbody>\n    <tr>\n      <th>0</th>\n      <td>1.602674e+09</td>\n      <td>744.496460</td>\n      <td>15.570679</td>\n      <td>False</td>\n      <td>False</td>\n      <td>False</td>\n      <td>False</td>\n      <td>[{'ObjectName': 'ForestRightEntry (2)', 'HitOb...</td>\n      <td>-1548.484985</td>\n      <td>134.333267</td>\n      <td>...</td>\n      <td>2660.845947</td>\n      <td>-0.840706</td>\n      <td>-0.105086</td>\n      <td>0.531171</td>\n      <td>-0.000139</td>\n      <td>-0.002524</td>\n      <td>-0.022862</td>\n      <td>-0.068359</td>\n      <td>-0.186676</td>\n      <td>0.980026</td>\n    </tr>\n    <tr>\n      <th>1</th>\n      <td>1.602674e+09</td>\n      <td>744.517700</td>\n      <td>16.688669</td>\n      <td>False</td>\n      <td>False</td>\n      <td>False</td>\n      <td>False</td>\n      <td>[{'ObjectName': 'Default Road 002', 'HitObject...</td>\n      <td>-1554.842773</td>\n      <td>133.869156</td>\n      <td>...</td>\n      <td>2665.263672</td>\n      <td>-0.798198</td>\n      <td>-0.110805</td>\n      <td>0.592094</td>\n      <td>0.000116</td>\n      <td>-0.002531</td>\n      <td>-0.022852</td>\n      <td>-0.068329</td>\n      <td>-0.186691</td>\n      <td>0.980026</td>\n    </tr>\n    <tr>\n      <th>2</th>\n      <td>1.602674e+09</td>\n      <td>744.529968</td>\n      <td>18.130299</td>\n      <td>False</td>\n      <td>False</td>\n      <td>False</td>\n      <td>False</td>\n      <td>[{'ObjectName': 'Default Road 001', 'HitObject...</td>\n      <td>-1555.241699</td>\n      <td>133.835312</td>\n      <td>...</td>\n      <td>2665.557129</td>\n      <td>-0.795336</td>\n      <td>-0.115050</td>\n      <td>0.595135</td>\n      <td>0.000731</td>\n      <td>-0.002539</td>\n      <td>-0.022830</td>\n      <td>-0.067917</td>\n      <td>-0.186539</td>\n      <td>0.980087</td>\n    </tr>\n    <tr>\n      <th>3</th>\n      <td>1.602674e+09</td>\n      <td>744.550354</td>\n      <td>19.349819</td>\n      <td>False</td>\n      <td>False</td>\n      <td>False</td>\n      <td>False</td>\n      <td>[{'ObjectName': 'Default Road 001', 'HitObject...</td>\n      <td>-1555.641479</td>\n      <td>133.801056</td>\n      <td>...</td>\n      <td>2665.851807</td>\n      <td>-0.793085</td>\n      <td>-0.119752</td>\n      <td>0.597199</td>\n      <td>0.000246</td>\n      <td>-0.002540</td>\n      <td>-0.022831</td>\n      <td>-0.068176</td>\n      <td>-0.186417</td>\n      <td>0.980087</td>\n    </tr>\n    <tr>\n      <th>4</th>\n      <td>1.602674e+09</td>\n      <td>744.561890</td>\n      <td>20.978073</td>\n      <td>False</td>\n      <td>False</td>\n      <td>False</td>\n      <td>False</td>\n      <td>[{'ObjectName': 'Default Road 001', 'HitObject...</td>\n      <td>-1556.041748</td>\n      <td>133.765030</td>\n      <td>...</td>\n      <td>2666.147705</td>\n      <td>-0.791368</td>\n      <td>-0.124408</td>\n      <td>0.598536</td>\n      <td>0.000481</td>\n      <td>-0.002542</td>\n      <td>-0.022823</td>\n      <td>-0.069214</td>\n      <td>-0.186478</td>\n      <td>0.980011</td>\n    </tr>\n  </tbody>\n</table>\n<p>5 rows × 26 columns</p>\n</div>"
     },
     "execution_count": 185,
     "metadata": {},
     "output_type": "execute_result"
    }
   ],
   "source": [
    "from ast import literal_eval\n",
    "\n",
    "normalized_data[\"hitObjects\"] = hitObjectList = literal_eval(normalized_data[\"hitObjects\"]) if isinstance(normalized_data[\"hitObjects\"], str) else normalized_data[\"hitObjects\"]\n",
    "normalized_data.head()"
   ],
   "metadata": {
    "collapsed": false,
    "ExecuteTime": {
     "end_time": "2024-03-20T00:43:47.485028Z",
     "start_time": "2024-03-20T00:43:47.464584Z"
    }
   },
   "id": "84611eae03b5cc72",
   "execution_count": 185
  },
  {
   "cell_type": "code",
   "outputs": [
    {
     "data": {
      "text/plain": "      UnixTimeStamp  TobiiTimeStamp        FPS  RightEyeIsBlinkingWorld  \\\n0      1.602674e+09      744.496460  15.570679                    False   \n1      1.602674e+09      744.517700  16.688669                    False   \n2      1.602674e+09      744.529968  18.130299                    False   \n3      1.602674e+09      744.550354  19.349819                    False   \n4      1.602674e+09      744.561890  20.978073                    False   \n...             ...             ...        ...                      ...   \n7555   1.602675e+09      875.579163  84.273964                    False   \n7556   1.602675e+09      875.601379  85.342766                    False   \n7557   1.602675e+09      875.624939  85.193512                    False   \n7558   1.602675e+09      875.636169  85.541122                    False   \n7559   1.602675e+09      875.658813  85.997131                    False   \n\n      RightEyeIsBlinkingLocal  LeftEyeIsBlinkingWorld  LeftEyeIsBlinkingLocal  \\\n0                       False                   False                   False   \n1                       False                   False                   False   \n2                       False                   False                   False   \n3                       False                   False                   False   \n4                       False                   False                   False   \n...                       ...                     ...                     ...   \n7555                    False                   False                   False   \n7556                    False                   False                   False   \n7557                    False                   False                   False   \n7558                    False                   False                   False   \n7559                    False                   False                   False   \n\n                                             hitObjects  HmdPosition.x  \\\n0     [{'ObjectName': 'ForestRightEntry (2)', 'HitOb...   -1548.484985   \n1     [{'ObjectName': 'Default Road 002', 'HitObject...   -1554.842773   \n2     [{'ObjectName': 'Default Road 001', 'HitObject...   -1555.241699   \n3     [{'ObjectName': 'Default Road 001', 'HitObject...   -1555.641479   \n4     [{'ObjectName': 'Default Road 001', 'HitObject...   -1556.041748   \n...                                                 ...            ...   \n7555  [{'ObjectName': 'Autobahn_Terrain', 'HitObject...    -604.667480   \n7556  [{'ObjectName': 'Autobahn_Terrain', 'HitObject...    -604.410767   \n7557  [{'ObjectName': 'Autobahn_Terrain', 'HitObject...    -604.153320   \n7558  [{'ObjectName': 'Autobahn_Terrain', 'HitObject...    -603.894714   \n7559  [{'ObjectName': 'Autobahn_Terrain', 'HitObject...    -603.634277   \n\n      HmdPosition.y  ...  EyePosWorldCombined.z  EyeDirWorldCombined.x  \\\n0        134.333267  ...            2660.845947              -0.840706   \n1        133.869156  ...            2665.263672              -0.798198   \n2        133.835312  ...            2665.557129              -0.795336   \n3        133.801056  ...            2665.851807              -0.793085   \n4        133.765030  ...            2666.147705              -0.791368   \n...             ...  ...                    ...                    ...   \n7555      64.104576  ...            5073.665527               0.952579   \n7556      64.113228  ...            5073.762695               0.952143   \n7557      64.121864  ...            5073.859863               0.953015   \n7558      64.130600  ...            5073.959961               0.951330   \n7559      64.139404  ...            5074.058105               0.952154   \n\n      EyeDirWorldCombined.y  EyeDirWorldCombined.z  EyePosLocalCombined.x  \\\n0                 -0.105086               0.531171              -0.000139   \n1                 -0.110805               0.592094               0.000116   \n2                 -0.115050               0.595135               0.000731   \n3                 -0.119752               0.597199               0.000246   \n4                 -0.124408               0.598536               0.000481   \n...                     ...                    ...                    ...   \n7555               0.096037               0.288696              -0.001264   \n7556               0.095377               0.290348              -0.001482   \n7557               0.094920               0.287646              -0.001002   \n7558               0.096163               0.292764              -0.002255   \n7559               0.097038               0.289794              -0.002261   \n\n      EyePosLocalCombined.y  EyePosLocalCombined.z  EyeDirLocalCombined.x  \\\n0                 -0.002524              -0.022862              -0.068359   \n1                 -0.002531              -0.022852              -0.068329   \n2                 -0.002539              -0.022830              -0.067917   \n3                 -0.002540              -0.022831              -0.068176   \n4                 -0.002542              -0.022823              -0.069214   \n...                     ...                    ...                    ...   \n7555              -0.001683              -0.022942              -0.041672   \n7556              -0.001687              -0.022901              -0.045883   \n7557              -0.001688              -0.022887              -0.045456   \n7558              -0.001688              -0.022901              -0.051804   \n7559              -0.001693              -0.022890              -0.050644   \n\n      EyeDirLocalCombined.y  EyeDirLocalCombined.z  \n0                 -0.186676               0.980026  \n1                 -0.186691               0.980026  \n2                 -0.186539               0.980087  \n3                 -0.186417               0.980087  \n4                 -0.186478               0.980011  \n...                     ...                    ...  \n7555              -0.062744               0.997147  \n7556              -0.062469               0.996979  \n7557              -0.061661               0.997055  \n7558              -0.060837               0.996796  \n7559              -0.059097               0.996964  \n\n[7560 rows x 26 columns]",
      "text/html": "<div>\n<style scoped>\n    .dataframe tbody tr th:only-of-type {\n        vertical-align: middle;\n    }\n\n    .dataframe tbody tr th {\n        vertical-align: top;\n    }\n\n    .dataframe thead th {\n        text-align: right;\n    }\n</style>\n<table border=\"1\" class=\"dataframe\">\n  <thead>\n    <tr style=\"text-align: right;\">\n      <th></th>\n      <th>UnixTimeStamp</th>\n      <th>TobiiTimeStamp</th>\n      <th>FPS</th>\n      <th>RightEyeIsBlinkingWorld</th>\n      <th>RightEyeIsBlinkingLocal</th>\n      <th>LeftEyeIsBlinkingWorld</th>\n      <th>LeftEyeIsBlinkingLocal</th>\n      <th>hitObjects</th>\n      <th>HmdPosition.x</th>\n      <th>HmdPosition.y</th>\n      <th>...</th>\n      <th>EyePosWorldCombined.z</th>\n      <th>EyeDirWorldCombined.x</th>\n      <th>EyeDirWorldCombined.y</th>\n      <th>EyeDirWorldCombined.z</th>\n      <th>EyePosLocalCombined.x</th>\n      <th>EyePosLocalCombined.y</th>\n      <th>EyePosLocalCombined.z</th>\n      <th>EyeDirLocalCombined.x</th>\n      <th>EyeDirLocalCombined.y</th>\n      <th>EyeDirLocalCombined.z</th>\n    </tr>\n  </thead>\n  <tbody>\n    <tr>\n      <th>0</th>\n      <td>1.602674e+09</td>\n      <td>744.496460</td>\n      <td>15.570679</td>\n      <td>False</td>\n      <td>False</td>\n      <td>False</td>\n      <td>False</td>\n      <td>[{'ObjectName': 'ForestRightEntry (2)', 'HitOb...</td>\n      <td>-1548.484985</td>\n      <td>134.333267</td>\n      <td>...</td>\n      <td>2660.845947</td>\n      <td>-0.840706</td>\n      <td>-0.105086</td>\n      <td>0.531171</td>\n      <td>-0.000139</td>\n      <td>-0.002524</td>\n      <td>-0.022862</td>\n      <td>-0.068359</td>\n      <td>-0.186676</td>\n      <td>0.980026</td>\n    </tr>\n    <tr>\n      <th>1</th>\n      <td>1.602674e+09</td>\n      <td>744.517700</td>\n      <td>16.688669</td>\n      <td>False</td>\n      <td>False</td>\n      <td>False</td>\n      <td>False</td>\n      <td>[{'ObjectName': 'Default Road 002', 'HitObject...</td>\n      <td>-1554.842773</td>\n      <td>133.869156</td>\n      <td>...</td>\n      <td>2665.263672</td>\n      <td>-0.798198</td>\n      <td>-0.110805</td>\n      <td>0.592094</td>\n      <td>0.000116</td>\n      <td>-0.002531</td>\n      <td>-0.022852</td>\n      <td>-0.068329</td>\n      <td>-0.186691</td>\n      <td>0.980026</td>\n    </tr>\n    <tr>\n      <th>2</th>\n      <td>1.602674e+09</td>\n      <td>744.529968</td>\n      <td>18.130299</td>\n      <td>False</td>\n      <td>False</td>\n      <td>False</td>\n      <td>False</td>\n      <td>[{'ObjectName': 'Default Road 001', 'HitObject...</td>\n      <td>-1555.241699</td>\n      <td>133.835312</td>\n      <td>...</td>\n      <td>2665.557129</td>\n      <td>-0.795336</td>\n      <td>-0.115050</td>\n      <td>0.595135</td>\n      <td>0.000731</td>\n      <td>-0.002539</td>\n      <td>-0.022830</td>\n      <td>-0.067917</td>\n      <td>-0.186539</td>\n      <td>0.980087</td>\n    </tr>\n    <tr>\n      <th>3</th>\n      <td>1.602674e+09</td>\n      <td>744.550354</td>\n      <td>19.349819</td>\n      <td>False</td>\n      <td>False</td>\n      <td>False</td>\n      <td>False</td>\n      <td>[{'ObjectName': 'Default Road 001', 'HitObject...</td>\n      <td>-1555.641479</td>\n      <td>133.801056</td>\n      <td>...</td>\n      <td>2665.851807</td>\n      <td>-0.793085</td>\n      <td>-0.119752</td>\n      <td>0.597199</td>\n      <td>0.000246</td>\n      <td>-0.002540</td>\n      <td>-0.022831</td>\n      <td>-0.068176</td>\n      <td>-0.186417</td>\n      <td>0.980087</td>\n    </tr>\n    <tr>\n      <th>4</th>\n      <td>1.602674e+09</td>\n      <td>744.561890</td>\n      <td>20.978073</td>\n      <td>False</td>\n      <td>False</td>\n      <td>False</td>\n      <td>False</td>\n      <td>[{'ObjectName': 'Default Road 001', 'HitObject...</td>\n      <td>-1556.041748</td>\n      <td>133.765030</td>\n      <td>...</td>\n      <td>2666.147705</td>\n      <td>-0.791368</td>\n      <td>-0.124408</td>\n      <td>0.598536</td>\n      <td>0.000481</td>\n      <td>-0.002542</td>\n      <td>-0.022823</td>\n      <td>-0.069214</td>\n      <td>-0.186478</td>\n      <td>0.980011</td>\n    </tr>\n    <tr>\n      <th>...</th>\n      <td>...</td>\n      <td>...</td>\n      <td>...</td>\n      <td>...</td>\n      <td>...</td>\n      <td>...</td>\n      <td>...</td>\n      <td>...</td>\n      <td>...</td>\n      <td>...</td>\n      <td>...</td>\n      <td>...</td>\n      <td>...</td>\n      <td>...</td>\n      <td>...</td>\n      <td>...</td>\n      <td>...</td>\n      <td>...</td>\n      <td>...</td>\n      <td>...</td>\n      <td>...</td>\n    </tr>\n    <tr>\n      <th>7555</th>\n      <td>1.602675e+09</td>\n      <td>875.579163</td>\n      <td>84.273964</td>\n      <td>False</td>\n      <td>False</td>\n      <td>False</td>\n      <td>False</td>\n      <td>[{'ObjectName': 'Autobahn_Terrain', 'HitObject...</td>\n      <td>-604.667480</td>\n      <td>64.104576</td>\n      <td>...</td>\n      <td>5073.665527</td>\n      <td>0.952579</td>\n      <td>0.096037</td>\n      <td>0.288696</td>\n      <td>-0.001264</td>\n      <td>-0.001683</td>\n      <td>-0.022942</td>\n      <td>-0.041672</td>\n      <td>-0.062744</td>\n      <td>0.997147</td>\n    </tr>\n    <tr>\n      <th>7556</th>\n      <td>1.602675e+09</td>\n      <td>875.601379</td>\n      <td>85.342766</td>\n      <td>False</td>\n      <td>False</td>\n      <td>False</td>\n      <td>False</td>\n      <td>[{'ObjectName': 'Autobahn_Terrain', 'HitObject...</td>\n      <td>-604.410767</td>\n      <td>64.113228</td>\n      <td>...</td>\n      <td>5073.762695</td>\n      <td>0.952143</td>\n      <td>0.095377</td>\n      <td>0.290348</td>\n      <td>-0.001482</td>\n      <td>-0.001687</td>\n      <td>-0.022901</td>\n      <td>-0.045883</td>\n      <td>-0.062469</td>\n      <td>0.996979</td>\n    </tr>\n    <tr>\n      <th>7557</th>\n      <td>1.602675e+09</td>\n      <td>875.624939</td>\n      <td>85.193512</td>\n      <td>False</td>\n      <td>False</td>\n      <td>False</td>\n      <td>False</td>\n      <td>[{'ObjectName': 'Autobahn_Terrain', 'HitObject...</td>\n      <td>-604.153320</td>\n      <td>64.121864</td>\n      <td>...</td>\n      <td>5073.859863</td>\n      <td>0.953015</td>\n      <td>0.094920</td>\n      <td>0.287646</td>\n      <td>-0.001002</td>\n      <td>-0.001688</td>\n      <td>-0.022887</td>\n      <td>-0.045456</td>\n      <td>-0.061661</td>\n      <td>0.997055</td>\n    </tr>\n    <tr>\n      <th>7558</th>\n      <td>1.602675e+09</td>\n      <td>875.636169</td>\n      <td>85.541122</td>\n      <td>False</td>\n      <td>False</td>\n      <td>False</td>\n      <td>False</td>\n      <td>[{'ObjectName': 'Autobahn_Terrain', 'HitObject...</td>\n      <td>-603.894714</td>\n      <td>64.130600</td>\n      <td>...</td>\n      <td>5073.959961</td>\n      <td>0.951330</td>\n      <td>0.096163</td>\n      <td>0.292764</td>\n      <td>-0.002255</td>\n      <td>-0.001688</td>\n      <td>-0.022901</td>\n      <td>-0.051804</td>\n      <td>-0.060837</td>\n      <td>0.996796</td>\n    </tr>\n    <tr>\n      <th>7559</th>\n      <td>1.602675e+09</td>\n      <td>875.658813</td>\n      <td>85.997131</td>\n      <td>False</td>\n      <td>False</td>\n      <td>False</td>\n      <td>False</td>\n      <td>[{'ObjectName': 'Autobahn_Terrain', 'HitObject...</td>\n      <td>-603.634277</td>\n      <td>64.139404</td>\n      <td>...</td>\n      <td>5074.058105</td>\n      <td>0.952154</td>\n      <td>0.097038</td>\n      <td>0.289794</td>\n      <td>-0.002261</td>\n      <td>-0.001693</td>\n      <td>-0.022890</td>\n      <td>-0.050644</td>\n      <td>-0.059097</td>\n      <td>0.996964</td>\n    </tr>\n  </tbody>\n</table>\n<p>7560 rows × 26 columns</p>\n</div>"
     },
     "execution_count": 67,
     "metadata": {},
     "output_type": "execute_result"
    }
   ],
   "source": [
    "normalized_data"
   ],
   "metadata": {
    "collapsed": false,
    "ExecuteTime": {
     "end_time": "2024-03-19T23:37:42.272692Z",
     "start_time": "2024-03-19T23:37:42.251107Z"
    }
   },
   "id": "b98546dbda596408",
   "execution_count": 67
  },
  {
   "cell_type": "code",
   "outputs": [
    {
     "data": {
      "text/plain": "      UnixTimeStamp  TobiiTimeStamp        FPS  \\\n0      1.602674e+09      744.517700  16.688669   \n0      1.602674e+09      744.517700  16.688669   \n0      1.602674e+09      744.517700  16.688669   \n1      1.602674e+09      744.529968  18.130299   \n1      1.602674e+09      744.529968  18.130299   \n...             ...             ...        ...   \n7557   1.602675e+09      875.636169  85.541122   \n7557   1.602675e+09      875.636169  85.541122   \n7558   1.602675e+09      875.658813  85.997131   \n7558   1.602675e+09      875.658813  85.997131   \n7558   1.602675e+09      875.658813  85.997131   \n\n                                             NoseVector  \\\n0     {'x': -0.7353829741477966, 'y': 0.061008527874...   \n0     {'x': -0.7353829741477966, 'y': 0.061008527874...   \n0     {'x': -0.7353829741477966, 'y': 0.061008527874...   \n1     {'x': -0.733123242855072, 'y': 0.0565054081380...   \n1     {'x': -0.733123242855072, 'y': 0.0565054081380...   \n...                                                 ...   \n7557  {'x': 0.9618417024612427, 'y': 0.1481603533029...   \n7557  {'x': 0.9618417024612427, 'y': 0.1481603533029...   \n7558  {'x': 0.9621937870979309, 'y': 0.1475926935672...   \n7558  {'x': 0.9621937870979309, 'y': 0.1475926935672...   \n7558  {'x': 0.9621937870979309, 'y': 0.1475926935672...   \n\n                                    EyePosWorldCombined  \\\n0     {'x': -1554.8363037109375, 'y': 133.8678131103...   \n0     {'x': -1554.8363037109375, 'y': 133.8678131103...   \n0     {'x': -1554.8363037109375, 'y': 133.8678131103...   \n1     {'x': -1555.23486328125, 'y': 133.833862304687...   \n1     {'x': -1555.23486328125, 'y': 133.833862304687...   \n...                                                 ...   \n7557  {'x': -603.9013061523438, 'y': 64.129920959472...   \n7557  {'x': -603.9013061523438, 'y': 64.129920959472...   \n7558  {'x': -603.6407470703125, 'y': 64.138664245605...   \n7558  {'x': -603.6407470703125, 'y': 64.138664245605...   \n7558  {'x': -603.6407470703125, 'y': 64.138664245605...   \n\n                                    EyeDirWorldCombined  \\\n0     {'x': -0.7981982827186584, 'y': -0.11080456525...   \n0     {'x': -0.7981982827186584, 'y': -0.11080456525...   \n0     {'x': -0.7981982827186584, 'y': -0.11080456525...   \n1     {'x': -0.7953356504440308, 'y': -0.11504980921...   \n1     {'x': -0.7953356504440308, 'y': -0.11504980921...   \n...                                                 ...   \n7557  {'x': 0.9513297080993652, 'y': 0.0961634665727...   \n7557  {'x': 0.9513297080993652, 'y': 0.0961634665727...   \n7558  {'x': 0.9521538615226746, 'y': 0.0970381423830...   \n7558  {'x': 0.9521538615226746, 'y': 0.0970381423830...   \n7558  {'x': 0.9521538615226746, 'y': 0.0970381423830...   \n\n                                    EyePosLocalCombined  \\\n0     {'x': 0.00011648560030153021, 'y': -0.00253092...   \n0     {'x': 0.00011648560030153021, 'y': -0.00253092...   \n0     {'x': 0.00011648560030153021, 'y': -0.00253092...   \n1     {'x': 0.0007309723296202719, 'y': -0.002538742...   \n1     {'x': 0.0007309723296202719, 'y': -0.002538742...   \n...                                                 ...   \n7557  {'x': -0.002255020197480917, 'y': -0.001688369...   \n7557  {'x': -0.002255020197480917, 'y': -0.001688369...   \n7558  {'x': -0.002260910114273429, 'y': -0.001692718...   \n7558  {'x': -0.002260910114273429, 'y': -0.001692718...   \n7558  {'x': -0.002260910114273429, 'y': -0.001692718...   \n\n                                    EyeDirLocalCombined  \\\n0     {'x': -0.068328857421875, 'y': -0.186691284179...   \n0     {'x': -0.068328857421875, 'y': -0.186691284179...   \n0     {'x': -0.068328857421875, 'y': -0.186691284179...   \n1     {'x': -0.0679168701171875, 'y': -0.18653869628...   \n1     {'x': -0.0679168701171875, 'y': -0.18653869628...   \n...                                                 ...   \n7557  {'x': -0.0518035888671875, 'y': -0.06083679199...   \n7557  {'x': -0.0518035888671875, 'y': -0.06083679199...   \n7558  {'x': -0.0506439208984375, 'y': -0.05909729003...   \n7558  {'x': -0.0506439208984375, 'y': -0.05909729003...   \n7558  {'x': -0.0506439208984375, 'y': -0.05909729003...   \n\n      RightEyeIsBlinkingWorld  RightEyeIsBlinkingLocal  \\\n0                       False                    False   \n0                       False                    False   \n0                       False                    False   \n1                       False                    False   \n1                       False                    False   \n...                       ...                      ...   \n7557                    False                    False   \n7557                    False                    False   \n7558                    False                    False   \n7558                    False                    False   \n7558                    False                    False   \n\n      LeftEyeIsBlinkingWorld  LeftEyeIsBlinkingLocal  \\\n0                      False                   False   \n0                      False                   False   \n0                      False                   False   \n1                      False                   False   \n1                      False                   False   \n...                      ...                     ...   \n7557                   False                   False   \n7557                   False                   False   \n7558                   False                   False   \n7558                   False                   False   \n7558                   False                   False   \n\n                                             hitObjects  0  \n0     [{'ObjectName': 'Default Road 002', 'HitObject...  x  \n0     [{'ObjectName': 'Default Road 002', 'HitObject...  y  \n0     [{'ObjectName': 'Default Road 002', 'HitObject...  z  \n1     [{'ObjectName': 'Default Road 001', 'HitObject...  x  \n1     [{'ObjectName': 'Default Road 001', 'HitObject...  y  \n...                                                 ... ..  \n7557  [{'ObjectName': 'Autobahn_Terrain', 'HitObject...  y  \n7557  [{'ObjectName': 'Autobahn_Terrain', 'HitObject...  z  \n7558  [{'ObjectName': 'Autobahn_Terrain', 'HitObject...  x  \n7558  [{'ObjectName': 'Autobahn_Terrain', 'HitObject...  y  \n7558  [{'ObjectName': 'Autobahn_Terrain', 'HitObject...  z  \n\n[22677 rows x 14 columns]",
      "text/html": "<div>\n<style scoped>\n    .dataframe tbody tr th:only-of-type {\n        vertical-align: middle;\n    }\n\n    .dataframe tbody tr th {\n        vertical-align: top;\n    }\n\n    .dataframe thead th {\n        text-align: right;\n    }\n</style>\n<table border=\"1\" class=\"dataframe\">\n  <thead>\n    <tr style=\"text-align: right;\">\n      <th></th>\n      <th>UnixTimeStamp</th>\n      <th>TobiiTimeStamp</th>\n      <th>FPS</th>\n      <th>NoseVector</th>\n      <th>EyePosWorldCombined</th>\n      <th>EyeDirWorldCombined</th>\n      <th>EyePosLocalCombined</th>\n      <th>EyeDirLocalCombined</th>\n      <th>RightEyeIsBlinkingWorld</th>\n      <th>RightEyeIsBlinkingLocal</th>\n      <th>LeftEyeIsBlinkingWorld</th>\n      <th>LeftEyeIsBlinkingLocal</th>\n      <th>hitObjects</th>\n      <th>0</th>\n    </tr>\n  </thead>\n  <tbody>\n    <tr>\n      <th>0</th>\n      <td>1.602674e+09</td>\n      <td>744.517700</td>\n      <td>16.688669</td>\n      <td>{'x': -0.7353829741477966, 'y': 0.061008527874...</td>\n      <td>{'x': -1554.8363037109375, 'y': 133.8678131103...</td>\n      <td>{'x': -0.7981982827186584, 'y': -0.11080456525...</td>\n      <td>{'x': 0.00011648560030153021, 'y': -0.00253092...</td>\n      <td>{'x': -0.068328857421875, 'y': -0.186691284179...</td>\n      <td>False</td>\n      <td>False</td>\n      <td>False</td>\n      <td>False</td>\n      <td>[{'ObjectName': 'Default Road 002', 'HitObject...</td>\n      <td>x</td>\n    </tr>\n    <tr>\n      <th>0</th>\n      <td>1.602674e+09</td>\n      <td>744.517700</td>\n      <td>16.688669</td>\n      <td>{'x': -0.7353829741477966, 'y': 0.061008527874...</td>\n      <td>{'x': -1554.8363037109375, 'y': 133.8678131103...</td>\n      <td>{'x': -0.7981982827186584, 'y': -0.11080456525...</td>\n      <td>{'x': 0.00011648560030153021, 'y': -0.00253092...</td>\n      <td>{'x': -0.068328857421875, 'y': -0.186691284179...</td>\n      <td>False</td>\n      <td>False</td>\n      <td>False</td>\n      <td>False</td>\n      <td>[{'ObjectName': 'Default Road 002', 'HitObject...</td>\n      <td>y</td>\n    </tr>\n    <tr>\n      <th>0</th>\n      <td>1.602674e+09</td>\n      <td>744.517700</td>\n      <td>16.688669</td>\n      <td>{'x': -0.7353829741477966, 'y': 0.061008527874...</td>\n      <td>{'x': -1554.8363037109375, 'y': 133.8678131103...</td>\n      <td>{'x': -0.7981982827186584, 'y': -0.11080456525...</td>\n      <td>{'x': 0.00011648560030153021, 'y': -0.00253092...</td>\n      <td>{'x': -0.068328857421875, 'y': -0.186691284179...</td>\n      <td>False</td>\n      <td>False</td>\n      <td>False</td>\n      <td>False</td>\n      <td>[{'ObjectName': 'Default Road 002', 'HitObject...</td>\n      <td>z</td>\n    </tr>\n    <tr>\n      <th>1</th>\n      <td>1.602674e+09</td>\n      <td>744.529968</td>\n      <td>18.130299</td>\n      <td>{'x': -0.733123242855072, 'y': 0.0565054081380...</td>\n      <td>{'x': -1555.23486328125, 'y': 133.833862304687...</td>\n      <td>{'x': -0.7953356504440308, 'y': -0.11504980921...</td>\n      <td>{'x': 0.0007309723296202719, 'y': -0.002538742...</td>\n      <td>{'x': -0.0679168701171875, 'y': -0.18653869628...</td>\n      <td>False</td>\n      <td>False</td>\n      <td>False</td>\n      <td>False</td>\n      <td>[{'ObjectName': 'Default Road 001', 'HitObject...</td>\n      <td>x</td>\n    </tr>\n    <tr>\n      <th>1</th>\n      <td>1.602674e+09</td>\n      <td>744.529968</td>\n      <td>18.130299</td>\n      <td>{'x': -0.733123242855072, 'y': 0.0565054081380...</td>\n      <td>{'x': -1555.23486328125, 'y': 133.833862304687...</td>\n      <td>{'x': -0.7953356504440308, 'y': -0.11504980921...</td>\n      <td>{'x': 0.0007309723296202719, 'y': -0.002538742...</td>\n      <td>{'x': -0.0679168701171875, 'y': -0.18653869628...</td>\n      <td>False</td>\n      <td>False</td>\n      <td>False</td>\n      <td>False</td>\n      <td>[{'ObjectName': 'Default Road 001', 'HitObject...</td>\n      <td>y</td>\n    </tr>\n    <tr>\n      <th>...</th>\n      <td>...</td>\n      <td>...</td>\n      <td>...</td>\n      <td>...</td>\n      <td>...</td>\n      <td>...</td>\n      <td>...</td>\n      <td>...</td>\n      <td>...</td>\n      <td>...</td>\n      <td>...</td>\n      <td>...</td>\n      <td>...</td>\n      <td>...</td>\n    </tr>\n    <tr>\n      <th>7557</th>\n      <td>1.602675e+09</td>\n      <td>875.636169</td>\n      <td>85.541122</td>\n      <td>{'x': 0.9618417024612427, 'y': 0.1481603533029...</td>\n      <td>{'x': -603.9013061523438, 'y': 64.129920959472...</td>\n      <td>{'x': 0.9513297080993652, 'y': 0.0961634665727...</td>\n      <td>{'x': -0.002255020197480917, 'y': -0.001688369...</td>\n      <td>{'x': -0.0518035888671875, 'y': -0.06083679199...</td>\n      <td>False</td>\n      <td>False</td>\n      <td>False</td>\n      <td>False</td>\n      <td>[{'ObjectName': 'Autobahn_Terrain', 'HitObject...</td>\n      <td>y</td>\n    </tr>\n    <tr>\n      <th>7557</th>\n      <td>1.602675e+09</td>\n      <td>875.636169</td>\n      <td>85.541122</td>\n      <td>{'x': 0.9618417024612427, 'y': 0.1481603533029...</td>\n      <td>{'x': -603.9013061523438, 'y': 64.129920959472...</td>\n      <td>{'x': 0.9513297080993652, 'y': 0.0961634665727...</td>\n      <td>{'x': -0.002255020197480917, 'y': -0.001688369...</td>\n      <td>{'x': -0.0518035888671875, 'y': -0.06083679199...</td>\n      <td>False</td>\n      <td>False</td>\n      <td>False</td>\n      <td>False</td>\n      <td>[{'ObjectName': 'Autobahn_Terrain', 'HitObject...</td>\n      <td>z</td>\n    </tr>\n    <tr>\n      <th>7558</th>\n      <td>1.602675e+09</td>\n      <td>875.658813</td>\n      <td>85.997131</td>\n      <td>{'x': 0.9621937870979309, 'y': 0.1475926935672...</td>\n      <td>{'x': -603.6407470703125, 'y': 64.138664245605...</td>\n      <td>{'x': 0.9521538615226746, 'y': 0.0970381423830...</td>\n      <td>{'x': -0.002260910114273429, 'y': -0.001692718...</td>\n      <td>{'x': -0.0506439208984375, 'y': -0.05909729003...</td>\n      <td>False</td>\n      <td>False</td>\n      <td>False</td>\n      <td>False</td>\n      <td>[{'ObjectName': 'Autobahn_Terrain', 'HitObject...</td>\n      <td>x</td>\n    </tr>\n    <tr>\n      <th>7558</th>\n      <td>1.602675e+09</td>\n      <td>875.658813</td>\n      <td>85.997131</td>\n      <td>{'x': 0.9621937870979309, 'y': 0.1475926935672...</td>\n      <td>{'x': -603.6407470703125, 'y': 64.138664245605...</td>\n      <td>{'x': 0.9521538615226746, 'y': 0.0970381423830...</td>\n      <td>{'x': -0.002260910114273429, 'y': -0.001692718...</td>\n      <td>{'x': -0.0506439208984375, 'y': -0.05909729003...</td>\n      <td>False</td>\n      <td>False</td>\n      <td>False</td>\n      <td>False</td>\n      <td>[{'ObjectName': 'Autobahn_Terrain', 'HitObject...</td>\n      <td>y</td>\n    </tr>\n    <tr>\n      <th>7558</th>\n      <td>1.602675e+09</td>\n      <td>875.658813</td>\n      <td>85.997131</td>\n      <td>{'x': 0.9621937870979309, 'y': 0.1475926935672...</td>\n      <td>{'x': -603.6407470703125, 'y': 64.138664245605...</td>\n      <td>{'x': 0.9521538615226746, 'y': 0.0970381423830...</td>\n      <td>{'x': -0.002260910114273429, 'y': -0.001692718...</td>\n      <td>{'x': -0.0506439208984375, 'y': -0.05909729003...</td>\n      <td>False</td>\n      <td>False</td>\n      <td>False</td>\n      <td>False</td>\n      <td>[{'ObjectName': 'Autobahn_Terrain', 'HitObject...</td>\n      <td>z</td>\n    </tr>\n  </tbody>\n</table>\n<p>22677 rows × 14 columns</p>\n</div>"
     },
     "execution_count": 39,
     "metadata": {},
     "output_type": "execute_result"
    }
   ],
   "source": [
    "# from ast import literal_eval\n",
    "# \n",
    "# df[\"HmdPosition\"] = df[\"HmdPosition\"].apply(literal_eval)\n",
    "df = df.explode(\"HmdPosition\")\n",
    "df = pd.concat([df, df.pop(\"HmdPosition\").apply(pd.Series)], axis=1)\n",
    "df"
   ],
   "metadata": {
    "collapsed": false,
    "ExecuteTime": {
     "end_time": "2024-03-19T19:11:16.768294Z",
     "start_time": "2024-03-19T19:11:15.978492Z"
    }
   },
   "id": "cb16ee3078d2edb5",
   "execution_count": 39
  },
  {
   "cell_type": "code",
   "outputs": [],
   "source": [
    "# from io import StringIO\n",
    "# df2 = pd.read_csv(StringIO('\\n'.join(['|'.join(map(str, row)) for row in data_list])), sep='|', index_col=None)\n",
    "# df2"
   ],
   "metadata": {
    "collapsed": false,
    "ExecuteTime": {
     "end_time": "2024-03-19T19:05:37.012641Z",
     "start_time": "2024-03-19T19:05:37.009266Z"
    }
   },
   "id": "642e120da71071f6",
   "execution_count": 24
  },
  {
   "cell_type": "code",
   "outputs": [],
   "source": [
    "input_df = pd.DataFrame(columns=['uid', 'dataset','city_section'])\n",
    "\n",
    "for txt_file in matching_files_list:\n",
    "    # Read file from disk\n",
    "    file_path = os.path.join(raw_folder_input_path, txt_file)\n",
    "    with open(file_path, \"r\") as file:\n",
    "        data_list = json.load(file)\n",
    "    df = pd.DataFrame(data_list)\n",
    "    # If data file is empty, continue to next file\n",
    "    # if len(data_list) == 0:\n",
    "    #     print(f\"INFO: Excluded due to no data found in {txt_file}\")\n",
    "    #     stop_flag = True\n",
    "    #     continue\n",
    "        \n",
    "    # Append file name information to dataframe\n",
    "    parts = get_filename_as_parts(txt_file)\n",
    "    df['uid'] = parts[0]\n",
    "    df['dataset'] = parts[1]\n",
    "    df['city_section'] = parts[2]\n",
    "    # Create a DataFrame from the flattened data\n",
    "    # flat_data_list = [flatten_dict(d) for d in data_list]\n",
    "    # df1 = pd.DataFrame(flat_data_list)\n",
    "    \n",
    "    # Merge into master dataframe\n",
    "    input_df = pd.concat([input_df,df], ignore_index=True)\n"
   ],
   "metadata": {
    "collapsed": false,
    "ExecuteTime": {
     "end_time": "2024-03-19T18:52:06.384935Z",
     "start_time": "2024-03-19T18:52:05.720399Z"
    }
   },
   "id": "c98013f515c646ca",
   "execution_count": 65
  },
  {
   "cell_type": "code",
   "outputs": [],
   "source": [
    "input_df.head()"
   ],
   "metadata": {
    "collapsed": false
   },
   "id": "cbc9a14d96fbad",
   "execution_count": null
  },
  {
   "cell_type": "code",
   "outputs": [
    {
     "ename": "AttributeError",
     "evalue": "'str' object has no attribute 'read'",
     "output_type": "error",
     "traceback": [
      "\u001B[0;31m---------------------------------------------------------------------------\u001B[0m",
      "\u001B[0;31mAttributeError\u001B[0m                            Traceback (most recent call last)",
      "Cell \u001B[0;32mIn[26], line 3\u001B[0m\n\u001B[1;32m      1\u001B[0m \u001B[38;5;66;03m# file_path = os.path.join(raw_folder_path, txt_file)\u001B[39;00m\n\u001B[1;32m      2\u001B[0m \u001B[38;5;66;03m# with open(dask_input_df, \"r\") as file:\u001B[39;00m\n\u001B[0;32m----> 3\u001B[0m dask_input_df \u001B[38;5;241m=\u001B[39m json\u001B[38;5;241m.\u001B[39mloads(\u001B[38;5;124;43m'\u001B[39;49m\u001B[38;5;124;43m/Users/johnmadrid/GitHub/WestdriveLoopARData/Data/0_Raw/Input/0a68f111e4f448d3b8279db69cd9df5e_Input_Autobahn.txt\u001B[39;49m\u001B[38;5;124;43m'\u001B[39;49m\u001B[38;5;241;43m.\u001B[39;49m\u001B[43mread\u001B[49m())\n\u001B[1;32m      4\u001B[0m dask_input_df\n",
      "\u001B[0;31mAttributeError\u001B[0m: 'str' object has no attribute 'read'"
     ]
    }
   ],
   "source": [
    "# file_path = os.path.join(raw_folder_path, txt_file)\n",
    "# with open(dask_input_df, \"r\") as file:\n",
    "dask_input_df = json.loads('/Users/johnmadrid/GitHub/WestdriveLoopARData/Data/0_Raw/Input/0a68f111e4f448d3b8279db69cd9df5e_Input_Autobahn.txt'.read())\n",
    "dask_input_df"
   ],
   "metadata": {
    "collapsed": false,
    "ExecuteTime": {
     "end_time": "2024-03-19T18:15:32.948550Z",
     "start_time": "2024-03-19T18:15:32.942926Z"
    }
   },
   "id": "3f434b683c61a08a",
   "execution_count": 26
  },
  {
   "cell_type": "code",
   "outputs": [],
   "source": [
    "# Read file from disk\n",
    "# file_path = os.path.join(raw_folder_path, txt_file)\n",
    "with open('/Users/johnmadrid/GitHub/WestdriveLoopARData/Data/0_Raw/Input/0a68f111e4f448d3b8279db69cd9df5e_Input_Autobahn.txt', \"r\") as file:\n",
    "    data_list = json.load(file)\n",
    "    df_input = pd.DataFrame(data_list)\n",
    "    "
   ],
   "metadata": {
    "collapsed": false,
    "ExecuteTime": {
     "end_time": "2024-03-19T18:21:22.370967Z",
     "start_time": "2024-03-19T18:21:22.357069Z"
    }
   },
   "id": "5a7945b5c0ad2341",
   "execution_count": 30
  },
  {
   "cell_type": "code",
   "outputs": [
    {
     "data": {
      "text/plain": "         TimeStamp  ReceivedInput  SteeringInput  AcellerationInput  \\\n0     1.602674e+09           True      -0.005949                0.0   \n1     1.602674e+09           True      -0.005491                0.0   \n2     1.602674e+09           True      -0.005491                0.0   \n3     1.602674e+09           True      -0.005491                0.0   \n4     1.602674e+09           True      -0.005491                0.0   \n...            ...            ...            ...                ...   \n7555  1.602675e+09           True      -0.006865                0.0   \n7556  1.602675e+09           True      -0.006865                0.0   \n7557  1.602675e+09           True      -0.006865                0.0   \n7558  1.602675e+09           True      -0.006865                0.0   \n7559  1.602675e+09           True      -0.006865                0.0   \n\n      BrakeInput  \n0            0.0  \n1            0.0  \n2            0.0  \n3            0.0  \n4            0.0  \n...          ...  \n7555         0.0  \n7556         0.0  \n7557         0.0  \n7558         0.0  \n7559         0.0  \n\n[7560 rows x 5 columns]",
      "text/html": "<div>\n<style scoped>\n    .dataframe tbody tr th:only-of-type {\n        vertical-align: middle;\n    }\n\n    .dataframe tbody tr th {\n        vertical-align: top;\n    }\n\n    .dataframe thead th {\n        text-align: right;\n    }\n</style>\n<table border=\"1\" class=\"dataframe\">\n  <thead>\n    <tr style=\"text-align: right;\">\n      <th></th>\n      <th>TimeStamp</th>\n      <th>ReceivedInput</th>\n      <th>SteeringInput</th>\n      <th>AcellerationInput</th>\n      <th>BrakeInput</th>\n    </tr>\n  </thead>\n  <tbody>\n    <tr>\n      <th>0</th>\n      <td>1.602674e+09</td>\n      <td>True</td>\n      <td>-0.005949</td>\n      <td>0.0</td>\n      <td>0.0</td>\n    </tr>\n    <tr>\n      <th>1</th>\n      <td>1.602674e+09</td>\n      <td>True</td>\n      <td>-0.005491</td>\n      <td>0.0</td>\n      <td>0.0</td>\n    </tr>\n    <tr>\n      <th>2</th>\n      <td>1.602674e+09</td>\n      <td>True</td>\n      <td>-0.005491</td>\n      <td>0.0</td>\n      <td>0.0</td>\n    </tr>\n    <tr>\n      <th>3</th>\n      <td>1.602674e+09</td>\n      <td>True</td>\n      <td>-0.005491</td>\n      <td>0.0</td>\n      <td>0.0</td>\n    </tr>\n    <tr>\n      <th>4</th>\n      <td>1.602674e+09</td>\n      <td>True</td>\n      <td>-0.005491</td>\n      <td>0.0</td>\n      <td>0.0</td>\n    </tr>\n    <tr>\n      <th>...</th>\n      <td>...</td>\n      <td>...</td>\n      <td>...</td>\n      <td>...</td>\n      <td>...</td>\n    </tr>\n    <tr>\n      <th>7555</th>\n      <td>1.602675e+09</td>\n      <td>True</td>\n      <td>-0.006865</td>\n      <td>0.0</td>\n      <td>0.0</td>\n    </tr>\n    <tr>\n      <th>7556</th>\n      <td>1.602675e+09</td>\n      <td>True</td>\n      <td>-0.006865</td>\n      <td>0.0</td>\n      <td>0.0</td>\n    </tr>\n    <tr>\n      <th>7557</th>\n      <td>1.602675e+09</td>\n      <td>True</td>\n      <td>-0.006865</td>\n      <td>0.0</td>\n      <td>0.0</td>\n    </tr>\n    <tr>\n      <th>7558</th>\n      <td>1.602675e+09</td>\n      <td>True</td>\n      <td>-0.006865</td>\n      <td>0.0</td>\n      <td>0.0</td>\n    </tr>\n    <tr>\n      <th>7559</th>\n      <td>1.602675e+09</td>\n      <td>True</td>\n      <td>-0.006865</td>\n      <td>0.0</td>\n      <td>0.0</td>\n    </tr>\n  </tbody>\n</table>\n<p>7560 rows × 5 columns</p>\n</div>"
     },
     "execution_count": 31,
     "metadata": {},
     "output_type": "execute_result"
    }
   ],
   "source": [
    "df_input"
   ],
   "metadata": {
    "collapsed": false,
    "ExecuteTime": {
     "end_time": "2024-03-19T18:21:26.395364Z",
     "start_time": "2024-03-19T18:21:26.392912Z"
    }
   },
   "id": "a0b2f4fd2de6f724",
   "execution_count": 31
  },
  {
   "cell_type": "code",
   "outputs": [],
   "source": [],
   "metadata": {
    "collapsed": false
   },
   "id": "7752452c01d763a9"
  }
 ],
 "metadata": {
  "kernelspec": {
   "display_name": "Python 3",
   "language": "python",
   "name": "python3"
  },
  "language_info": {
   "codemirror_mode": {
    "name": "ipython",
    "version": 2
   },
   "file_extension": ".py",
   "mimetype": "text/x-python",
   "name": "python",
   "nbconvert_exporter": "python",
   "pygments_lexer": "ipython2",
   "version": "2.7.6"
  }
 },
 "nbformat": 4,
 "nbformat_minor": 5
}
