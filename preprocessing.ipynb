{
 "cells": [
  {
   "cell_type": "markdown",
   "source": [
    "# LoopAR project:\n",
    "## 1. Data preprocessing\n",
    "## 1. Data preprocessing"
   ],
   "metadata": {
    "collapsed": false
   },
   "id": "e52c713762551889"
  },
  {
   "cell_type": "code",
   "execution_count": 1,
   "id": "initial_id",
   "metadata": {
    "collapsed": true,
    "ExecuteTime": {
     "end_time": "2024-04-03T14:03:13.943383Z",
     "start_time": "2024-04-03T14:03:13.716684Z"
    }
   },
   "outputs": [
    {
     "name": "stderr",
     "output_type": "stream",
     "text": [
      "/var/folders/yy/s3wgmwl10fg_cc7cb_s92snr0000gn/T/ipykernel_9463/2737236592.py:18: DeprecationWarning: The current Dask DataFrame implementation is deprecated. \n",
      "In a future release, Dask DataFrame will use a new implementation that\n",
      "contains several improvements including a logical query planning.\n",
      "The user-facing DataFrame API will remain unchanged.\n",
      "\n",
      "The new implementation is already available and can be enabled by\n",
      "installing the dask-expr library:\n",
      "\n",
      "    $ pip install dask-expr\n",
      "\n",
      "and turning the query planning option on:\n",
      "\n",
      "    >>> import dask\n",
      "    >>> dask.config.set({'dataframe.query-planning': True})\n",
      "    >>> import dask.dataframe as dd\n",
      "\n",
      "API documentation for the new implementation is available at\n",
      "https://docs.dask.org/en/stable/dask-expr-api.html\n",
      "\n",
      "Any feedback can be reported on the Dask issue tracker\n",
      "https://github.com/dask/dask/issues \n",
      "\n",
      "To disable this warning in the future, set dask config:\n",
      "\n",
      "    # via Python\n",
      "    >>> dask.config.set({'dataframe.query-planning-warning': False})\n",
      "\n",
      "    # via CLI\n",
      "    dask config set dataframe.query-planning-warning False\n",
      "\n",
      "\n",
      "  import dask.dataframe as dd\n"
     ]
    }
   ],
   "source": [
    "import warnings\n",
    "\n",
    "import cap\n",
    "import pathos.pools\n",
    "\n",
    "warnings.simplefilter(action='ignore', category=FutureWarning)\n",
    "\n",
    "import time\n",
    "import json\n",
    "import itertools\n",
    "import os\n",
    "import math\n",
    "from functools import partial\n",
    "from ast import literal_eval\n",
    "import pandas as pd\n",
    "pd.set_option('display.float_format', '{:.9f}'.format)\n",
    "\n",
    "import dask.dataframe as dd\n",
    "# import dataframe_image as dfi\n",
    "import numpy as np\n",
    "from numpy import dtype\n",
    "\n",
    "import seaborn as sns\n",
    "import matplotlib.gridspec as gridspec\n",
    "import matplotlib.pyplot as plt\n",
    "from matplotlib.ticker import FormatStrFormatter\n",
    "from matplotlib import patches\n",
    "from scipy.signal import find_peaks\n",
    "from IPython.display import display\n",
    "from tqdm.notebook import tqdm"
   ]
  },
  {
   "cell_type": "markdown",
   "source": [
    "## 1.1 Useful functions\n",
    "To open, read, and save from .txt format to .csv"
   ],
   "metadata": {
    "collapsed": false
   },
   "id": "44c4ae9607ed33f8"
  },
  {
   "cell_type": "code",
   "outputs": [],
   "source": [
    "def get_filename_as_parts(filename):\n",
    "    \"\"\"\n",
    "    Extract the parts of file name without .txt ending\n",
    "    :param filename: \n",
    "    :return: \n",
    "    \"\"\"\n",
    "    return filename.split(\".\")[0].split(\"_\")\n",
    "    \n",
    "def analyze_folder(folder_path, target_id = '', file_type='txt'):\n",
    "    \"\"\"\n",
    "    Given a folder path, identifies all .txt files, splits their names by '_',\n",
    "    and returns a set of unique IDs extracted from the first part of each file name.\n",
    "    \"\"\"\n",
    "    unique_ids = set() # Initialize an empty set to store unique IDs\n",
    "    files_of_interest = [f for f in os.listdir(folder_path) if f.lower().endswith('.'+file_type)]\n",
    "    matching_files = []\n",
    "    \n",
    "    # List all .txt files in the specified folder\n",
    "    if target_id != '':\n",
    "        print(\"Matching files:\")\n",
    "    for filename in files_of_interest:\n",
    "        parts = get_filename_as_parts(filename)\n",
    "        if len(parts) > 0:\n",
    "            unique_ids.add(parts[0])  # Add the first part to the set\n",
    "        if target_id in parts:\n",
    "            print(parts)\n",
    "            matching_files.append(filename)\n",
    "        \n",
    "    return unique_ids, matching_files if target_id != '' else files_of_interest"
   ],
   "metadata": {
    "collapsed": false,
    "ExecuteTime": {
     "end_time": "2024-03-28T20:09:03.165104Z",
     "start_time": "2024-03-28T20:09:03.139318Z"
    }
   },
   "id": "e5a6cc2a4dc5f61",
   "execution_count": 17
  },
  {
   "cell_type": "markdown",
   "source": [
    "Count the amount of unique ids in eyeTracking data folder"
   ],
   "metadata": {
    "collapsed": false
   },
   "id": "970f545bbfe73866"
  },
  {
   "cell_type": "code",
   "outputs": [],
   "source": [
    "# Set folders\n",
    "raw_folder_path = \"Data/0_Raw/Eyetracking/\"  # Replace with your actual folder path\n",
    "processed_folder_path = \"Data/1_Preprocessed/Eyetracking/\"\n",
    "# extracted_folder_path = \"Data/2_Extracted/\""
   ],
   "metadata": {
    "collapsed": false,
    "ExecuteTime": {
     "end_time": "2024-03-28T20:09:03.355052Z",
     "start_time": "2024-03-28T20:09:03.349364Z"
    }
   },
   "id": "83bc8cbd2fc6dc77",
   "execution_count": 18
  },
  {
   "cell_type": "code",
   "outputs": [
    {
     "name": "stdout",
     "output_type": "stream",
     "text": [
      "Total unique IDs found in Data/0_Raw/Eyetracking/ ending with .txt files: 255 with a total of 1106 files\n"
     ]
    },
    {
     "data": {
      "text/plain": "['d093379ce1224f1bb24b9730da105927',\n '7c4a213768e645e4a46f4317ad87d76d',\n '2062aedb89224bb8a3f6982b487b4d27',\n 'f4db5c989fa64b90b31d396943964c12',\n '2462e5d82bc44a328934442cae03d83f',\n 'a9166f363d53462ea23ed7f26e798f63',\n '09a23914cf354ea39444511406d16722',\n '9b9220b8bf8c4e61adde8bc7571540ef',\n '6f7a67231a16454dbd657d2f48443aac',\n '2f3b9268b6dc4c04a0c77ef79ae52b36',\n '4ed7e605b1614ccc98269519940f6965',\n '2fe73e7e2534479aa59aeb91635906aa',\n 'ac50cb2dbe784eca9f86d1a424a3cf04',\n 'b298967064b144a4bbe4507238e66a80',\n 'f4c4e380b2b941e4a963fe12f4038865',\n '22d6fdd77f704e00aa350bf02adc9bc3',\n 'ce5d4e8191c541ae89395fe5e7920a02',\n '9c657fb86e9847bfbcd377a19157a71d',\n '5a99db5eeb8748db8a3a86f9015f78bd',\n 'ccb6fbce179d456c892ce2e029dd7fd1',\n 'a5c5d2051bd1493ea79e1d565524610f',\n '4702745fe0df4a778149aee6882a31de',\n 'ef2e9fc68dc5486084a0cc170db5462b',\n '7e732acc694248ceaa3547de5fc77639',\n 'b041b78d359c4763a53246d5ede93ffd',\n '95228b7595954054ae2d11cfbd7623f8',\n 'a5e665fb970b4b03a810698a63b3b635',\n '29006bddb3e8430582165c73bc7af864',\n '39e5235b13274feb88430f08f3cd5369',\n 'f6bf93fa2bb14083849d203d285bb594',\n 'f78cb865f76b4ce4879083715f112d91',\n '50bc84deece34316bc3b8e5bb5829a68',\n '76add0e05beb4e7ea99bda997efd7622',\n '1c293d21f60241008d6230a6f28e4079',\n 'e51c62a636934699b9a2b304635ba0fe',\n 'e5a628df7e514b288fb6c6024f32e6d8',\n '228bdb9398f6492092c45467428bb95a',\n '7de8141926e0497396bddddf37a1b115',\n 'f820d1c1117c4255a529f527c6c82d1f',\n '09e9bc26ef584ef29e0e4512f3ad9667',\n '951592742a88497989fbb71a65781639',\n '28d1f769c1204e36a574c025d8e771c4',\n '3358f368d8694472a86c4770d4f804bc',\n '084af34bc637486eaae66286929e9231',\n 'ab79e465598844af94e9bfdfca116fc4',\n 'f9c6ff61370141c89ea9bbc536d796e1',\n '9d21c3cf1fb64f87a7ee9f6612d31768',\n '8f9b8786312349639e8811f451054df0',\n 'f4bd3b070a864e38a01dac3bad73caf0',\n '8626976ce8b14752be340be9f1070724',\n '1d0296054e434021b3aa2b47b6c7d921',\n 'd42cd09ca7ea439cbb32c62c4353b7dc',\n 'b89680ab48514db8bca8fcca1852f36d',\n '1ec2d2a9a8ed4726bf38876fae1ad83a',\n '8e03eb1671774d3d9a35f97178902a45',\n '0037b2329de444c18d751b4e79901b39',\n 'f8199c55b531448aa14b053f0b1c099b',\n '72d882a3b9ec490bade6cb620b2b89c5',\n '1deaa8e567f1435da07c0817717ef4fe',\n '176031ab861f4d95bb7e3ec044879a65',\n '2763d041b30741d583498734a8ed3361',\n 'ad89416f02be4aacaf401afabc0e00e8',\n '5b086469856442e8abac0651c33e2c8e',\n 'c2029d7960134ff6853f6ae4b9f9ae84',\n '4a10fec1583843e5b1c82fb74fa7c775',\n '3e3154cff72540e48eac982a379ce69f',\n '7c0436814ca14e00bfab565cb89f4039',\n 'ff5026837ead4091afc0026b9e2142ac',\n 'd5daacd8fad2490fa1f12001b725271b',\n '1b72788aabfc4b6794b3ff9ce0e9d1cd',\n 'e02a32edf7494874b489598a611bd443',\n 'd5f3fa1c877f4afb9bc0250d5882c22c',\n 'd658fcf05c3d4944ad0020f42148184f',\n '2cae1d5a3c0c4872b2f397deb13ece71',\n '011846a5c30c4325b45e439fc992f519',\n '0c2734d5a8664e1abd2ffcf8aa6fa5d6',\n '3100b15011da48d88fa3f7f053e4e19f',\n '7824cc42ee0447a4a2fa56b9c93bbabb',\n '0117810eb9634c4f98f842021ee6a595',\n 'f3638c47301a4e3691a6289cdcddc8d0',\n 'b8c478ccbd8044ca83f54b4373cda25d',\n '9781349ffdbb4d38862d24d388ab4295',\n '199ee7cf632b42f89ca5771ba3d3e08f',\n '95e8781012c94d37a222b5679724cb1d',\n 'd5ff3f0d2ecd4865acf6954168148558',\n 'a466d4a8a3744a0195a568a1436bd7f2',\n 'cdc892a8498f4de8ba7563d28c02aa21',\n 'e113171c2c8c48679e92a0e241b31060',\n '0c0c45348e314379994333127e5456ae',\n '677eb13e053d46edb23876a1cf070e34',\n 'ff0cb5fdc1884204937eca64b52ee041',\n 'a57132e2aeba484e8433ae8af9b1abbc',\n '0956f0cca5f546d79a0cf4fbae23d496',\n 'bb85c212fe8842ec95b8e3dea2c524b0',\n 'c546bbc81ecb479bba2e85f9d19850cb',\n '1e5683fcc68a45bfa0e4d4454f6a01c0',\n '05086cebdd4c45a084ed3ce6b25cc9e6',\n '8d197adcbe654aebb414dd9650b8f622',\n 'b74d6990eba645fa82fa2ab9fb0b5180',\n 'a3bf7bf25cb54d37b0876393df38aa5f',\n '91519bcefe1844d595ff7317c00b0351',\n '5ff5cecd56f7486286ec386434ae9219',\n 'e40b4970b774409c9a98119ab5852b46',\n 'addd1085215d42b38184517a2dc95d8d',\n 'bf49132120f545da87b3b6f22ec95510',\n 'c5608223a11448d98a8ef6a497af5c07',\n 'f22dfb43e26d43068a9be221468d85dc',\n '3eac1d7156994e69a8df336b7304b550',\n 'b7f065b7dbbe442485552fa041d44b20',\n '3de6823af97441c18c8ca5f169b6e896',\n '50eb41004c744ed08237419b9cd2abd3',\n 'cb5d0147ad15497680895773bcb2d217',\n 'cd9a3616783e49b787244cd621e9cdb9',\n 'c141c1065c1b45a9bffe0a89a7032662',\n '6f36a58eb7d843a593a01191c53bc0d0',\n 'edb7b59f47a24fa1bab1b853790cd0ab',\n '206b42297be84c7087da6c93f46615bd',\n '0d72afe467e74d4fb717a4ab9bb128ac',\n 'eadeee63de7f40a4b4375733651d5dd1',\n 'a11a6bbf0bf8498c8eeb4118920209db',\n 'ac30f09446ec48289c41b66b1ba0d3f9',\n 'fd19a21a4a8846ca82bd127e4e1933f5',\n 'd18584bc440c4900ab9677fd5c411dc5',\n 'c47cc5dba3834b91899cc20534e0f7be',\n 'e65adf07df65405faff00b395537018b',\n 'e635375fe03d455384d473da39fd48e1',\n '8ba8fe140022448490326ad0d25ef5a3',\n '8b27ff8591af4cd79067cf156d23ab95',\n 'debf0264467d42c1854783622182005c',\n '5b79b725686a4985b5caf35de0e06d43',\n 'c8e6b81ee11d426a83bb4ea603a2af19',\n '8245ccbaba844032b08f7c33d9c4308a',\n 'bf6200b3d8964cfb95a76d7156871682',\n '39e38c2aa06c42d79e50f36b631f9652',\n '7b1f3e040a654bb7afff67a711e46081',\n '0d0d7bd79b1a48d4ad5e757cdbfc15c9',\n 'acfee71f81c443c2bd5b2290e5fd120c',\n 'd0177d0096d34d79ad20632ce2de1683',\n '861f9d156a7a4372adc36d4cba454abb',\n 'cc9284dfb5f645858196537e05c1959b',\n 'e204e48fbca64ed9a9aa05a213dc8381',\n '0a68f111e4f448d3b8279db69cd9df5e',\n 'e3fcd0edd66947a483448ac28b5003b3',\n 'ef0636bf75a345fd937f66a883b23c4d',\n 'a33a91bbd197432c91a8156f88e46c08',\n '47a3b1dd7c6b41cd875935c7049d97d6',\n 'f767840dc9b94eeabb8d0cfb2a5da57c',\n '87ad7392b6694a8da6744cbe03b1d263',\n 'e4dd95aaaa0f42cd8255267a22e4d183',\n 'c09f04f2c4bc40e48febedb7456baa6b',\n 'a0cd3c82306a47a68d7d048f1fe05286',\n '59e4db01ce4540939cc86023711c3994',\n '0cd51e7040bc43568284cdcedccfe0d3',\n '40ffa04f4781418c946b01206562b124',\n '42beaff8c918437dbb34a33f80c90674',\n 'c184e2d2fcc14fa8ac9c8f7b716537b7',\n '66bdb97a653b48f98c02d5e764089c00',\n 'befb23eb943c405b8183bd39f5d9d102',\n '7736a53b63874dde915148a2f4f4a753',\n '8e938189c22b4c168fa65d3174309d91',\n '4f6e20e3ce604a06b9f8408d0f850baa',\n 'fa4ca90c5b80445b9af0b7ec4fbcc124',\n '518e07b76d804110b035e3c774f52d5b',\n '11651f8400384fb1a6ac102e6696201c',\n '6ad4d759b7eb4ff392f6db00aec7678f',\n '8753a7212b79463e9b80143314a63a39',\n '9e731cf5dc92410698403de48f4dfd8c',\n '867545b969cc4ff088b70eab632671dd',\n '5fe54d902792467181089d8e4a73b80c',\n '8503c9e911d6446591ef74f25077292c',\n '81b4ef081c7f4f70b90f414b5d0144bf',\n 'f2fb2a62a3ca4033b9005be13842e27c',\n '7e3a3b57dc2a436faf7a21f010206bb6',\n '8c3f910d2ca947e9abe0cf5786c40ed3',\n '9af67bd8dba94cf599f830105cc0a5ab',\n 'e9ec1e6c22c640168130d2756426666c',\n '81957954cd71450cacc5fd738dd9ebd2',\n '4858c7aa9362421988e7c88d5adae755',\n '83b00eb628b2446d992ac698026dfdc0',\n 'c685e206b2eb4702860bb908afe2a11f',\n 'b482259cbb524e689a6e3859951bebf1',\n '3d865974f89e44c583e23e4f3c8f3d14',\n 'dd0e05a14d034ac996d6d78b9b74d2e3',\n 'e90c87a9ba554b8a96331451052c1ece',\n '3b4445b1f502437dab3e11c5eaeed1ee',\n 'b257a7a2aaf9485181bd9b8d6e851c15',\n 'fa2e2604ec6a4820851f032e80f09ba1',\n 'e01b2bb34b88409ab72849f4ae52277a',\n 'f70e1ed066804da1bf4a900f38d132d3',\n 'a7da330198d5442d92f4cb9a3ab49a62',\n '5c776e10348f4e3589cfc57be88546d2',\n '13ec39a03bbb465eae777fe9564c7e97',\n '221ef734e10c4139a22519cd623f715a',\n 'de17edda8c414228b075ee25c75c6c69',\n '240d3d0b36a34accb42f0d98d27fd744',\n '1efd4163b5614c8e9eed8e04c0ceda3e',\n 'ac80f2bb91324d71a06cc6dd9a8e2c9d',\n '44f89a79bcd2474781bb53db168050a6',\n '711fa186ae5e4d9fada5b0e0049a2074',\n '0ed7464df24848a68bcc2dfd1ec58f29',\n 'da49a4ef8443428192674cb184c1eb19',\n '56341d0729234d90ae05458aab4b43c4',\n 'beaea101b49242a183285032cc6357ea',\n 'b114be91b8144db2b503d0391f4868ef',\n '33380a28635d455ebcd6c6f011329554',\n '5da827b55d1e429daa583641b19e4951',\n '8d73ff4eb38f4c01b24ffda0981d3f3e',\n 'f0d19dd21d9c4d108419ff0982fb8a00',\n '62ed0ba3df27446c897e4544c7e8a960',\n '28191a22a70d478b808eb8905e35c6ba',\n 'e278f318559a49c09266bd5a19d2f41c',\n 'd9cd9704a0064fed9993333363608346',\n 'cf45d8bef0b842e5bac1b7022cc3c354',\n 'a5a31c4af00b4199ac4c8760bfaa469e',\n '7e7865d70c3c445a9a90aa6cc953ad67',\n 'cd59ccc5e16840b78e9b29a1bbafc571',\n 'b9620a4e3556466089591e8cdb4fe7ca',\n 'f0eb2a21700848549a2846b6c5b09ad5',\n '6272855738e14a46adbc93ebd79ca82e',\n 'beeea83429274984b2b016773492d208',\n '8fa9f3c28edc4b2a88556096f09ec8cb',\n '5e66bfb48366498aa83c364bf31c6059',\n '26f82ce33a204cdc90464729cabc4eda',\n 'ab52a15247f949cabdadee76a6cf2fc6',\n '46b71f8b8f2d44c9be998a771c7815c9',\n '324c3a0db2a64dc1ae182ed9d5911f00',\n 'c5253fb4bc5143118ac36b4e98f43dda',\n 'ff4288f304e74bbf93aa6508c7df8145',\n '311d107d0dbb466fb77b634971167c8b',\n '9ef3688b30eb405c9bc92ff7cc527955',\n 'a3191bcead8a4e278ff5b8927b89faf9',\n '36d1fc163246486b80956b4789fe6fa7',\n 'bfa47a32481e49b2b8ef5af3f44289c9',\n '22a1a4a35db9490d8dd8d69621690029',\n '27ee7a0bfc2840e38225f653232d1487',\n '47e5b0cb9fca4c5c9748b9e03e63a9a7',\n '1137044be4694bb1a6dc0b6185f8292b',\n '639b3915dc71412c8c47750703a5c0cc',\n '851861aa8d4748f1a179aa60b482b505',\n 'b9b90b488b2c47f4a0672cc18a385c6d',\n '7a9e89e5a21a442d93c88707c1585d1d',\n 'a710f3de91aa4ab1855aea34eb52a03e',\n 'a8f38db959114af0b49322bf0238a0a8',\n '806565e397a2453d8287d04d059399de',\n '989685d9ca454491b184984695786e20',\n '814f4159a5a14ea3afc13a683d0197c9',\n '4143d634d142409fabd7e43e8d4fe7a8',\n 'fa1e10f3495d49f69ee05224e4eaec4f',\n '178dd53ce37a40b0accd7a59cc9035ac',\n '0121f5b2f59d434f8beb17bf3e2a80b9',\n '68dee417b7c6402e80e3001a8d07ac53',\n '97fa63f17b4f4fd98355731cb513f5d4',\n '973efd2d86b64b7db7d5cc3f3f3725b2',\n '472bf3fb08d24c6db3d76964534665ab',\n '71bc29ba9b3c415f8575dcfb484a5fe2']"
     },
     "execution_count": 19,
     "metadata": {},
     "output_type": "execute_result"
    }
   ],
   "source": [
    "# Example usage:\n",
    "ids, matching_files_list = analyze_folder(raw_folder_path)\n",
    "\n",
    "print(f\"Total unique IDs found in {raw_folder_path} ending with .txt files: {len(ids)} with a total of {len(matching_files_list)} files\")\n",
    "list(ids)"
   ],
   "metadata": {
    "collapsed": false,
    "ExecuteTime": {
     "end_time": "2024-03-28T20:09:03.566897Z",
     "start_time": "2024-03-28T20:09:03.560092Z"
    }
   },
   "id": "8cbbc490ffb7936a",
   "execution_count": 19
  },
  {
   "cell_type": "markdown",
   "source": [
    "Calculate distance to determine closest objects hit"
   ],
   "metadata": {
    "collapsed": false
   },
   "id": "7ef8a7c8bac52f4b"
  },
  {
   "cell_type": "code",
   "outputs": [],
   "source": [
    "# Set the default distance between player and object if none can be calculated\n",
    "max_distance = 9999999\n",
    "number_of_closest_hit_objects = 5\n",
    "\n",
    "def distance(playerX, playerY, playerZ, objectX, objectY, objectZ):\n",
    "    global max_distance\n",
    "    if (objectX is None or objectY is None or objectZ is None or \n",
    "        playerX is None or playerY is None or playerZ is None):\n",
    "        return pd.Series([max_distance])\n",
    "    else:\n",
    "        return pd.Series([math.sqrt((objectX - playerX)**2 + (objectY - playerY)**2 + (objectZ - playerZ)**2)])"
   ],
   "metadata": {
    "collapsed": false,
    "ExecuteTime": {
     "end_time": "2024-03-28T20:09:03.907378Z",
     "start_time": "2024-03-28T20:09:03.901078Z"
    }
   },
   "id": "6b93062e94c9e9",
   "execution_count": 20
  },
  {
   "cell_type": "markdown",
   "source": [
    "**Threaded processing for eye tracking folder:**"
   ],
   "metadata": {
    "collapsed": false
   },
   "id": "954227c8941538dc"
  },
  {
   "cell_type": "code",
   "outputs": [],
   "source": [
    "def get_uid_calibration_data(folder_path):\n",
    "    folder_path = os.path.join(folder_path, '..', 'ParticipantCalibrationData')\n",
    "    _, matching_files_list = analyze_folder(folder_path)\n",
    "    df_cal = pd.DataFrame()\n",
    "    for txt_file in matching_files_list:\n",
    "        filename = os.path.join(folder_path, txt_file)\n",
    "        with open(filename, \"r\") as file:\n",
    "            data_list_cal = json.load(file)\n",
    "        df = pd.json_normalize(data_list_cal, max_level=1)\n",
    "        df_cal = pd.concat([df, df_cal], ignore_index=True)\n",
    "\n",
    "    df_cal['included'] = df_cal.apply(lambda row: ((row['EyeValidationError.x']<1.5) or (row['EyeValidationError.y']<1.5)) and\n",
    "                                                  (not 'EyeCalibrationSkipped' in row['SpecialNotes']) and\n",
    "                                                  (not 'EyeValidationSkipped' in row['SpecialNotes']) and\n",
    "                                                  (not 'Keyboard' in row['SteeringInputDevice']), axis = 1)\n",
    "    df_cal.rename(columns={'ParticipantUuid': 'uid'}, inplace=True)\n",
    "\n",
    "    return df_cal[['uid', 'included', 'ExperimentalCondition']]"
   ],
   "metadata": {
    "collapsed": false,
    "ExecuteTime": {
     "end_time": "2024-03-28T20:09:04.176959Z",
     "start_time": "2024-03-28T20:09:04.170236Z"
    }
   },
   "id": "55c8cca50954baa7",
   "execution_count": 21
  },
  {
   "cell_type": "code",
   "outputs": [],
   "source": [
    "def get_events_data(folder_path):\n",
    "    folder_path = os.path.join(folder_path, '..', 'SceneData')\n",
    "    _, matching_files_list = analyze_folder(folder_path)\n",
    "    df_scene = pd.DataFrame(columns=['uid'])\n",
    "    for txt_file in matching_files_list: \n",
    "        filename = os.path.join(folder_path, txt_file)\n",
    "        with open(filename, \"r\") as file:\n",
    "            data_list = json.load(file)\n",
    "        df = pd.json_normalize(data_list,'EventBehavior',max_level=1)\n",
    "\n",
    "        # Append file name information to dataframe\n",
    "        parts = get_filename_as_parts(txt_file)\n",
    "        df['uid'] = parts[0]\n",
    "        \n",
    "        df_scene = pd.concat([df_scene, df], ignore_index=True)\n",
    "\n",
    "    return df_scene"
   ],
   "metadata": {
    "collapsed": false,
    "ExecuteTime": {
     "end_time": "2024-03-28T20:09:04.329687Z",
     "start_time": "2024-03-28T20:09:04.322780Z"
    }
   },
   "id": "91d90987490ba673",
   "execution_count": 22
  },
  {
   "cell_type": "code",
   "outputs": [],
   "source": [
    "def get_input_data_per_uid(target_id, raw_folder_path):\n",
    "    # Get list of files for given uid\n",
    "    folder_path = os.path.join(raw_folder_path, '..', 'Input')\n",
    "    _, matching_files_list = analyze_folder(folder_path, target_id)\n",
    "\n",
    "    # Create output data frame and set most important columns to be the first ones\n",
    "    df = pd.DataFrame(columns=['uid'])\n",
    "    for txt_file in matching_files_list:\n",
    "        # Read file from disk\n",
    "        file_path = os.path.join(folder_path, txt_file)\n",
    "        with open(file_path, \"r\") as file:\n",
    "            data_list = json.load(file)\n",
    "        \n",
    "        # Create a DataFrame from the flattened data\n",
    "        df1 = pd.json_normalize(data_list, max_level=1)\n",
    "        \n",
    "        # Append file name information to dataframe\n",
    "        parts = get_filename_as_parts(txt_file)\n",
    "        df1['uid'] = parts[0]\n",
    "    \n",
    "        # # Merge into master datafram\n",
    "        df = pd.concat([df, df1], ignore_index=True)\n",
    "\n",
    "    # Sort and save preprocessed data per UID\n",
    "    df.sort_values(by=['uid', 'TimeStamp'], inplace=True)\n",
    "    df.drop_duplicates(inplace=True)\n",
    "\n",
    "    return df"
   ],
   "metadata": {
    "collapsed": false,
    "ExecuteTime": {
     "end_time": "2024-03-28T20:09:04.472184Z",
     "start_time": "2024-03-28T20:09:04.465649Z"
    }
   },
   "id": "1f6ab7516c38ee0f",
   "execution_count": 23
  },
  {
   "cell_type": "code",
   "outputs": [],
   "source": [
    "def add_input_data_to_eye_tracking_data(eye_tracking_data, raw_folder_path, target_id, errors_per_uid):\n",
    "    input_data = get_input_data_per_uid(target_id, raw_folder_path)\n",
    "    input_data.sort_values(by=['uid', 'TimeStamp'], inplace=True)\n",
    "    \n",
    "    result = pd.merge_asof(eye_tracking_data, input_data, left_on='UnixTimeStamp', right_on='TimeStamp', suffixes=('', '_input'), direction='nearest', tolerance=0.001)\n",
    "    \n",
    "    result.drop(columns=['uid_input'], inplace = True)\n",
    "    count_delta = result.count().loc['UnixTimeStamp'] - result.count().loc['TimeStamp']\n",
    "    if count_delta > 0:\n",
    "        print(f\"There are {count_delta} missing rows from 'input' data\")\n",
    "        errors_per_uid.append([target_id, f'Eye tracking data count vs. input data count mismatch: {count_delta}', result.count().loc['UnixTimeStamp'], result.count().loc['TimeStamp']])\n",
    "\n",
    "    result.sort_values(by=['uid', 'UnixTimeStamp'], inplace=True)\n",
    "    \n",
    "    return result, errors_per_uid"
   ],
   "metadata": {
    "collapsed": false,
    "ExecuteTime": {
     "end_time": "2024-03-28T20:09:04.605028Z",
     "start_time": "2024-03-28T20:09:04.598954Z"
    }
   },
   "id": "c8c81bec21ac6ad6",
   "execution_count": 24
  },
  {
   "cell_type": "code",
   "outputs": [],
   "source": [
    "def add_event_data_to_eye_tracking_data(eye_tracking_data, events):\n",
    "    result = eye_tracking_data.merge(events, how='left', left_on='uid', right_on='uid')\n",
    "    result = result[result['EventName'].isna() | ((result['UnixTimeStamp'] >= result['StartofEventTimeStamp']) & (result['UnixTimeStamp'] <= result['EndOfEventTimeStamp']))]\n",
    "    #result.drop(columns=['StartofEventTimeStamp', 'EndOfEventTimeStamp'], inplace = True)\n",
    "    result = pd.concat([result, eye_tracking_data[~eye_tracking_data['UnixTimeStamp'].isin(result['UnixTimeStamp'])]], ignore_index=True)\n",
    "    result.sort_values(by=['uid', 'UnixTimeStamp'], inplace=True)\n",
    "    \n",
    "    return result"
   ],
   "metadata": {
    "collapsed": false,
    "ExecuteTime": {
     "end_time": "2024-03-28T20:09:04.781123Z",
     "start_time": "2024-03-28T20:09:04.774561Z"
    }
   },
   "id": "b59365f8f1b53df0",
   "execution_count": 25
  },
  {
   "cell_type": "code",
   "outputs": [],
   "source": [
    "def add_additional_data_sources_and_save(eye_tracking_data, target_id, raw_folder_path, target_file_name, events, uid_conditions, errors_per_uid):\n",
    "    changed = False\n",
    "    if not set(['EventName']).issubset(set(eye_tracking_data.columns)):\n",
    "        print(f'...Adding EVENT data.')\n",
    "        eye_tracking_data = add_event_data_to_eye_tracking_data(eye_tracking_data, events)\n",
    "        changed = True\n",
    "    if not set(['SteeringInput']).issubset(set(eye_tracking_data.columns)):\n",
    "        print(f'...Adding INPUT data.')\n",
    "        eye_tracking_data, errors_per_uid = add_input_data_to_eye_tracking_data(eye_tracking_data, raw_folder_path, target_id, errors_per_uid)\n",
    "        changed = True\n",
    "    if not set(['ExperimentalCondition']).issubset(set(eye_tracking_data.columns)):\n",
    "        print(f'...Adding CONDITION data.')\n",
    "        eye_tracking_data['ExperimentalCondition'] = uid_conditions.loc[uid_conditions['uid'] == target_id, 'ExperimentalCondition'].item()\n",
    "        changed = True\n",
    "\n",
    "    if changed:\n",
    "        eye_tracking_data.to_csv(target_file_name, index = False)\n",
    "    else:\n",
    "        print(f'...SKIPPED!')\n",
    "    \n",
    "    return errors_per_uid\n"
   ],
   "metadata": {
    "collapsed": false,
    "ExecuteTime": {
     "end_time": "2024-03-28T20:09:04.958421Z",
     "start_time": "2024-03-28T20:09:04.952021Z"
    }
   },
   "id": "1957875e26bf1089",
   "execution_count": 26
  },
  {
   "cell_type": "code",
   "outputs": [],
   "source": [
    "def add_top_hitobjects(eye_tracking_dataframe, hitObjectDataFrame, target_file_name_all_hitobjects):\n",
    "    hitObjectDataFrame2 = hitObjectDataFrame.copy()\n",
    "\n",
    "    # Calculate object distaince to player\n",
    "    hitObjectDataFrame2['distanceToPlayer'] = hitObjectDataFrame.apply(lambda row: distance(row['HmdPosition.x'], row['HmdPosition.y'], row['HmdPosition.z'], row['HitObjectPosition.x'], row['HitObjectPosition.y'], row['HitObjectPosition.z']), axis=1)\n",
    "\n",
    "    # Calculate hit point distance to player to chose only the closest one later, e.g., in case of Terrain multiple hits may happen per frame\n",
    "    hitObjectDataFrame2['hitPointDistanceToPlayer'] = hitObjectDataFrame.apply(lambda row: distance(row['HmdPosition.x'], row['HmdPosition.y'], row['HmdPosition.z'], row['HitPointOnObject.x'], row['HitPointOnObject.y'], row['HitPointOnObject.z']), axis=1)\n",
    "\n",
    "    # Order the hit piont data frame by: timestamp, distance to player, and distance to hit point, clean up dataframe after\n",
    "    hitObjectDataFrame_ordered = hitObjectDataFrame2.sort_values(by=['UnixTimeStamp', 'distanceToPlayer', 'hitPointDistanceToPlayer'], ascending=True).drop_duplicates(subset=['UnixTimeStamp', 'ObjectName']).drop(['hitPointDistanceToPlayer', 'HmdPosition.x', 'HmdPosition.y', 'HmdPosition.z'], axis=1).reset_index(drop=True)\n",
    "    \n",
    "    # Create a rank column for all hit points in order and save hit object dataframe\n",
    "    hitObjectDataFrame_ordered['rank'] = hitObjectDataFrame_ordered.groupby('UnixTimeStamp').cumcount(ascending=True) + 1\n",
    "    hitObjectDataFrame_ordered.to_csv(target_file_name_all_hitobjects, index=False)\n",
    "\n",
    "    # Only kepp closest hit objects\n",
    "    hitObjectDataFrame_ordered = hitObjectDataFrame_ordered[hitObjectDataFrame_ordered['rank'] <= number_of_closest_hit_objects].reset_index(drop=True)\n",
    "\n",
    "    # Prepare for pivot: create the output list column, exclude rank and UnixTimstamp as they are used for pivoting\n",
    "    value_columns = hitObjectDataFrame_ordered.loc[:, (hitObjectDataFrame_ordered.columns != 'rank') & (hitObjectDataFrame_ordered.columns != 'UnixTimeStamp')].columns.tolist()\n",
    "    \n",
    "    # Pivot data frame around UnixTimeStamp and rank, then rename columns and drop the multi-level index\n",
    "    hitObjectDataFrameFinal = hitObjectDataFrame_ordered.pivot_table(index='UnixTimeStamp', columns='rank', values=value_columns, aggfunc='first', sort=False)\n",
    "    hitObjectDataFrameFinal.columns = [f'{a}_{b}' for a, b in hitObjectDataFrameFinal.columns]\n",
    "    hitObjectDataFrameFinal = hitObjectDataFrameFinal.reset_index()\n",
    "\n",
    "    df = eye_tracking_dataframe.merge(hitObjectDataFrameFinal, how='left', left_on=['UnixTimeStamp'], right_on=['UnixTimeStamp'])\n",
    "    df.sort_values(by=['uid', 'UnixTimeStamp'], inplace=True)\n",
    "\n",
    "    return df"
   ],
   "metadata": {
    "collapsed": false,
    "ExecuteTime": {
     "end_time": "2024-03-28T20:09:05.308330Z",
     "start_time": "2024-03-28T20:09:05.303996Z"
    }
   },
   "id": "f482f8f3824125bc",
   "execution_count": 27
  },
  {
   "cell_type": "code",
   "outputs": [],
   "source": [
    "def threaded_processing_eyetracking(target_id, raw_folder_path, preprocessed_folder_path, excluded_uids, errors_per_uid, uid_conditions, events, redo = False):\n",
    "    # Create output folder and set file names for data output\n",
    "    os.makedirs(os.path.join(preprocessed_folder_path, 'allHitObjects'), exist_ok=True)\n",
    "    target_file_name = os.path.join(preprocessed_folder_path, target_id + '.csv')\n",
    "    target_file_name_all_hitobjects = os.path.join(preprocessed_folder_path, 'allHitObjects', target_id + '_hitobjects.csv')\n",
    "\n",
    "    # Check if file already exists, if yes, check if any columns are missing\n",
    "    if os.path.isfile(target_file_name) and not redo:\n",
    "        existing_eye_tracking_data = pd.read_csv(target_file_name, low_memory=False)\n",
    "        print(f'File {target_id}.csv already exists...')\n",
    "        errors_per_uid = add_additional_data_sources_and_save(existing_eye_tracking_data, target_id, raw_folder_path, target_file_name, events, uid_conditions, errors_per_uid)\n",
    "        return excluded_uids, errors_per_uid\n",
    "    \n",
    "    # Otherwise: Get to work on specific UID starting with getting the list of all files for that UID\n",
    "    print(f\"\\nWorking on uid {target_id}...\")\n",
    "    print(f\"...using output folder {preprocessed_folder_path}\")\n",
    "    _, matching_files_list = analyze_folder(raw_folder_path, target_id)\n",
    "    \n",
    "    # Check for completeness, i.e., do not process UID if not all 4 major parts, excluding TrainingScene, are present\n",
    "    if len([e for e in matching_files_list if get_filename_as_parts(e)[1] != 'TrainingScene']) < 4:\n",
    "        excluded_uids.append([target_id, 'Incomplete drive'])\n",
    "        print(f\"[INFO] Excluded due to incomplete drive\")\n",
    "        return excluded_uids, errors_per_uid\n",
    "\n",
    "    # Create output data frames and set most important columns to be the first ones\n",
    "    df = pd.DataFrame(columns=['uid', 'dataset', 'city_section', 'ExperimentalCondition'])\n",
    "    df_hitObjects = pd.DataFrame(columns=['uid'])\n",
    "\n",
    "    # Stop flag helps to stop execution if empty files are found during processing\n",
    "    stop_flag = False\n",
    "    for txt_file in matching_files_list:\n",
    "        if stop_flag:\n",
    "            continue\n",
    "            \n",
    "        # Read file from disk\n",
    "        file_path = os.path.join(raw_folder_path, txt_file)\n",
    "        with open(file_path, \"r\") as file:\n",
    "            data_list = json.load(file)\n",
    "        \n",
    "        # If data file is empty, continue to next file\n",
    "        if len(data_list) == 0:            \n",
    "            excluded_uids.append([target_id, 'Empty files found'])\n",
    "            print(f\"[INFO] Excluded due to no data found in {txt_file}\")\n",
    "            stop_flag = True\n",
    "            continue\n",
    "            \n",
    "        # Create eye data DataFrame from the flattened data AND DROP DUPLICATES, which do exist in raw data\n",
    "        df1 = pd.json_normalize(data_list, max_level=1)\n",
    "        df1.drop(['hitObjects'], axis=1, inplace=True)\n",
    "        df1.drop_duplicates(inplace=True)\n",
    "        \n",
    "        # Create hit object data DataFrame from flattened hitObjects column\n",
    "        df1_hitObjects = pd.json_normalize(data_list, record_path=['hitObjects'], max_level = 1, meta=['UnixTimeStamp', 'HmdPosition'])\n",
    "        df1_hitObjects_head = pd.json_normalize(df1_hitObjects['HmdPosition'])\n",
    "        df1_hitObjects_head.rename(columns={'x': 'HmdPosition.x', 'y': 'HmdPosition.y', 'z': 'HmdPosition.z'}, inplace=True)\n",
    "        df1_hitObjects = pd.concat([df1_hitObjects.drop('HmdPosition', axis=1), df1_hitObjects_head], axis=1)\n",
    "        \n",
    "        # Append file name information to dataframe\n",
    "        parts = get_filename_as_parts(txt_file)\n",
    "        df1['uid'] = target_id\n",
    "        df1['dataset'] = parts[1]\n",
    "        df1['city_section'] = parts[2]\n",
    "        df1['ExperimentalCondition'] = uid_conditions.loc[uid_conditions['uid'] == target_id, 'ExperimentalCondition'].item()\n",
    "        \n",
    "        # Merge into master dataframe\n",
    "        df = pd.concat([df, df1], ignore_index=True)\n",
    "        df_hitObjects = pd.concat([df_hitObjects, df1_hitObjects], ignore_index=True)\n",
    "        \n",
    "    # Only continue if there was data found for a given uid\n",
    "    if len(df) > 0 and not stop_flag:\n",
    "        # Add hit object columns\n",
    "        df.sort_values(['uid', 'UnixTimeStamp'], inplace=True)\n",
    "        df_hitObjects.sort_values(['uid', 'UnixTimeStamp'], inplace=True)\n",
    "        df = add_top_hitobjects(df, df_hitObjects, target_file_name_all_hitobjects)\n",
    "\n",
    "        # Add input, event data and save file\n",
    "        errors_per_uid = add_additional_data_sources_and_save(df, target_id, raw_folder_path, target_file_name, events, uid_conditions, errors_per_uid)\n",
    "    \n",
    "    return excluded_uids, errors_per_uid"
   ],
   "metadata": {
    "collapsed": false,
    "ExecuteTime": {
     "end_time": "2024-03-28T20:09:05.497748Z",
     "start_time": "2024-03-28T20:09:05.493336Z"
    }
   },
   "id": "4dd2d2fc2c1ca8a3",
   "execution_count": 28
  },
  {
   "cell_type": "markdown",
   "source": [
    "**Threaded processing for Input data folder:**"
   ],
   "metadata": {
    "collapsed": false
   },
   "id": "e245666218d55a0b"
  },
  {
   "cell_type": "markdown",
   "source": [
    "**General pipeline to process .txt files into .csv format**"
   ],
   "metadata": {
    "collapsed": false
   },
   "id": "49236ff33d7269d"
  },
  {
   "cell_type": "code",
   "outputs": [],
   "source": [
    "def preprocess_txt_files(raw_folder_path, preprocessed_folder_path, multi_processing = False, specific_uids = []):\n",
    "    \"\"\"\n",
    "    Reads all .txt files in the specified folder.\n",
    "    :param raw_folder_path:\n",
    "    :param preprocessed_folder_path:\n",
    "    :param multi_processing: Put false to save all excluded UIDs; in multiprocessing = True it will not work\n",
    "    \"\"\"\n",
    "    start_time = time.time()\n",
    "\n",
    "    # Get conditions per UID\n",
    "    uid_conditions = get_uid_calibration_data(raw_folder_path)\n",
    "    \n",
    "    # Get event data per UID\n",
    "    events = get_events_data(raw_folder_path)\n",
    "    \n",
    "    # Load already excluded UIDs from previous\n",
    "    os.makedirs(preprocessed_folder_path, exist_ok=True)\n",
    "    excluded_uids_path = os.path.join(preprocessed_folder_path, '_excluded_uids.csv')\n",
    "    excluded_uids_columns = ['uid', 'reason']\n",
    "    print(f\"...using ALREADY EXCLUDED UID file {excluded_uids_path}\")\n",
    "    excluded_uids_df = pd.DataFrame(columns=excluded_uids_columns) if not os.path.isfile(excluded_uids_path) else pd.read_csv(excluded_uids_path)\n",
    "\n",
    "    errors_per_uid_path = os.path.join(preprocessed_folder_path, '_errors_per_uid.csv')\n",
    "    print(f\"...using ERRORS PER UID File {errors_per_uid_path}\")\n",
    "    errors_per_uid_columns = ['uid', 'error_type', 'number_1', 'number_2']\n",
    "    errors_per_uid_df = pd.DataFrame(columns=errors_per_uid_columns) if not os.path.isfile(errors_per_uid_path) else pd.read_csv(errors_per_uid_path)\n",
    "    \n",
    "    # Convert to list to be able to use .append()\n",
    "    excluded_uids = excluded_uids_df.values.tolist()\n",
    "    errors_per_uid = errors_per_uid_df.values.tolist()\n",
    "\n",
    "    # If specific UIDs are given, only process those\n",
    "    if len(specific_uids) > 0:\n",
    "        print(f\"Working on only SPECIFIC UIDs: {specific_uids}\")\n",
    "        ids_to_process = specific_uids\n",
    "    else:\n",
    "        # Get all participant uids in the given raw data folder\n",
    "        ids, _ = analyze_folder(raw_folder_path)\n",
    "        \n",
    "        # Select only valid uids to process\n",
    "        ids_to_process = [id for id in ids if uid_conditions.loc[uid_conditions['uid'] == id, 'included'].item()]\n",
    "        ids_to_process = [id for id in ids_to_process if id not in excluded_uids_df['uid'].values.tolist()]\n",
    "        \n",
    "        print(ids_to_process)\n",
    "\n",
    "        # Note down failed calibration reasons\n",
    "        for id in ids:\n",
    "            if not uid_conditions.loc[uid_conditions['uid'] == id, 'included'].bool():\n",
    "                excluded_uids.append([id, 'Failed calibration'])\n",
    "    \n",
    "    if multi_processing:\n",
    "        # Create a process pool, using the pathos fork of multiprocessing\n",
    "        pool = pathos.pools.ProcessPool()\n",
    "\n",
    "        # Use partial if the resulting function has more than one input variable, here: processing path, excluded UIDs\n",
    "        function = partial(threaded_processing_eyetracking, raw_folder_path=raw_folder_path, preprocessed_folder_path=preprocessed_folder_path, excluded_uids=excluded_uids, errors_per_uid=errors_per_uid, uid_conditions=uid_conditions, events=events)\n",
    "\n",
    "        # Execute pool across list of independent inputs\n",
    "        results = pool.map(function, list(ids_to_process))\n",
    "        for result in results:\n",
    "            for excluded_uid in result[0]:\n",
    "                excluded_uids.append(excluded_uid)\n",
    "            for error in result[1]:\n",
    "                errors_per_uid.append(error)\n",
    "    else:\n",
    "        for id in ids_to_process:\n",
    "            excluded_uids, errors_per_uid = threaded_processing_eyetracking(id, raw_folder_path, preprocessed_folder_path, excluded_uids, errors_per_uid, uid_conditions, events, redo=len(specific_uids) > 0)\n",
    "    \n",
    "    # Do not save state when specific UIDs are given\n",
    "    if len(specific_uids) == 0:\n",
    "        excluded_uids_df = pd.DataFrame(excluded_uids, columns=excluded_uids_columns)        \n",
    "        excluded_uids_df.drop_duplicates(inplace=True)\n",
    "        excluded_uids_df.to_csv(excluded_uids_path, index=False)\n",
    "\n",
    "        errors_per_uid_df = pd.DataFrame(errors_per_uid, columns=errors_per_uid_columns)        \n",
    "        errors_per_uid_df.drop_duplicates(inplace=True)\n",
    "        errors_per_uid_df.to_csv(errors_per_uid_path, index=False)\n",
    "    \n",
    "    end_time = time.time()\n",
    "\n",
    "    print(f\"\\nElapsed time to run this code: {end_time - start_time:.6f} seconds\")\n",
    "    print('DONE!')"
   ],
   "metadata": {
    "collapsed": false,
    "ExecuteTime": {
     "end_time": "2024-03-28T20:09:06.443404Z",
     "start_time": "2024-03-28T20:09:06.440063Z"
    }
   },
   "id": "b86748f2264d32f2",
   "execution_count": 29
  },
  {
   "cell_type": "markdown",
   "source": [
    "## 2. Applying pipeline to eye and input data"
   ],
   "metadata": {
    "collapsed": false
   },
   "id": "eedc1ab158ecdcf8"
  },
  {
   "cell_type": "code",
   "outputs": [],
   "source": [
    "specific_id = '8e03eb1671774d3d9a35f97178902a45'\n",
    "raw_folder_path = \"Data/0_Raw/Eyetracking/\"  # Replace with your actual folder path\n",
    "processed_folder_path = \"Data/1_Preprocessed/\""
   ],
   "metadata": {
    "collapsed": false,
    "ExecuteTime": {
     "end_time": "2024-03-28T20:09:16.350592Z",
     "start_time": "2024-03-28T20:09:16.344657Z"
    }
   },
   "id": "93ea389487660033",
   "execution_count": 31
  },
  {
   "cell_type": "code",
   "outputs": [
    {
     "name": "stdout",
     "output_type": "stream",
     "text": [
      "...using ALREADY EXCLUDED UID file Data/1_Preprocessed/_excluded_uids.csv\n",
      "...using ERRORS PER UID File Data/1_Preprocessed/_errors_per_uid.csv\n",
      "['7c4a213768e645e4a46f4317ad87d76d', '2062aedb89224bb8a3f6982b487b4d27', '2f3b9268b6dc4c04a0c77ef79ae52b36', '4ed7e605b1614ccc98269519940f6965', '2fe73e7e2534479aa59aeb91635906aa', 'ac50cb2dbe784eca9f86d1a424a3cf04', '22d6fdd77f704e00aa350bf02adc9bc3', '9c657fb86e9847bfbcd377a19157a71d', '5a99db5eeb8748db8a3a86f9015f78bd', 'ccb6fbce179d456c892ce2e029dd7fd1', 'ef2e9fc68dc5486084a0cc170db5462b', '7e732acc694248ceaa3547de5fc77639', 'b041b78d359c4763a53246d5ede93ffd', 'a5e665fb970b4b03a810698a63b3b635', '29006bddb3e8430582165c73bc7af864', 'f6bf93fa2bb14083849d203d285bb594', 'f78cb865f76b4ce4879083715f112d91', '50bc84deece34316bc3b8e5bb5829a68', '76add0e05beb4e7ea99bda997efd7622', 'e51c62a636934699b9a2b304635ba0fe', 'e5a628df7e514b288fb6c6024f32e6d8', '7de8141926e0497396bddddf37a1b115', 'f820d1c1117c4255a529f527c6c82d1f', '09e9bc26ef584ef29e0e4512f3ad9667', 'f9c6ff61370141c89ea9bbc536d796e1', '9d21c3cf1fb64f87a7ee9f6612d31768', '8e03eb1671774d3d9a35f97178902a45', '0037b2329de444c18d751b4e79901b39', 'f8199c55b531448aa14b053f0b1c099b', '72d882a3b9ec490bade6cb620b2b89c5', '176031ab861f4d95bb7e3ec044879a65', '2763d041b30741d583498734a8ed3361', 'ad89416f02be4aacaf401afabc0e00e8', '5b086469856442e8abac0651c33e2c8e', 'c2029d7960134ff6853f6ae4b9f9ae84', '4a10fec1583843e5b1c82fb74fa7c775', 'e02a32edf7494874b489598a611bd443', 'd658fcf05c3d4944ad0020f42148184f', '0117810eb9634c4f98f842021ee6a595', 'f3638c47301a4e3691a6289cdcddc8d0', '9781349ffdbb4d38862d24d388ab4295', 'd5ff3f0d2ecd4865acf6954168148558', 'a466d4a8a3744a0195a568a1436bd7f2', 'e113171c2c8c48679e92a0e241b31060', '677eb13e053d46edb23876a1cf070e34', '0956f0cca5f546d79a0cf4fbae23d496', 'bb85c212fe8842ec95b8e3dea2c524b0', 'c546bbc81ecb479bba2e85f9d19850cb', '1e5683fcc68a45bfa0e4d4454f6a01c0', 'a3bf7bf25cb54d37b0876393df38aa5f', '91519bcefe1844d595ff7317c00b0351', 'e40b4970b774409c9a98119ab5852b46', 'bf49132120f545da87b3b6f22ec95510', 'c5608223a11448d98a8ef6a497af5c07', 'f22dfb43e26d43068a9be221468d85dc', '3eac1d7156994e69a8df336b7304b550', 'b7f065b7dbbe442485552fa041d44b20', '50eb41004c744ed08237419b9cd2abd3', 'cb5d0147ad15497680895773bcb2d217', 'cd9a3616783e49b787244cd621e9cdb9', '6f36a58eb7d843a593a01191c53bc0d0', 'a11a6bbf0bf8498c8eeb4118920209db', 'd18584bc440c4900ab9677fd5c411dc5', 'c47cc5dba3834b91899cc20534e0f7be', 'e65adf07df65405faff00b395537018b', 'e635375fe03d455384d473da39fd48e1', 'debf0264467d42c1854783622182005c', 'c8e6b81ee11d426a83bb4ea603a2af19', 'bf6200b3d8964cfb95a76d7156871682', '7b1f3e040a654bb7afff67a711e46081', '0d0d7bd79b1a48d4ad5e757cdbfc15c9', 'acfee71f81c443c2bd5b2290e5fd120c', 'd0177d0096d34d79ad20632ce2de1683', 'e204e48fbca64ed9a9aa05a213dc8381', '0a68f111e4f448d3b8279db69cd9df5e', 'e3fcd0edd66947a483448ac28b5003b3', 'ef0636bf75a345fd937f66a883b23c4d', '47a3b1dd7c6b41cd875935c7049d97d6', 'f767840dc9b94eeabb8d0cfb2a5da57c', '87ad7392b6694a8da6744cbe03b1d263', 'e4dd95aaaa0f42cd8255267a22e4d183', 'c09f04f2c4bc40e48febedb7456baa6b', '59e4db01ce4540939cc86023711c3994', '42beaff8c918437dbb34a33f80c90674', 'befb23eb943c405b8183bd39f5d9d102', '7736a53b63874dde915148a2f4f4a753', '8e938189c22b4c168fa65d3174309d91', '4f6e20e3ce604a06b9f8408d0f850baa', '11651f8400384fb1a6ac102e6696201c', '6ad4d759b7eb4ff392f6db00aec7678f', '8753a7212b79463e9b80143314a63a39', '9e731cf5dc92410698403de48f4dfd8c', '5fe54d902792467181089d8e4a73b80c', '8503c9e911d6446591ef74f25077292c', '81b4ef081c7f4f70b90f414b5d0144bf', '8c3f910d2ca947e9abe0cf5786c40ed3', '9af67bd8dba94cf599f830105cc0a5ab', '81957954cd71450cacc5fd738dd9ebd2', 'dd0e05a14d034ac996d6d78b9b74d2e3', 'e90c87a9ba554b8a96331451052c1ece', '3b4445b1f502437dab3e11c5eaeed1ee', 'b257a7a2aaf9485181bd9b8d6e851c15', 'f70e1ed066804da1bf4a900f38d132d3', 'a7da330198d5442d92f4cb9a3ab49a62', '5c776e10348f4e3589cfc57be88546d2', '13ec39a03bbb465eae777fe9564c7e97', '221ef734e10c4139a22519cd623f715a', '240d3d0b36a34accb42f0d98d27fd744', 'ac80f2bb91324d71a06cc6dd9a8e2c9d', '44f89a79bcd2474781bb53db168050a6', '0ed7464df24848a68bcc2dfd1ec58f29', 'da49a4ef8443428192674cb184c1eb19', '56341d0729234d90ae05458aab4b43c4', 'beaea101b49242a183285032cc6357ea', '33380a28635d455ebcd6c6f011329554', '5da827b55d1e429daa583641b19e4951', 'f0d19dd21d9c4d108419ff0982fb8a00', 'e278f318559a49c09266bd5a19d2f41c', 'cd59ccc5e16840b78e9b29a1bbafc571', 'b9620a4e3556466089591e8cdb4fe7ca', 'f0eb2a21700848549a2846b6c5b09ad5', '6272855738e14a46adbc93ebd79ca82e', 'beeea83429274984b2b016773492d208', '8fa9f3c28edc4b2a88556096f09ec8cb', '26f82ce33a204cdc90464729cabc4eda', '46b71f8b8f2d44c9be998a771c7815c9', 'c5253fb4bc5143118ac36b4e98f43dda', '311d107d0dbb466fb77b634971167c8b', '9ef3688b30eb405c9bc92ff7cc527955', '36d1fc163246486b80956b4789fe6fa7', 'bfa47a32481e49b2b8ef5af3f44289c9', '27ee7a0bfc2840e38225f653232d1487', '47e5b0cb9fca4c5c9748b9e03e63a9a7', '7a9e89e5a21a442d93c88707c1585d1d', 'a8f38db959114af0b49322bf0238a0a8', '806565e397a2453d8287d04d059399de', '814f4159a5a14ea3afc13a683d0197c9', '0121f5b2f59d434f8beb17bf3e2a80b9', '68dee417b7c6402e80e3001a8d07ac53', '97fa63f17b4f4fd98355731cb513f5d4', '973efd2d86b64b7db7d5cc3f3f3725b2', '472bf3fb08d24c6db3d76964534665ab', '71bc29ba9b3c415f8575dcfb484a5fe2']\n",
      "\n",
      "Elapsed time to run this code: 5.866526 seconds\n",
      "DONE!\n"
     ]
    }
   ],
   "source": [
    "# Preprocess all files in the given raw folder (currently only EyeTracking input data)\n",
    "#preprocess_txt_files(raw_folder_path, processed_folder_path, multi_processing = False, specific_uids = [specific_id])\n",
    "preprocess_txt_files(raw_folder_path, processed_folder_path, multi_processing = True)"
   ],
   "metadata": {
    "collapsed": false,
    "ExecuteTime": {
     "end_time": "2024-03-28T20:09:22.746300Z",
     "start_time": "2024-03-28T20:09:16.877548Z"
    }
   },
   "id": "df330dfa432c386",
   "execution_count": 32
  },
  {
   "cell_type": "code",
   "outputs": [
    {
     "name": "stdout",
     "output_type": "stream",
     "text": [
      "Matching files:\n",
      "['97fa63f17b4f4fd98355731cb513f5d4', 'Input', 'MountainRoad']\n",
      "['97fa63f17b4f4fd98355731cb513f5d4', 'Input', 'TrainingScene']\n",
      "['97fa63f17b4f4fd98355731cb513f5d4', 'Input', 'Westbrueck']\n",
      "['97fa63f17b4f4fd98355731cb513f5d4', 'Input', 'CountryRoad']\n",
      "['97fa63f17b4f4fd98355731cb513f5d4', 'Input', 'Autobahn']\n"
     ]
    }
   ],
   "source": [
    "existing_eye_tracking_data = pd.read_csv(os.path.join(processed_folder_path, specific_id + '.csv'), low_memory=False)\n",
    "existing_input_data = get_input_data_per_uid(specific_id, raw_folder_path)"
   ],
   "metadata": {
    "collapsed": false
   },
   "id": "a7c1c4285562c14e",
   "execution_count": 51
  },
  {
   "cell_type": "code",
   "outputs": [
    {
     "data": {
      "text/plain": "uid                      37348\ndataset                  37348\ncity_section             37348\nExperimentalCondition    37348\nUnixTimeStamp            37348\n                         ...  \nTimeStamp                37347\nReceivedInput            37347\nSteeringInput            37347\nAcellerationInput        37347\nBrakeInput               37347\nLength: 80, dtype: int64"
     },
     "execution_count": 52,
     "metadata": {},
     "output_type": "execute_result"
    }
   ],
   "source": [
    "existing_eye_tracking_data.count()"
   ],
   "metadata": {
    "collapsed": false
   },
   "id": "564dc883973ca116",
   "execution_count": 52
  },
  {
   "cell_type": "code",
   "outputs": [
    {
     "data": {
      "text/plain": "uid                  37347\nTimeStamp            37347\nReceivedInput        37347\nSteeringInput        37347\nAcellerationInput    37347\nBrakeInput           37347\ndtype: int64"
     },
     "execution_count": 53,
     "metadata": {},
     "output_type": "execute_result"
    }
   ],
   "source": [
    "existing_input_data.count()"
   ],
   "metadata": {
    "collapsed": false,
    "ExecuteTime": {
     "end_time": "2024-03-24T17:19:20.583882Z",
     "start_time": "2024-03-24T17:19:20.573253Z"
    }
   },
   "id": "5c8eb9689bd6a529",
   "execution_count": 53
  },
  {
   "cell_type": "code",
   "outputs": [
    {
     "data": {
      "text/plain": "uid                  37347\nTimeStamp            37347\nReceivedInput        37347\nSteeringInput        37347\nAcellerationInput    37347\nBrakeInput           37347\ndtype: int64"
     },
     "execution_count": 27,
     "metadata": {},
     "output_type": "execute_result"
    }
   ],
   "source": [
    "existing_input_data.count().loc['UnixTimeStamp']-existing_input_data.count().loc['TimeStamp']"
   ],
   "metadata": {
    "collapsed": false,
    "ExecuteTime": {
     "end_time": "2024-03-24T17:11:44.495032Z",
     "start_time": "2024-03-24T17:11:44.485719Z"
    }
   },
   "id": "6011bc2d5bf5c590",
   "execution_count": 27
  },
  {
   "cell_type": "code",
   "outputs": [],
   "source": [
    "tscomp = pd.concat([existing_eye_tracking_data.sort_values(['UnixTimeStamp']).reset_index()['UnixTimeStamp'], existing_input_data.sort_values(['TimeStamp']).reset_index()['TimeStamp']], axis=1, sort=False)\n",
    "tscomp['delta'] = tscomp['UnixTimeStamp'] - tscomp['TimeStamp']\n",
    "tscomp"
   ],
   "metadata": {
    "collapsed": false
   },
   "id": "49aa505c0c7fa5f6"
  },
  {
   "cell_type": "code",
   "outputs": [
    {
     "data": {
      "text/plain": "             UnixTimeStamp            TimeStamp        delta\n0     1603188768.786129713 1603188768.784134626  0.001995087\n1     1603188768.800091505 1603188768.800091743 -0.000000238\n2     1603188768.821036100 1603188768.821035862  0.000000238\n3     1603188768.842976093 1603188768.842976093  0.000000000\n4     1603188768.865444422 1603188768.865444422  0.000000000\n...                    ...                  ...          ...\n37343 1603189491.063649416 1603189491.085590839 -0.021941423\n37344 1603189491.085590839 1603189491.107532263 -0.021941423\n37345 1603189491.107532501 1603189491.130339146 -0.022806644\n37346 1603189491.130339146 1603189491.141309977 -0.010970831\n37347 1603189491.141309977                  NaN          NaN\n\n[37348 rows x 3 columns]",
      "text/html": "<div>\n<style scoped>\n    .dataframe tbody tr th:only-of-type {\n        vertical-align: middle;\n    }\n\n    .dataframe tbody tr th {\n        vertical-align: top;\n    }\n\n    .dataframe thead th {\n        text-align: right;\n    }\n</style>\n<table border=\"1\" class=\"dataframe\">\n  <thead>\n    <tr style=\"text-align: right;\">\n      <th></th>\n      <th>UnixTimeStamp</th>\n      <th>TimeStamp</th>\n      <th>delta</th>\n    </tr>\n  </thead>\n  <tbody>\n    <tr>\n      <th>0</th>\n      <td>1603188768.786129713</td>\n      <td>1603188768.784134626</td>\n      <td>0.001995087</td>\n    </tr>\n    <tr>\n      <th>1</th>\n      <td>1603188768.800091505</td>\n      <td>1603188768.800091743</td>\n      <td>-0.000000238</td>\n    </tr>\n    <tr>\n      <th>2</th>\n      <td>1603188768.821036100</td>\n      <td>1603188768.821035862</td>\n      <td>0.000000238</td>\n    </tr>\n    <tr>\n      <th>3</th>\n      <td>1603188768.842976093</td>\n      <td>1603188768.842976093</td>\n      <td>0.000000000</td>\n    </tr>\n    <tr>\n      <th>4</th>\n      <td>1603188768.865444422</td>\n      <td>1603188768.865444422</td>\n      <td>0.000000000</td>\n    </tr>\n    <tr>\n      <th>...</th>\n      <td>...</td>\n      <td>...</td>\n      <td>...</td>\n    </tr>\n    <tr>\n      <th>37343</th>\n      <td>1603189491.063649416</td>\n      <td>1603189491.085590839</td>\n      <td>-0.021941423</td>\n    </tr>\n    <tr>\n      <th>37344</th>\n      <td>1603189491.085590839</td>\n      <td>1603189491.107532263</td>\n      <td>-0.021941423</td>\n    </tr>\n    <tr>\n      <th>37345</th>\n      <td>1603189491.107532501</td>\n      <td>1603189491.130339146</td>\n      <td>-0.022806644</td>\n    </tr>\n    <tr>\n      <th>37346</th>\n      <td>1603189491.130339146</td>\n      <td>1603189491.141309977</td>\n      <td>-0.010970831</td>\n    </tr>\n    <tr>\n      <th>37347</th>\n      <td>1603189491.141309977</td>\n      <td>NaN</td>\n      <td>NaN</td>\n    </tr>\n  </tbody>\n</table>\n<p>37348 rows × 3 columns</p>\n</div>"
     },
     "execution_count": 23,
     "metadata": {},
     "output_type": "execute_result"
    }
   ],
   "source": [
    "tscomp = pd.concat([existing_eye_tracking_data.sort_values(['UnixTimeStamp']).reset_index()['UnixTimeStamp'], existing_input_data.sort_values(['TimeStamp']).reset_index()['TimeStamp']], axis=1, sort=False)\n",
    "tscomp['delta'] = tscomp['UnixTimeStamp'] - tscomp['TimeStamp']\n",
    "tscomp"
   ],
   "metadata": {
    "collapsed": false,
    "ExecuteTime": {
     "end_time": "2024-03-24T12:00:04.125337Z",
     "start_time": "2024-03-24T12:00:04.102328Z"
    }
   },
   "id": "ded951bad5ed4887",
   "execution_count": 23
  },
  {
   "cell_type": "code",
   "outputs": [
    {
     "data": {
      "text/plain": "   number letter\n0       1      a\n1       2      b\n2       3      c\n3       4      d\n4       5      e",
      "text/html": "<div>\n<style scoped>\n    .dataframe tbody tr th:only-of-type {\n        vertical-align: middle;\n    }\n\n    .dataframe tbody tr th {\n        vertical-align: top;\n    }\n\n    .dataframe thead th {\n        text-align: right;\n    }\n</style>\n<table border=\"1\" class=\"dataframe\">\n  <thead>\n    <tr style=\"text-align: right;\">\n      <th></th>\n      <th>number</th>\n      <th>letter</th>\n    </tr>\n  </thead>\n  <tbody>\n    <tr>\n      <th>0</th>\n      <td>1</td>\n      <td>a</td>\n    </tr>\n    <tr>\n      <th>1</th>\n      <td>2</td>\n      <td>b</td>\n    </tr>\n    <tr>\n      <th>2</th>\n      <td>3</td>\n      <td>c</td>\n    </tr>\n    <tr>\n      <th>3</th>\n      <td>4</td>\n      <td>d</td>\n    </tr>\n    <tr>\n      <th>4</th>\n      <td>5</td>\n      <td>e</td>\n    </tr>\n  </tbody>\n</table>\n</div>"
     },
     "execution_count": 61,
     "metadata": {},
     "output_type": "execute_result"
    }
   ],
   "source": [
    "import pandas as pd\n",
    "import difflib\n",
    "\n",
    "# Sample dataframes with float indexes (replace with your actual data)\n",
    "df1 = pd.DataFrame([[1], [2], [3], [4], [5]],\n",
    "                   index=[1.1, 2.2, 3.3, 4.4, 5.5],\n",
    "                   columns=['number'])\n",
    "df1['index'] = df1.index.values\n",
    "\n",
    "df2 = pd.DataFrame([['a'], ['b'], ['c'], ['d'], ['e']],\n",
    "                   index=[1.2, 2.3, 3.4, 4.5, 5.6],\n",
    "                   columns=['letter'])\n",
    "df2['index'] = df2.index.values\n",
    "\n",
    "res = pd.merge(df1, df2, how='cross')\n",
    "res['delta'] = res['index_x'] - res['index_y']\n",
    "res = res[round(abs(res['delta']),1) <= 0.1].drop(['index_x', 'index_y', 'delta'], axis=1).reset_index(drop=True)\n",
    "res\n",
    "\n",
    "# Convert float indexes to a list\n",
    "# df1_index_list = df1.index.tolist()\n",
    "# \n",
    "# # Apply fuzzy matching to df2's index\n",
    "# df2.index = df2.index.map(lambda x: difflib.get_close_matches(x, df1_index_list)[0])\n",
    "# \n",
    "# # Merge the dataframes\n",
    "# result_df = df1.join(df2)\n",
    "# \n",
    "# print(result_df)\n",
    "\n"
   ],
   "metadata": {
    "collapsed": false,
    "ExecuteTime": {
     "end_time": "2024-03-24T12:45:52.238021Z",
     "start_time": "2024-03-24T12:45:52.233001Z"
    }
   },
   "id": "8819345e566460ff",
   "execution_count": 61
  },
  {
   "cell_type": "code",
   "outputs": [],
   "source": [
    "|# Sample file processing\n",
    "# file_path = '/Users/johnmadrid/GitHub/WestdriveLoopARData/Data/0_Raw/EyeTracking/66bdb97a653b48f98c02d5e764089c00_EyeTracking_Westbrueck.txt'  # Replace with the actual file path\n",
    "# \n",
    "# with open(file_path, 'r') as f:\n",
    "#     data_list = json.load(f)\n",
    "# df = pd.DataFrame([flatten_dict(d) for d in data_list])"
   ],
   "metadata": {
    "collapsed": false,
    "ExecuteTime": {
     "start_time": "2024-03-22T20:22:35.761233Z"
    }
   },
   "id": "9b4552f9ff7459e9",
   "execution_count": null
  },
  {
   "cell_type": "code",
   "outputs": [],
   "source": [
    "# # Processing of a single file's hit objects using iteration\n",
    "# allHitObjectsDataFrame = pd.DataFrame()\n",
    "# for i, _ in df.iterrows():\n",
    "#     co, _ = closest_objects('john', df['UnixTimeStamp'][i], df['hitObjects'][i], df['HmdPosition_x'][i], df['HmdPosition_y'][i], df['HmdPosition_z'][i])\n",
    "#     allHitObjectsDataFrame = pd.concat([allHitObjectsDataFrame, co], ignore_index=True)\n",
    "# \n",
    "# allHitObjectsDataFrame"
   ],
   "metadata": {
    "collapsed": false,
    "ExecuteTime": {
     "start_time": "2024-03-22T19:54:17.208623Z"
    }
   },
   "id": "988e6b2f2f52779f",
   "execution_count": null
  },
  {
   "cell_type": "code",
   "outputs": [
    {
     "data": {
      "text/plain": "               ObjectName  HitObjectPosition.x  HitObjectPosition.y  \\\n0   ForestRightMiddle (9)      -1429.000000000         36.000000000   \n1  ForestRightMiddle (11)      -1359.000000000         36.000000000   \n2        Autobahn_Terrain      -3527.879882812        -16.399993896   \n3   ForestRightMiddle (9)      -1429.000000000         36.000000000   \n4  ForestRightMiddle (11)      -1359.000000000         36.000000000   \n5        Autobahn_Terrain      -3527.879882812        -16.399993896   \n\n   HitObjectPosition.z  HitPointOnObject.x  HitPointOnObject.y  \\\n0       4020.000000000     -1431.610107422        20.807725906   \n1       4110.000000000     -1384.790039062        16.952075958   \n2       2682.000000000     -1560.227539062        31.399425507   \n3       4020.000000000     -1431.610107422        20.807725906   \n4       4110.000000000     -1384.790039062        16.952075958   \n5       2682.000000000     -1560.227539062        31.399425507   \n\n   HitPointOnObject.z        UnixTimeStamp   HmdPosition.x  HmdPosition.y  \\\n0      3995.349609375 1603189414.910360813 -1572.702270508   32.418270111   \n1      4099.828125000 1603189414.910360813 -1572.702270508   32.418270111   \n2      3708.339843750 1603189414.910360813 -1572.702270508   32.418270111   \n3      3995.349609375 1603189414.910360813 -1572.702270508   32.418270111   \n4      4099.828125000 1603189414.910360813 -1572.702270508   32.418270111   \n5      3708.339843750 1603189414.910360813 -1572.702270508   32.418270111   \n\n   HmdPosition.z  \n0 3680.587890625  \n1 3680.587890625  \n2 3680.587890625  \n3 3680.587890625  \n4 3680.587890625  \n5 3680.587890625  ",
      "text/html": "<div>\n<style scoped>\n    .dataframe tbody tr th:only-of-type {\n        vertical-align: middle;\n    }\n\n    .dataframe tbody tr th {\n        vertical-align: top;\n    }\n\n    .dataframe thead th {\n        text-align: right;\n    }\n</style>\n<table border=\"1\" class=\"dataframe\">\n  <thead>\n    <tr style=\"text-align: right;\">\n      <th></th>\n      <th>ObjectName</th>\n      <th>HitObjectPosition.x</th>\n      <th>HitObjectPosition.y</th>\n      <th>HitObjectPosition.z</th>\n      <th>HitPointOnObject.x</th>\n      <th>HitPointOnObject.y</th>\n      <th>HitPointOnObject.z</th>\n      <th>UnixTimeStamp</th>\n      <th>HmdPosition.x</th>\n      <th>HmdPosition.y</th>\n      <th>HmdPosition.z</th>\n    </tr>\n  </thead>\n  <tbody>\n    <tr>\n      <th>0</th>\n      <td>ForestRightMiddle (9)</td>\n      <td>-1429.000000000</td>\n      <td>36.000000000</td>\n      <td>4020.000000000</td>\n      <td>-1431.610107422</td>\n      <td>20.807725906</td>\n      <td>3995.349609375</td>\n      <td>1603189414.910360813</td>\n      <td>-1572.702270508</td>\n      <td>32.418270111</td>\n      <td>3680.587890625</td>\n    </tr>\n    <tr>\n      <th>1</th>\n      <td>ForestRightMiddle (11)</td>\n      <td>-1359.000000000</td>\n      <td>36.000000000</td>\n      <td>4110.000000000</td>\n      <td>-1384.790039062</td>\n      <td>16.952075958</td>\n      <td>4099.828125000</td>\n      <td>1603189414.910360813</td>\n      <td>-1572.702270508</td>\n      <td>32.418270111</td>\n      <td>3680.587890625</td>\n    </tr>\n    <tr>\n      <th>2</th>\n      <td>Autobahn_Terrain</td>\n      <td>-3527.879882812</td>\n      <td>-16.399993896</td>\n      <td>2682.000000000</td>\n      <td>-1560.227539062</td>\n      <td>31.399425507</td>\n      <td>3708.339843750</td>\n      <td>1603189414.910360813</td>\n      <td>-1572.702270508</td>\n      <td>32.418270111</td>\n      <td>3680.587890625</td>\n    </tr>\n    <tr>\n      <th>3</th>\n      <td>ForestRightMiddle (9)</td>\n      <td>-1429.000000000</td>\n      <td>36.000000000</td>\n      <td>4020.000000000</td>\n      <td>-1431.610107422</td>\n      <td>20.807725906</td>\n      <td>3995.349609375</td>\n      <td>1603189414.910360813</td>\n      <td>-1572.702270508</td>\n      <td>32.418270111</td>\n      <td>3680.587890625</td>\n    </tr>\n    <tr>\n      <th>4</th>\n      <td>ForestRightMiddle (11)</td>\n      <td>-1359.000000000</td>\n      <td>36.000000000</td>\n      <td>4110.000000000</td>\n      <td>-1384.790039062</td>\n      <td>16.952075958</td>\n      <td>4099.828125000</td>\n      <td>1603189414.910360813</td>\n      <td>-1572.702270508</td>\n      <td>32.418270111</td>\n      <td>3680.587890625</td>\n    </tr>\n    <tr>\n      <th>5</th>\n      <td>Autobahn_Terrain</td>\n      <td>-3527.879882812</td>\n      <td>-16.399993896</td>\n      <td>2682.000000000</td>\n      <td>-1560.227539062</td>\n      <td>31.399425507</td>\n      <td>3708.339843750</td>\n      <td>1603189414.910360813</td>\n      <td>-1572.702270508</td>\n      <td>32.418270111</td>\n      <td>3680.587890625</td>\n    </tr>\n  </tbody>\n</table>\n</div>"
     },
     "execution_count": 91,
     "metadata": {},
     "output_type": "execute_result"
    }
   ],
   "source": [
    "#file_path = os.path.join(raw_folder_input_path, txt_file)\n",
    "with open('/Users/johnmadrid/GitHub/WestdriveLoopARData/Data/97fa63f17b4f4fd98355731cb513f5d4_EyeTracking_Autobahn.txt', \"r\") as file:\n",
    "    data_list = json.load(file)\n",
    "    # Assuming the nested dictionary is in the 'acList' column\n",
    "normalized_data = pd.json_normalize(data_list, max_level = 1)\n",
    "normalized_data = pd.json_normalize(data_list, record_path=['hitObjects'], max_level = 1, meta=['UnixTimeStamp', 'HmdPosition'])\n",
    "#normalized_data[normalized_data['UnixTimeStamp'] == 1603189414.9103609]\n",
    "normalized_head_data = pd.json_normalize(normalized_data['HmdPosition'], record_prefix=['HmdPosition'])\n",
    "normalized_head_data.rename(columns={'x': 'HmdPosition.x', 'y': 'HmdPosition.y', 'z': 'HmdPosition.z'}, inplace=True)\n",
    "normalized_data = pd.concat([normalized_data.drop('HmdPosition', axis=1), normalized_head_data], axis=1)\n",
    "normalized_data\n",
    "\n",
    "# ############\n",
    "# # from ast import literal_eval\n",
    "# # normalized_data[\"hitObjects\"] = hitObjectList = literal_eval(normalized_data[\"hitObjects\"]) if isinstance(normalized_data[\"hitObjects\"], str) else normalized_data[\"hitObjects\"]\n",
    "# # normalized_data.head()"
   ],
   "metadata": {
    "collapsed": false,
    "ExecuteTime": {
     "end_time": "2024-03-24T10:32:10.475367Z",
     "start_time": "2024-03-24T10:32:10.466097Z"
    }
   },
   "id": "56685f214abbd562",
   "execution_count": 91
  },
  {
   "cell_type": "markdown",
   "source": [
    "|# 3. Extracting calibration data"
   ],
   "metadata": {
    "collapsed": false
   },
   "id": "1268a2493b0d57d7"
  },
  {
   "cell_type": "code",
   "outputs": [
    {
     "name": "stdout",
     "output_type": "stream",
     "text": [
      "Matching files:\n",
      "['0a68f111e4f448d3b8279db69cd9df5e', 'ParticipantCalibrationData']\n"
     ]
    },
    {
     "data": {
      "text/plain": "['0a68f111e4f448d3b8279db69cd9df5e_ParticipantCalibrationData.txt']"
     },
     "execution_count": 13,
     "metadata": {},
     "output_type": "execute_result"
    }
   ],
   "source": [
    "file_path_calibration = 'Data/0_Raw/ParticipantCalibrationData/'\n",
    "ids, matching_files_list = analyze_folder(file_path_calibration, '0a68f111e4f448d3b8279db69cd9df5e')\n",
    "matching_files_list"
   ],
   "metadata": {
    "collapsed": false,
    "ExecuteTime": {
     "end_time": "2024-03-22T06:49:26.668550Z",
     "start_time": "2024-03-22T06:49:26.665358Z"
    }
   },
   "id": "987250a2ec563647",
   "execution_count": 13
  },
  {
   "cell_type": "code",
   "outputs": [],
   "source": [
    "# Read calibration data and reject \n",
    "def reject_based_on_calibration_data(file_path_calibration):\n",
    "    df_cal = pd.DataFrame()\n",
    "    for filename in os.listdir(file_path_calibration):\n",
    "        with open(os.path.join(file_path_calibration, filename), \"r\") as file:\n",
    "            data_list_cal = json.load(file)\n",
    "            df1_cal = pd.json_normalize(data_list_cal, max_level=1)\n",
    "            df_cal = pd.concat([df1_cal, df_cal], ignore_index=True)\n",
    "            # Reject uid when eyeValidation error > 1.5\n",
    "            df_cal = df_cal[(df_cal['EyeValidationError.x']<1.5) | (df_cal['EyeValidationError.y']<1.5)]\n",
    "            # Reject uid that skipped eye calibration and/or validation\n",
    "            df_cal = df_cal[~df_cal['SpecialNotes'].str.contains('EyeCalibrationSkipped|EyeValidationSkipped')]\n",
    "            # Reject uid that contain keyboard as input device\n",
    "            df_cal= df_cal[~df_cal['SteeringInputDevice'].str.contains('Keyboard')]\n",
    "            # Drop unwanted columns\n",
    "            final_df = df_cal[['ParticipantUuid', 'ExperimentalCondition']]\n",
    "            \n",
    "    return final_df.rename(columns={'ParticipantUuid':'uid'})"
   ],
   "metadata": {
    "collapsed": false
   },
   "id": "5a7945b5c0ad2341",
   "execution_count": 385
  },
  {
   "cell_type": "code",
   "outputs": [
    {
     "data": {
      "text/plain": "'FullLoopAR'"
     },
     "execution_count": 9,
     "metadata": {},
     "output_type": "execute_result"
    }
   ],
   "source": [
    "df_cal = reject_based_on_calibration_data(file_path_calibration)\n",
    "df_cal[df_cal['uid']=='f8199c55b531448aa14b053f0b1c099b']['ExperimentalCondition'].iloc[0]"
   ],
   "metadata": {
    "collapsed": false,
    "ExecuteTime": {
     "end_time": "2024-03-22T06:46:51.571377Z",
     "start_time": "2024-03-22T06:46:51.366273Z"
    }
   },
   "id": "c7cd2389294437df",
   "execution_count": 9
  },
  {
   "cell_type": "code",
   "outputs": [
    {
     "name": "stdout",
     "output_type": "stream",
     "text": [
      "Total number of uid without calibration issues:  184\n"
     ]
    },
    {
     "data": {
      "text/plain": "                       uid\nExperimentalCondition     \nAudioOnly               34\nBaseCondition           51\nFullLoopAR              54\nHUDOnly                 45",
      "text/html": "<div>\n<style scoped>\n    .dataframe tbody tr th:only-of-type {\n        vertical-align: middle;\n    }\n\n    .dataframe tbody tr th {\n        vertical-align: top;\n    }\n\n    .dataframe thead th {\n        text-align: right;\n    }\n</style>\n<table border=\"1\" class=\"dataframe\">\n  <thead>\n    <tr style=\"text-align: right;\">\n      <th></th>\n      <th>uid</th>\n    </tr>\n    <tr>\n      <th>ExperimentalCondition</th>\n      <th></th>\n    </tr>\n  </thead>\n  <tbody>\n    <tr>\n      <th>AudioOnly</th>\n      <td>34</td>\n    </tr>\n    <tr>\n      <th>BaseCondition</th>\n      <td>51</td>\n    </tr>\n    <tr>\n      <th>FullLoopAR</th>\n      <td>54</td>\n    </tr>\n    <tr>\n      <th>HUDOnly</th>\n      <td>45</td>\n    </tr>\n  </tbody>\n</table>\n</div>"
     },
     "execution_count": 507,
     "metadata": {},
     "output_type": "execute_result"
    }
   ],
   "source": [
    "print(\"Total number of uid without calibration issues: \", len(df_cal))\n",
    "df_cal.groupby('ExperimentalCondition').count()"
   ],
   "metadata": {
    "collapsed": false,
    "ExecuteTime": {
     "end_time": "2024-03-20T18:12:51.764827Z",
     "start_time": "2024-03-20T18:12:51.758081Z"
    }
   },
   "id": "fbc44814fb80b434",
   "execution_count": 507
  },
  {
   "cell_type": "markdown",
   "source": [
    "## Scene DATA"
   ],
   "metadata": {
    "collapsed": false
   },
   "id": "cb141603f1471daf"
  },
  {
   "cell_type": "code",
   "outputs": [],
   "source": [
    "file_path_scene = '/Users/johnmadrid/GitHub/WestdriveLoopARData/Data/0_Raw/SceneData/'"
   ],
   "metadata": {
    "collapsed": false,
    "ExecuteTime": {
     "end_time": "2024-03-20T19:28:28.278700Z",
     "start_time": "2024-03-20T19:28:28.272752Z"
    }
   },
   "id": "6aee7bbd630d2ff5",
   "execution_count": 575
  },
  {
   "cell_type": "code",
   "outputs": [
    {
     "name": "stdout",
     "output_type": "stream",
     "text": [
      "Matching files:\n",
      "['e02a32edf7494874b489598a611bd443', 'SceneData', 'CountryRoad']\n",
      "['e02a32edf7494874b489598a611bd443', 'SceneData', 'Westbrueck']\n",
      "['e02a32edf7494874b489598a611bd443', 'SceneData', 'Autobahn']\n",
      "['e02a32edf7494874b489598a611bd443', 'SceneData', 'MountainRoad']\n",
      "['e02a32edf7494874b489598a611bd443', 'SceneData', 'TrainingScene']\n"
     ]
    }
   ],
   "source": [
    "uids, matching_files_list = analyze_folder(file_path_scene,target_id='e02a32edf7494874b489598a611bd443')"
   ],
   "metadata": {
    "collapsed": false,
    "ExecuteTime": {
     "end_time": "2024-03-20T19:28:30.377331Z",
     "start_time": "2024-03-20T19:28:30.369214Z"
    }
   },
   "id": "51dc6ce34e5c6606",
   "execution_count": 576
  },
  {
   "cell_type": "code",
   "outputs": [
    {
     "data": {
      "text/plain": "                                 uid    dataset  city_section  \\\n0   e02a32edf7494874b489598a611bd443  SceneData   CountryRoad   \n1   e02a32edf7494874b489598a611bd443  SceneData   CountryRoad   \n2   e02a32edf7494874b489598a611bd443  SceneData   CountryRoad   \n3   e02a32edf7494874b489598a611bd443  SceneData    Westbrueck   \n4   e02a32edf7494874b489598a611bd443  SceneData    Westbrueck   \n5   e02a32edf7494874b489598a611bd443  SceneData    Westbrueck   \n6   e02a32edf7494874b489598a611bd443  SceneData      Autobahn   \n7   e02a32edf7494874b489598a611bd443  SceneData      Autobahn   \n8   e02a32edf7494874b489598a611bd443  SceneData      Autobahn   \n9   e02a32edf7494874b489598a611bd443  SceneData  MountainRoad   \n10  e02a32edf7494874b489598a611bd443  SceneData  MountainRoad   \n11  e02a32edf7494874b489598a611bd443  SceneData  MountainRoad   \n\n               EventName  StartofEventTimeStamp  EndOfEventTimeStamp  \\\n0       MarketPlaceEvent           1.607341e+09         1.607341e+09   \n1           CyclistEvent           1.607341e+09         1.607341e+09   \n2      MotorcyclistEvent           1.607341e+09         1.607341e+09   \n3              I_variant           1.607341e+09         1.607341e+09   \n4             II_variant           1.607341e+09         1.607341e+09   \n5            III_variant           1.607341e+09         1.607341e+09   \n6                  Panne           1.607341e+09         1.607341e+09   \n7            GhostDriver           1.607341e+09         1.607341e+09   \n8              Baustelle           1.607341e+09         1.607341e+09   \n9           StagEventNew           1.607340e+09         1.607340e+09   \n10  FallingRocksEventNew           1.607340e+09         1.607340e+09   \n11           FogEventNew           1.607341e+09         1.607341e+09   \n\n    EventDuration SuccessfulCompletionState  HitObjectName  \n0       18.693071                      True                 \n1       15.789046                      True                 \n2        4.867074                     False  Motorcyclist2  \n3        2.936358                      True                 \n4        7.384221                     False           Cube  \n5        9.097585                      True                 \n6        4.647640                      True                 \n7       14.337612                     False        Carbody  \n8        3.787170                     False       Cube (9)  \n9       13.035500                      True                 \n10      11.768803                      True                 \n11      23.768691                      True                 ",
      "text/html": "<div>\n<style scoped>\n    .dataframe tbody tr th:only-of-type {\n        vertical-align: middle;\n    }\n\n    .dataframe tbody tr th {\n        vertical-align: top;\n    }\n\n    .dataframe thead th {\n        text-align: right;\n    }\n</style>\n<table border=\"1\" class=\"dataframe\">\n  <thead>\n    <tr style=\"text-align: right;\">\n      <th></th>\n      <th>uid</th>\n      <th>dataset</th>\n      <th>city_section</th>\n      <th>EventName</th>\n      <th>StartofEventTimeStamp</th>\n      <th>EndOfEventTimeStamp</th>\n      <th>EventDuration</th>\n      <th>SuccessfulCompletionState</th>\n      <th>HitObjectName</th>\n    </tr>\n  </thead>\n  <tbody>\n    <tr>\n      <th>0</th>\n      <td>e02a32edf7494874b489598a611bd443</td>\n      <td>SceneData</td>\n      <td>CountryRoad</td>\n      <td>MarketPlaceEvent</td>\n      <td>1.607341e+09</td>\n      <td>1.607341e+09</td>\n      <td>18.693071</td>\n      <td>True</td>\n      <td></td>\n    </tr>\n    <tr>\n      <th>1</th>\n      <td>e02a32edf7494874b489598a611bd443</td>\n      <td>SceneData</td>\n      <td>CountryRoad</td>\n      <td>CyclistEvent</td>\n      <td>1.607341e+09</td>\n      <td>1.607341e+09</td>\n      <td>15.789046</td>\n      <td>True</td>\n      <td></td>\n    </tr>\n    <tr>\n      <th>2</th>\n      <td>e02a32edf7494874b489598a611bd443</td>\n      <td>SceneData</td>\n      <td>CountryRoad</td>\n      <td>MotorcyclistEvent</td>\n      <td>1.607341e+09</td>\n      <td>1.607341e+09</td>\n      <td>4.867074</td>\n      <td>False</td>\n      <td>Motorcyclist2</td>\n    </tr>\n    <tr>\n      <th>3</th>\n      <td>e02a32edf7494874b489598a611bd443</td>\n      <td>SceneData</td>\n      <td>Westbrueck</td>\n      <td>I_variant</td>\n      <td>1.607341e+09</td>\n      <td>1.607341e+09</td>\n      <td>2.936358</td>\n      <td>True</td>\n      <td></td>\n    </tr>\n    <tr>\n      <th>4</th>\n      <td>e02a32edf7494874b489598a611bd443</td>\n      <td>SceneData</td>\n      <td>Westbrueck</td>\n      <td>II_variant</td>\n      <td>1.607341e+09</td>\n      <td>1.607341e+09</td>\n      <td>7.384221</td>\n      <td>False</td>\n      <td>Cube</td>\n    </tr>\n    <tr>\n      <th>5</th>\n      <td>e02a32edf7494874b489598a611bd443</td>\n      <td>SceneData</td>\n      <td>Westbrueck</td>\n      <td>III_variant</td>\n      <td>1.607341e+09</td>\n      <td>1.607341e+09</td>\n      <td>9.097585</td>\n      <td>True</td>\n      <td></td>\n    </tr>\n    <tr>\n      <th>6</th>\n      <td>e02a32edf7494874b489598a611bd443</td>\n      <td>SceneData</td>\n      <td>Autobahn</td>\n      <td>Panne</td>\n      <td>1.607341e+09</td>\n      <td>1.607341e+09</td>\n      <td>4.647640</td>\n      <td>True</td>\n      <td></td>\n    </tr>\n    <tr>\n      <th>7</th>\n      <td>e02a32edf7494874b489598a611bd443</td>\n      <td>SceneData</td>\n      <td>Autobahn</td>\n      <td>GhostDriver</td>\n      <td>1.607341e+09</td>\n      <td>1.607341e+09</td>\n      <td>14.337612</td>\n      <td>False</td>\n      <td>Carbody</td>\n    </tr>\n    <tr>\n      <th>8</th>\n      <td>e02a32edf7494874b489598a611bd443</td>\n      <td>SceneData</td>\n      <td>Autobahn</td>\n      <td>Baustelle</td>\n      <td>1.607341e+09</td>\n      <td>1.607341e+09</td>\n      <td>3.787170</td>\n      <td>False</td>\n      <td>Cube (9)</td>\n    </tr>\n    <tr>\n      <th>9</th>\n      <td>e02a32edf7494874b489598a611bd443</td>\n      <td>SceneData</td>\n      <td>MountainRoad</td>\n      <td>StagEventNew</td>\n      <td>1.607340e+09</td>\n      <td>1.607340e+09</td>\n      <td>13.035500</td>\n      <td>True</td>\n      <td></td>\n    </tr>\n    <tr>\n      <th>10</th>\n      <td>e02a32edf7494874b489598a611bd443</td>\n      <td>SceneData</td>\n      <td>MountainRoad</td>\n      <td>FallingRocksEventNew</td>\n      <td>1.607340e+09</td>\n      <td>1.607340e+09</td>\n      <td>11.768803</td>\n      <td>True</td>\n      <td></td>\n    </tr>\n    <tr>\n      <th>11</th>\n      <td>e02a32edf7494874b489598a611bd443</td>\n      <td>SceneData</td>\n      <td>MountainRoad</td>\n      <td>FogEventNew</td>\n      <td>1.607341e+09</td>\n      <td>1.607341e+09</td>\n      <td>23.768691</td>\n      <td>True</td>\n      <td></td>\n    </tr>\n  </tbody>\n</table>\n</div>"
     },
     "execution_count": 578,
     "metadata": {},
     "output_type": "execute_result"
    }
   ],
   "source": [],
   "metadata": {
    "collapsed": false,
    "ExecuteTime": {
     "end_time": "2024-03-20T19:28:57.653495Z",
     "start_time": "2024-03-20T19:28:57.641957Z"
    }
   },
   "id": "fe0e7e82a8edd882",
   "execution_count": 578
  },
  {
   "cell_type": "code",
   "outputs": [],
   "source": [],
   "metadata": {
    "collapsed": false
   },
   "id": "8ef2cf9e29f294ec"
  },
  {
   "cell_type": "code",
   "outputs": [],
   "source": [],
   "metadata": {
    "collapsed": false
   },
   "id": "14309dc8f7284036"
  }
 ],
 "metadata": {
  "kernelspec": {
   "display_name": "Python 3",
   "language": "python",
   "name": "python3"
  },
  "language_info": {
   "codemirror_mode": {
    "name": "ipython",
    "version": 2
   },
   "file_extension": ".py",
   "mimetype": "text/x-python",
   "name": "python",
   "nbconvert_exporter": "python",
   "pygments_lexer": "ipython2",
   "version": "2.7.6"
  }
 },
 "nbformat": 4,
 "nbformat_minor": 5
}
